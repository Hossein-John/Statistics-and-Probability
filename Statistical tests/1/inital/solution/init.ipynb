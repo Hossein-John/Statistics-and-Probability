{
 "cells": [
  {
   "cell_type": "markdown",
   "metadata": {},
   "source": [
    "<h1 align=center style=\"line-height:200%;font-family:vazir;color:#0099cc\">\n",
    "<font face=\"vazirmatn\" color=\"#0099cc\">\n",
    "کلاهبرداری پیاز جعفری\n",
    "</font>\n",
    "</h1>"
   ]
  },
  {
   "cell_type": "markdown",
   "metadata": {},
   "source": [
    "<h3 align=right style=\"line-height:200%;font-family:vazir;color:#0099cc\">\n",
    "<font face=\"vazirmatn\" color=\"#0099cc\">\n",
    "بخش ۱\n",
    "</font>\n",
    "</h3>"
   ]
  },
  {
   "cell_type": "markdown",
   "metadata": {},
   "source": [
    "<p dir=rtl style=\"direction: rtl;text-align: justify;line-height:200%;font-family:vazir;font-size:medium\">\n",
    "<font face=\"vazirmatn\" size=3>\n",
    "در سرزمین‌های دور پس از دوره‌ای گرانی، یک شرکت تولیدکننده‌ی تنقلات تصمیم گرفت تا به کم‌فروشی بپردازد و میزان چپیس کمتری را در بسته‌های چیپس ۴۰۰ گرمی خود قرار دهد. فردی بیکار و پولدار و البته بادغدغه در این بین، پس از مدتی مشاهده، به میزان وزن چپیس‌ها مشکوک شد.\n",
    "<br>\n",
    "این فرد پس از مدتی تصمیم گرفت تا تعدادی چیپس را بخرد و وزن آن‌ها را اندازه گیری کند. این فرد اندازه‌ی این بسته‌چپیس‌ها را در لیست زیر ریخته است:\n",
    "</font>\n",
    "</p>"
   ]
  },
  {
   "cell_type": "markdown",
   "metadata": {},
   "source": [
    "<h1 align=center style=\"line-height:200%;font-family:vazir;color:#0099cc\">\n"
   ]
  },
  {
   "cell_type": "code",
   "execution_count": 22,
   "metadata": {},
   "outputs": [],
   "source": [
    "weights = [325, 330, 389, 370, 378, 385, 368, 392, 374, 380, 295, 310, 340, 350, 363, 490,\n",
    "           376, 390, 367, 381, 379, 372, 387, 373, 369, 388, 450, 230, 289, 385, 390, 400]"
   ]
  },
  {
   "cell_type": "markdown",
   "metadata": {},
   "source": [
    "<p dir=rtl style=\"direction: rtl;text-align: justify;line-height:200%;font-family:vazir;font-size:medium\">\n",
    "<font face=\"vazirmatn\" size=3>\n",
    "این شخص برای این‌که به تحلیل بهتری دست پیدا کند، تصمیم‌می‌گیرد که چیپس‌های با وزن پرت را از داده‌های خود حذف کند. کد زیر را اجرا کنید تا وضعیت داده‌های پرت را ببینید.\n",
    "</font>\n",
    "</p>\n"
   ]
  },
  {
   "cell_type": "code",
   "execution_count": 2,
   "metadata": {},
   "outputs": [
    {
     "data": {
      "application/vnd.plotly.v1+json": {
       "config": {
        "plotlyServerURL": "https://plot.ly"
       },
       "data": [
        {
         "alignmentgroup": "True",
         "hovertemplate": "variable=%{x}<br>value=%{y}<extra></extra>",
         "legendgroup": "",
         "marker": {
          "color": "#636efa"
         },
         "name": "",
         "notched": false,
         "offsetgroup": "",
         "orientation": "v",
         "showlegend": false,
         "type": "box",
         "x": [
          "0",
          "0",
          "0",
          "0",
          "0",
          "0",
          "0",
          "0",
          "0",
          "0",
          "0",
          "0",
          "0",
          "0",
          "0",
          "0",
          "0",
          "0",
          "0",
          "0",
          "0",
          "0",
          "0",
          "0",
          "0",
          "0",
          "0",
          "0",
          "0",
          "0",
          "0",
          "0"
         ],
         "x0": " ",
         "xaxis": "x",
         "y": {
          "bdata": "RQFKAYUBcgF6AYEBcAGIAXYBfAEnATYBVAFeAWsB6gF4AYYBbwF9AXsBdAGDAXUBcQGEAcIB5gAhAYEBhgGQAQ==",
          "dtype": "i2"
         },
         "y0": " ",
         "yaxis": "y"
        }
       ],
       "layout": {
        "boxmode": "group",
        "legend": {
         "tracegroupgap": 0
        },
        "template": {
         "data": {
          "bar": [
           {
            "error_x": {
             "color": "#2a3f5f"
            },
            "error_y": {
             "color": "#2a3f5f"
            },
            "marker": {
             "line": {
              "color": "#E5ECF6",
              "width": 0.5
             },
             "pattern": {
              "fillmode": "overlay",
              "size": 10,
              "solidity": 0.2
             }
            },
            "type": "bar"
           }
          ],
          "barpolar": [
           {
            "marker": {
             "line": {
              "color": "#E5ECF6",
              "width": 0.5
             },
             "pattern": {
              "fillmode": "overlay",
              "size": 10,
              "solidity": 0.2
             }
            },
            "type": "barpolar"
           }
          ],
          "carpet": [
           {
            "aaxis": {
             "endlinecolor": "#2a3f5f",
             "gridcolor": "white",
             "linecolor": "white",
             "minorgridcolor": "white",
             "startlinecolor": "#2a3f5f"
            },
            "baxis": {
             "endlinecolor": "#2a3f5f",
             "gridcolor": "white",
             "linecolor": "white",
             "minorgridcolor": "white",
             "startlinecolor": "#2a3f5f"
            },
            "type": "carpet"
           }
          ],
          "choropleth": [
           {
            "colorbar": {
             "outlinewidth": 0,
             "ticks": ""
            },
            "type": "choropleth"
           }
          ],
          "contour": [
           {
            "colorbar": {
             "outlinewidth": 0,
             "ticks": ""
            },
            "colorscale": [
             [
              0,
              "#0d0887"
             ],
             [
              0.1111111111111111,
              "#46039f"
             ],
             [
              0.2222222222222222,
              "#7201a8"
             ],
             [
              0.3333333333333333,
              "#9c179e"
             ],
             [
              0.4444444444444444,
              "#bd3786"
             ],
             [
              0.5555555555555556,
              "#d8576b"
             ],
             [
              0.6666666666666666,
              "#ed7953"
             ],
             [
              0.7777777777777778,
              "#fb9f3a"
             ],
             [
              0.8888888888888888,
              "#fdca26"
             ],
             [
              1,
              "#f0f921"
             ]
            ],
            "type": "contour"
           }
          ],
          "contourcarpet": [
           {
            "colorbar": {
             "outlinewidth": 0,
             "ticks": ""
            },
            "type": "contourcarpet"
           }
          ],
          "heatmap": [
           {
            "colorbar": {
             "outlinewidth": 0,
             "ticks": ""
            },
            "colorscale": [
             [
              0,
              "#0d0887"
             ],
             [
              0.1111111111111111,
              "#46039f"
             ],
             [
              0.2222222222222222,
              "#7201a8"
             ],
             [
              0.3333333333333333,
              "#9c179e"
             ],
             [
              0.4444444444444444,
              "#bd3786"
             ],
             [
              0.5555555555555556,
              "#d8576b"
             ],
             [
              0.6666666666666666,
              "#ed7953"
             ],
             [
              0.7777777777777778,
              "#fb9f3a"
             ],
             [
              0.8888888888888888,
              "#fdca26"
             ],
             [
              1,
              "#f0f921"
             ]
            ],
            "type": "heatmap"
           }
          ],
          "histogram": [
           {
            "marker": {
             "pattern": {
              "fillmode": "overlay",
              "size": 10,
              "solidity": 0.2
             }
            },
            "type": "histogram"
           }
          ],
          "histogram2d": [
           {
            "colorbar": {
             "outlinewidth": 0,
             "ticks": ""
            },
            "colorscale": [
             [
              0,
              "#0d0887"
             ],
             [
              0.1111111111111111,
              "#46039f"
             ],
             [
              0.2222222222222222,
              "#7201a8"
             ],
             [
              0.3333333333333333,
              "#9c179e"
             ],
             [
              0.4444444444444444,
              "#bd3786"
             ],
             [
              0.5555555555555556,
              "#d8576b"
             ],
             [
              0.6666666666666666,
              "#ed7953"
             ],
             [
              0.7777777777777778,
              "#fb9f3a"
             ],
             [
              0.8888888888888888,
              "#fdca26"
             ],
             [
              1,
              "#f0f921"
             ]
            ],
            "type": "histogram2d"
           }
          ],
          "histogram2dcontour": [
           {
            "colorbar": {
             "outlinewidth": 0,
             "ticks": ""
            },
            "colorscale": [
             [
              0,
              "#0d0887"
             ],
             [
              0.1111111111111111,
              "#46039f"
             ],
             [
              0.2222222222222222,
              "#7201a8"
             ],
             [
              0.3333333333333333,
              "#9c179e"
             ],
             [
              0.4444444444444444,
              "#bd3786"
             ],
             [
              0.5555555555555556,
              "#d8576b"
             ],
             [
              0.6666666666666666,
              "#ed7953"
             ],
             [
              0.7777777777777778,
              "#fb9f3a"
             ],
             [
              0.8888888888888888,
              "#fdca26"
             ],
             [
              1,
              "#f0f921"
             ]
            ],
            "type": "histogram2dcontour"
           }
          ],
          "mesh3d": [
           {
            "colorbar": {
             "outlinewidth": 0,
             "ticks": ""
            },
            "type": "mesh3d"
           }
          ],
          "parcoords": [
           {
            "line": {
             "colorbar": {
              "outlinewidth": 0,
              "ticks": ""
             }
            },
            "type": "parcoords"
           }
          ],
          "pie": [
           {
            "automargin": true,
            "type": "pie"
           }
          ],
          "scatter": [
           {
            "fillpattern": {
             "fillmode": "overlay",
             "size": 10,
             "solidity": 0.2
            },
            "type": "scatter"
           }
          ],
          "scatter3d": [
           {
            "line": {
             "colorbar": {
              "outlinewidth": 0,
              "ticks": ""
             }
            },
            "marker": {
             "colorbar": {
              "outlinewidth": 0,
              "ticks": ""
             }
            },
            "type": "scatter3d"
           }
          ],
          "scattercarpet": [
           {
            "marker": {
             "colorbar": {
              "outlinewidth": 0,
              "ticks": ""
             }
            },
            "type": "scattercarpet"
           }
          ],
          "scattergeo": [
           {
            "marker": {
             "colorbar": {
              "outlinewidth": 0,
              "ticks": ""
             }
            },
            "type": "scattergeo"
           }
          ],
          "scattergl": [
           {
            "marker": {
             "colorbar": {
              "outlinewidth": 0,
              "ticks": ""
             }
            },
            "type": "scattergl"
           }
          ],
          "scattermap": [
           {
            "marker": {
             "colorbar": {
              "outlinewidth": 0,
              "ticks": ""
             }
            },
            "type": "scattermap"
           }
          ],
          "scattermapbox": [
           {
            "marker": {
             "colorbar": {
              "outlinewidth": 0,
              "ticks": ""
             }
            },
            "type": "scattermapbox"
           }
          ],
          "scatterpolar": [
           {
            "marker": {
             "colorbar": {
              "outlinewidth": 0,
              "ticks": ""
             }
            },
            "type": "scatterpolar"
           }
          ],
          "scatterpolargl": [
           {
            "marker": {
             "colorbar": {
              "outlinewidth": 0,
              "ticks": ""
             }
            },
            "type": "scatterpolargl"
           }
          ],
          "scatterternary": [
           {
            "marker": {
             "colorbar": {
              "outlinewidth": 0,
              "ticks": ""
             }
            },
            "type": "scatterternary"
           }
          ],
          "surface": [
           {
            "colorbar": {
             "outlinewidth": 0,
             "ticks": ""
            },
            "colorscale": [
             [
              0,
              "#0d0887"
             ],
             [
              0.1111111111111111,
              "#46039f"
             ],
             [
              0.2222222222222222,
              "#7201a8"
             ],
             [
              0.3333333333333333,
              "#9c179e"
             ],
             [
              0.4444444444444444,
              "#bd3786"
             ],
             [
              0.5555555555555556,
              "#d8576b"
             ],
             [
              0.6666666666666666,
              "#ed7953"
             ],
             [
              0.7777777777777778,
              "#fb9f3a"
             ],
             [
              0.8888888888888888,
              "#fdca26"
             ],
             [
              1,
              "#f0f921"
             ]
            ],
            "type": "surface"
           }
          ],
          "table": [
           {
            "cells": {
             "fill": {
              "color": "#EBF0F8"
             },
             "line": {
              "color": "white"
             }
            },
            "header": {
             "fill": {
              "color": "#C8D4E3"
             },
             "line": {
              "color": "white"
             }
            },
            "type": "table"
           }
          ]
         },
         "layout": {
          "annotationdefaults": {
           "arrowcolor": "#2a3f5f",
           "arrowhead": 0,
           "arrowwidth": 1
          },
          "autotypenumbers": "strict",
          "coloraxis": {
           "colorbar": {
            "outlinewidth": 0,
            "ticks": ""
           }
          },
          "colorscale": {
           "diverging": [
            [
             0,
             "#8e0152"
            ],
            [
             0.1,
             "#c51b7d"
            ],
            [
             0.2,
             "#de77ae"
            ],
            [
             0.3,
             "#f1b6da"
            ],
            [
             0.4,
             "#fde0ef"
            ],
            [
             0.5,
             "#f7f7f7"
            ],
            [
             0.6,
             "#e6f5d0"
            ],
            [
             0.7,
             "#b8e186"
            ],
            [
             0.8,
             "#7fbc41"
            ],
            [
             0.9,
             "#4d9221"
            ],
            [
             1,
             "#276419"
            ]
           ],
           "sequential": [
            [
             0,
             "#0d0887"
            ],
            [
             0.1111111111111111,
             "#46039f"
            ],
            [
             0.2222222222222222,
             "#7201a8"
            ],
            [
             0.3333333333333333,
             "#9c179e"
            ],
            [
             0.4444444444444444,
             "#bd3786"
            ],
            [
             0.5555555555555556,
             "#d8576b"
            ],
            [
             0.6666666666666666,
             "#ed7953"
            ],
            [
             0.7777777777777778,
             "#fb9f3a"
            ],
            [
             0.8888888888888888,
             "#fdca26"
            ],
            [
             1,
             "#f0f921"
            ]
           ],
           "sequentialminus": [
            [
             0,
             "#0d0887"
            ],
            [
             0.1111111111111111,
             "#46039f"
            ],
            [
             0.2222222222222222,
             "#7201a8"
            ],
            [
             0.3333333333333333,
             "#9c179e"
            ],
            [
             0.4444444444444444,
             "#bd3786"
            ],
            [
             0.5555555555555556,
             "#d8576b"
            ],
            [
             0.6666666666666666,
             "#ed7953"
            ],
            [
             0.7777777777777778,
             "#fb9f3a"
            ],
            [
             0.8888888888888888,
             "#fdca26"
            ],
            [
             1,
             "#f0f921"
            ]
           ]
          },
          "colorway": [
           "#636efa",
           "#EF553B",
           "#00cc96",
           "#ab63fa",
           "#FFA15A",
           "#19d3f3",
           "#FF6692",
           "#B6E880",
           "#FF97FF",
           "#FECB52"
          ],
          "font": {
           "color": "#2a3f5f"
          },
          "geo": {
           "bgcolor": "white",
           "lakecolor": "white",
           "landcolor": "#E5ECF6",
           "showlakes": true,
           "showland": true,
           "subunitcolor": "white"
          },
          "hoverlabel": {
           "align": "left"
          },
          "hovermode": "closest",
          "mapbox": {
           "style": "light"
          },
          "paper_bgcolor": "white",
          "plot_bgcolor": "#E5ECF6",
          "polar": {
           "angularaxis": {
            "gridcolor": "white",
            "linecolor": "white",
            "ticks": ""
           },
           "bgcolor": "#E5ECF6",
           "radialaxis": {
            "gridcolor": "white",
            "linecolor": "white",
            "ticks": ""
           }
          },
          "scene": {
           "xaxis": {
            "backgroundcolor": "#E5ECF6",
            "gridcolor": "white",
            "gridwidth": 2,
            "linecolor": "white",
            "showbackground": true,
            "ticks": "",
            "zerolinecolor": "white"
           },
           "yaxis": {
            "backgroundcolor": "#E5ECF6",
            "gridcolor": "white",
            "gridwidth": 2,
            "linecolor": "white",
            "showbackground": true,
            "ticks": "",
            "zerolinecolor": "white"
           },
           "zaxis": {
            "backgroundcolor": "#E5ECF6",
            "gridcolor": "white",
            "gridwidth": 2,
            "linecolor": "white",
            "showbackground": true,
            "ticks": "",
            "zerolinecolor": "white"
           }
          },
          "shapedefaults": {
           "line": {
            "color": "#2a3f5f"
           }
          },
          "ternary": {
           "aaxis": {
            "gridcolor": "white",
            "linecolor": "white",
            "ticks": ""
           },
           "baxis": {
            "gridcolor": "white",
            "linecolor": "white",
            "ticks": ""
           },
           "bgcolor": "#E5ECF6",
           "caxis": {
            "gridcolor": "white",
            "linecolor": "white",
            "ticks": ""
           }
          },
          "title": {
           "x": 0.05
          },
          "xaxis": {
           "automargin": true,
           "gridcolor": "white",
           "linecolor": "white",
           "ticks": "",
           "title": {
            "standoff": 15
           },
           "zerolinecolor": "white",
           "zerolinewidth": 2
          },
          "yaxis": {
           "automargin": true,
           "gridcolor": "white",
           "linecolor": "white",
           "ticks": "",
           "title": {
            "standoff": 15
           },
           "zerolinecolor": "white",
           "zerolinewidth": 2
          }
         }
        },
        "title": {
         "text": "Boxplot of Weights"
        },
        "xaxis": {
         "anchor": "y",
         "domain": [
          0,
          1
         ],
         "title": {
          "text": "variable"
         }
        },
        "yaxis": {
         "anchor": "x",
         "domain": [
          0,
          1
         ],
         "title": {
          "text": "value"
         }
        }
       }
      }
     },
     "metadata": {},
     "output_type": "display_data"
    }
   ],
   "source": [
    "# plot the Boxplot\n",
    "import plotly.express as px\n",
    "\n",
    "fig = px.box(weights, title='Boxplot of Weights')\n",
    "fig.show()"
   ]
  },
  {
   "cell_type": "markdown",
   "metadata": {},
   "source": [
    "<p dir=rtl style=\"direction: rtl;text-align: justify;line-height:200%;font-family:vazir;font-size:medium\">\n",
    "<font face=\"vazirmatn\" size=3>\n",
    "برای حذف داده‌های پرت از یک مجموعه داده، ابتدا باید مقادیر پرت را شناسایی کنیم. یکی از روش‌های استاندارد برای این کار، استفاده از <b>چارک‌ها و دامنه بین چارکی (IQR)</b> است. در این روش، ابتدا <b>چارک اول (Q1)</b> (صدک ۲۵٪) و <b>چارک سوم (Q3)</b> (صدک ۷۵٪) را محاسبه می‌کنیم. سپس مقدار <code>IQR</code> را به‌عنوان تفاضل بین این دو چارک به دست می‌آوریم. برای تعیین داده‌های پرت، بازه‌ای مشخص می‌شود که مقدارهای خارج از آن غیرعادی در نظر گرفته می‌شوند: مقادیر کمتر از <code>Q1 - 1.5 × IQR</code> یا بیشتر از <code>Q3 + 1.5 × IQR</code> به‌عنوان داده‌های پرت شناسایی می‌شوند. پس از شناسایی داده‌های پرت، می‌توان آن‌ها را از مجموعه داده حذف کرد. این کار معمولاً با <b>فیلتر کردن مقادیر داخل محدوده مجاز</b> انجام می‌شود.\n",
    "<br>\n",
    "برای حذف داده‌های پرت در <code>NumPy</code>، یکی از مهم‌ترین توابعی که می‌توان استفاده کرد، <code>np.percentile()</code> است. این تابع به ما امکان می‌دهد <b>چارک‌های اول (Q1) و سوم (Q3)</b> را محاسبه کنیم که برای تعیین محدوده‌ی داده‌های پرت ضروری هستند. پس از محاسبه این چارک‌ها، می‌توان <b>دامنه بین چارکی (IQR)</b> را با تفاضل <code>Q3 - Q1</code> محاسبه کرد. داده‌هایی که بیرون از بازه‌ی استاندارد <code>Q1 - 1.5×IQR</code> تا <code>Q3 + 1.5×IQR</code> قرار بگیرند، به‌عنوان مقادیر پرت در نظر گرفته می‌شوند. بنابراین داده‌هایی که داخل محدوده مجاز هستند را نگه می‌داریم.\n",
    "<br>\n",
    "اگر بخواهیم به ساده‌ترین شکل ممکن داده‌ها را بر اساس مقادیر به‌دست‌آمده <b>فیلتر کنیم</b>، می‌توانیم این کار را به‌صورت زیر انجام دهیم:\n",
    "</font>\n",
    "</p>\n"
   ]
  },
  {
   "cell_type": "markdown",
   "metadata": {},
   "source": [
    "```python\n",
    "filtered_data = data[(cond1) & (cond2)]\n",
    "```"
   ]
  },
  {
   "cell_type": "markdown",
   "metadata": {},
   "source": [
    "\n",
    "<p dir=rtl style=\"direction: rtl;text-align: justify;line-height:200%;font-family:vazir;font-size:medium\">\n",
    "<font face=\"vazirmatn\" size=3>\n",
    "در این کد، دو شرط اصلی <code>cond1</code> و <code>cond2</code> بررسی می‌کنند که داده‌ها در محدوده‌ی قابل قبول قرار دارند. سپس با استفاده از عملگر <code>&</code> داده‌هایی که <b>هر دو شرط را دارند</b> در لیست جدید باقی می‌مانند و داده‌های پرت حذف می‌شوند. این روش رویکردی کارآمد برای <b>پاک‌سازی داده‌ها</b> و بهبود دقت تحلیل‌های آماری ارائه می‌دهد.\n",
    "<br>\n",
    "<br>\n",
    "پس از حذف داده‌های پرت، لیست جدید را که مقادیر پرت در آن وجود ندارد را در متغیری با نام <code>filtered_weights</code> ذخیره کنید.\n",
    "</font>\n",
    "</p>\n"
   ]
  },
  {
   "cell_type": "code",
   "execution_count": 26,
   "metadata": {},
   "outputs": [
    {
     "name": "stdout",
     "output_type": "stream",
     "text": [
      "[325, 330, 389, 370, 378, 385, 368, 392, 374, 380, 310, 340, 350, 363, 376, 390, 367, 381, 379, 372, 387, 373, 369, 388, 230, 385, 390, 400]\n"
     ]
    }
   ],
   "source": [
    "# TODO: caculate the first and third quartiles and interquartile range (Q1 and Q3 and IQR) and the lower and upper bounds for outlier detection \n",
    "# then filter the weights to keep only the ones within the lower and upper bounds\n",
    "import numpy as np\n",
    "Q1 = np.percentile(weights, 25)\n",
    "Q3 = np.percentile(weights, 75)\n",
    "IQR = Q3 - Q1\n",
    "condition1 = weights > (Q3 + 1.5*IQR)\n",
    "condition2 = weights < (Q1 - 1.5*IQR)\n",
    "\n",
    "filtered_weights = weights\n",
    "\n",
    "for x in filtered_weights:\n",
    "    if x > (Q3 + 1.5*IQR):\n",
    "        filtered_weights.remove(x)\n",
    "    elif x < (Q1 - 1.5*IQR):\n",
    "        filtered_weights.remove(x)\n",
    "    else:\n",
    "        pass\n",
    "\n",
    "print(filtered_weights)"
   ]
  },
  {
   "cell_type": "markdown",
   "metadata": {},
   "source": [
    "\n",
    "<p dir=rtl style=\"direction: rtl;text-align: justify;line-height:200%;font-family:vazir;font-size:medium\">\n",
    "<font face=\"vazirmatn\" size=3>\n",
    "در گام بعدی تصمیم‌ می‌گیرد به ازای هر یک از مقادیر پیش‌بینی شده توسط خودش، برای وزن چیپس‌ها مقدار <code>p-value</code> را حساب کند. مقادیر پیشبینی خودش را برای وزن هر بسته چیپس در لیست زیر ذخیره کرده است. \n",
    "\n",
    "</font>\n",
    "</p>\n"
   ]
  },
  {
   "cell_type": "code",
   "execution_count": 27,
   "metadata": {},
   "outputs": [],
   "source": [
    "mass_list = [300, 325, 350, 375, 400]"
   ]
  },
  {
   "cell_type": "markdown",
   "metadata": {},
   "source": [
    "\n",
    "<p dir=rtl style=\"direction: rtl;text-align: justify;line-height:200%;font-family:vazir;font-size:medium\">\n",
    "<font face=\"vazirmatn\" size=3>\n",
    "شما بایستی به ازای هر یک از مقادیر پیشنهادی در لیست <code>mass_list</code> مقدار <code>p_value</code> را به کمک آزمون تی تک‌نمونه‌ای حساب کرده و به ترتیب در لیست <code>pvs</code> وارد کنید. سپس محتمل‌ترین وزن‌ها برای بسته‌های چیپس را به ترتیب میزان محتمل بودن در لیست <code>most_possible</code> وارد کنید.\n",
    "<br>\n",
    "دقت کنید که نیاز نیست که لیست <code>pvs</code> را مرتب‌سازی (sort) کنید و این لیست باید به همان ترتیب <code>mass_list</code> باشد. ولی باید لیست <code>most_possible</code> حتما بر اساس p-value مرتبط به هر وزن مرتب شود. به صورتی که وزنی که کمترین مقدار p-value را دارد باید در اول لیست باشد و وزن‌هایی با مقادیر p-value بیشتر به ترتیب بعد از آن بیایند.\n",
    "</font>\n",
    "</p>\n"
   ]
  },
  {
   "cell_type": "code",
   "execution_count": null,
   "metadata": {},
   "outputs": [
    {
     "data": {
      "text/plain": [
       "[300, 325, 350, 375, 400]"
      ]
     },
     "execution_count": 50,
     "metadata": {},
     "output_type": "execute_result"
    }
   ],
   "source": [
    "# TODO: calculate the p-values for each mass in mass_list and sort the masses by p-value in a way that the most possible mass comes first\n",
    "from scipy.stats import ttest_1samp\n",
    "\n",
    "pvs = [] # p-values for each mass in mass_list\n",
    "for i in mass_list:\n",
    "    ttest_res = ttest_1samp(filtered_weights, i)\n",
    "    pvs.append(float(ttest_res[1]/2))\n",
    "\n",
    "most_possible = sorted(mass_list, reverse=False)"
   ]
  },
  {
   "cell_type": "markdown",
   "metadata": {},
   "source": [
    "<h3 align=right style=\"line-height:200%;font-family:vazir;color:#0099cc\">\n",
    "<font face=\"vazirmatn\" color=\"#0099cc\">\n",
    "بخش ۲\n",
    "</font>\n",
    "</h3>"
   ]
  },
  {
   "cell_type": "markdown",
   "metadata": {},
   "source": [
    "\n",
    "<p dir=rtl style=\"direction: rtl;text-align: justify;line-height:200%;font-family:vazir;font-size:medium\">\n",
    "<font face=\"vazirmatn\" size=3>\n",
    "در این سرزمین دور، برند رقیب جدیدی به نام «چیپی چیپی» وارد بازار می‌شود و رقابت شدیدی با شرکت گران‌فروش ما دارد. مدیر برند «چیپی چیپی» به تازگی متوجه شده‌ است که ممکن است رقیبش از نظر میزان هوای موجود در بسته‌های خود، استانداردهای کیفیتی را رعایت نکرده باشد. \n",
    "<br>\n",
    "از آنجا که برند «چیپی چیپی» این استاندارد را به خوبی رعایت کرده است، از شما می‌خواهد که بررسی کنید که آیا تفاوت معناداری بین درصد حجم هوا در بسته‌های دو برند وجود دارد یا خیر. ما برای شما ۳۰ بسته از برند «چیپی چیپی» و ۳۰ بسته از برند  گران‌فروش را خریداری و درصد حجم هوای هر بسته را اندازه‌گیری کرده‌ایم و نتیجه را در متغیرهای زیر ذخیره کرده‌ایم.\n",
    "\n",
    "</font>\n",
    "</p>\n"
   ]
  },
  {
   "cell_type": "code",
   "execution_count": 51,
   "metadata": {},
   "outputs": [],
   "source": [
    "chipi_chipi_brand = [41.7, 41.9, 42.4, 42.5, 42.2, 41.7, 41.9, 41.5, 41.6, 42.0, 42.0, 42.0, 42.3, 41.5, 42.2, 42.1, 41.6, 41.6, 42.1, 42.1, 42.2, 41.5, 42.0, 41.6, 42.4]\n",
    "expensive_brand   = [44.2, 44.5, 44.8, 43.8, 44.2, 44.6, 45.8, 45.2, 45.9, 45.0, 45.0, 44.1, 43.9, 43.9, 44.5, 44.5, 44.7, 45.8, 45.2, 45.1, 45.4, 43.8, 44.2, 43.9, 44.6]"
   ]
  },
  {
   "cell_type": "markdown",
   "metadata": {},
   "source": [
    "<div dir=\"rtl\" style=\"direction: rtl; text-align: right; font-family: Vazir; font-size: medium; line-height: 200%;\">\n",
    "<font face=\"vazirmatn\" size=\"3\">\n",
    "برای این کار، از <b>آزمون تی مستقل (Independent t-test)</b> استفاده خواهیم کرد.\n",
    "نخست بهتر است که فرضیات آزمون را تعریف کنیم:\n",
    "\n",
    "<ul>\n",
    "<li><b>فرض صفر (<code>H₀</code>):</b> میانگین درصد حجم هوا در بسته‌های دو برند برابر است (هیچ تفاوت معناداری وجود ندارد).</li>\n",
    "<li><b>فرض جایگزین (<code>H₁</code>):</b> میانگین درصد حجم هوا در بسته‌های دو برند برابر نیست (تفاوت معناداری وجود دارد).</li>\n",
    "</ul>\n",
    "<br>\n",
    "\n",
    "<p>\n",
    "سپس با استفاده از تابع <code>ttest_ind</code> از کتابخانه <code>scipy.stats</code>، مقدار <b>t-statistic</b> و <b>p-value</b> را محاسبه کنید. همچنین درصد اطمینان ما ۹۵٪ است که نشان می‌دهد که:\n",
    "</p>\n",
    "<ul>\n",
    "<li>اگر مقدار <b>p-value</b> کمتر از <b>0.05</b> باشد، فرض صفر رد شده و نتیجه می‌گیریم که <b>تفاوت معناداری بین درصد حجم هوا در بسته‌های دو برند وجود دارد.</b></li>\n",
    "<li>اگر مقدار <b>p-value</b> بیشتر از <b>0.05</b> باشد، فرض صفر رد نمی‌شود و نتیجه می‌گیریم که <b>تفاوت معناداری بین درصد حجم هوا در بسته‌های دو برند مشاهده نشده است.</b></li>\n",
    "</ul>\n",
    "\n",
    "<p>\n",
    "حال ما از شما می‌خواهیم که این تست را با درصد اطمینان ۹۵٪ انجام دهید و نتیجه مربوط به فرض صفر را در متغیر <code>result</code> قرار دهید. برای مثال اگر فرض صفر مورد قبول است، باید مقدار  <code>”ACCEPT”</code> را در متغیر <code>result</code> بریزید و اگر فرض صفر رد شود، باید مقدار  <code>”REJECT”</code> را در متغیر <code>result</code> بریزید.\n",
    "</p>\n",
    "\n",
    "\n",
    "\n",
    "\n",
    "<br>\n",
    "<b>راهنمایی:</b>\n",
    "<ul>\n",
    "<li>از تابع <code>ttest_ind</code> استفاده کنید و پارامتر <code>equal_var=False</code> را تنظیم کنید، زیرا ممکن است واریانس دو گروه برابر نباشد.</li>\n",
    "<li>پس از اجرای آزمون، مقدار <b>t-statistic</b> و <b>p-value</b> را چاپ کنید و تحلیل خود را بر اساس مقدار <b>p-value</b> انجام دهید.</li>\n",
    "</ul>\n",
    "\n",
    "\n",
    "\n",
    "</font>\n",
    "</div>\n"
   ]
  },
  {
   "cell_type": "code",
   "execution_count": 56,
   "metadata": {},
   "outputs": [
    {
     "name": "stdout",
     "output_type": "stream",
     "text": [
      "REJECT\n"
     ]
    }
   ],
   "source": [
    "# TODO: Perform the independent t-test and collect the result.\n",
    "# if the null hypothesis is accepted set the result to \"ACCEPT\" otherwise set it to \"REJECT\"\n",
    "from scipy.stats import ttest_ind\n",
    "\n",
    "test_res = ttest_ind(chipi_chipi_brand, expensive_brand, equal_var=False)\n",
    "p_value = test_res[1]\n",
    "\n",
    "if p_value < 0.05:\n",
    "    result = 'REJECT'\n",
    "else: \n",
    "    result = 'ACCEPT'\n",
    "\n",
    "print(result)"
   ]
  },
  {
   "cell_type": "markdown",
   "metadata": {},
   "source": [
    "<h3 align=right style=\"line-height:200%;font-family:vazir;color:#0099cc\">\n",
    "<font face=\"vazirmatn\" color=\"#0099cc\">\n",
    "بیشتر بدانید\n",
    "</font>\n",
    "</h3>"
   ]
  },
  {
   "cell_type": "markdown",
   "metadata": {},
   "source": [
    "\n",
    "<p dir=rtl style=\"direction: rtl;text-align: justify;line-height:200%;font-family:vazir;font-size:medium\">\n",
    "<font face=\"vazirmatn\" size=3>\n",
    "نخست نگاهی به نمودار توزیع دو داده می‌اندازیم. به وضوح تفاوت توزیع دو برند مشخص است.\n",
    "</font>\n",
    "</p>\n"
   ]
  },
  {
   "cell_type": "code",
   "execution_count": 57,
   "metadata": {},
   "outputs": [
    {
     "data": {
      "application/vnd.plotly.v1+json": {
       "config": {
        "plotlyServerURL": "https://plot.ly"
       },
       "data": [
        {
         "legendgroup": "Chipi Chipi",
         "marker": {
          "color": "rgb(31, 119, 180)"
         },
         "mode": "lines",
         "name": "Chipi Chipi",
         "showlegend": true,
         "type": "scatter",
         "x": [
          41.5,
          41.502,
          41.504,
          41.506,
          41.508,
          41.51,
          41.512,
          41.514,
          41.516,
          41.518,
          41.52,
          41.522,
          41.524,
          41.526,
          41.528,
          41.53,
          41.532,
          41.534,
          41.536,
          41.538,
          41.54,
          41.542,
          41.544,
          41.546,
          41.548,
          41.55,
          41.552,
          41.554,
          41.556,
          41.558,
          41.56,
          41.562,
          41.564,
          41.566,
          41.568,
          41.57,
          41.572,
          41.574,
          41.576,
          41.578,
          41.58,
          41.582,
          41.584,
          41.586,
          41.588,
          41.59,
          41.592,
          41.594,
          41.596,
          41.598,
          41.6,
          41.602,
          41.604,
          41.606,
          41.608,
          41.61,
          41.612,
          41.614,
          41.616,
          41.618,
          41.62,
          41.622,
          41.624,
          41.626,
          41.628,
          41.63,
          41.632,
          41.634,
          41.636,
          41.638,
          41.64,
          41.642,
          41.644,
          41.646,
          41.648,
          41.65,
          41.652,
          41.654,
          41.656,
          41.658,
          41.66,
          41.662,
          41.664,
          41.666,
          41.668,
          41.67,
          41.672,
          41.674,
          41.676,
          41.678,
          41.68,
          41.682,
          41.684,
          41.686,
          41.688,
          41.69,
          41.692,
          41.694,
          41.696,
          41.698,
          41.7,
          41.702,
          41.704,
          41.706,
          41.708,
          41.71,
          41.712,
          41.714,
          41.716,
          41.718,
          41.72,
          41.722,
          41.724,
          41.726,
          41.728,
          41.73,
          41.732,
          41.734,
          41.736,
          41.738,
          41.74,
          41.742,
          41.744,
          41.746,
          41.748,
          41.75,
          41.752,
          41.754,
          41.756,
          41.758,
          41.76,
          41.762,
          41.764,
          41.766,
          41.768,
          41.77,
          41.772,
          41.774,
          41.776,
          41.778,
          41.78,
          41.782,
          41.784,
          41.786,
          41.788,
          41.79,
          41.792,
          41.794,
          41.796,
          41.798,
          41.8,
          41.802,
          41.804,
          41.806,
          41.808,
          41.81,
          41.812,
          41.814,
          41.816,
          41.818,
          41.82,
          41.822,
          41.824,
          41.826,
          41.828,
          41.83,
          41.832,
          41.834,
          41.836,
          41.838,
          41.84,
          41.842,
          41.844,
          41.846,
          41.848,
          41.85,
          41.852,
          41.854,
          41.856,
          41.858,
          41.86,
          41.862,
          41.864,
          41.866,
          41.868,
          41.87,
          41.872,
          41.874,
          41.876,
          41.878,
          41.88,
          41.882,
          41.884,
          41.886,
          41.888,
          41.89,
          41.892,
          41.894,
          41.896,
          41.898,
          41.9,
          41.902,
          41.904,
          41.906,
          41.908,
          41.91,
          41.912,
          41.914,
          41.916,
          41.918,
          41.92,
          41.922,
          41.924,
          41.926,
          41.928,
          41.93,
          41.932,
          41.934,
          41.936,
          41.938,
          41.94,
          41.942,
          41.944,
          41.946,
          41.948,
          41.95,
          41.952,
          41.954,
          41.956,
          41.958,
          41.96,
          41.962,
          41.964,
          41.966,
          41.968,
          41.97,
          41.972,
          41.974,
          41.976,
          41.978,
          41.98,
          41.982,
          41.984,
          41.986,
          41.988,
          41.99,
          41.992,
          41.994,
          41.996,
          41.998,
          42,
          42.002,
          42.004,
          42.006,
          42.008,
          42.01,
          42.012,
          42.014,
          42.016,
          42.018,
          42.02,
          42.022,
          42.024,
          42.026,
          42.028,
          42.03,
          42.032,
          42.034,
          42.036,
          42.038,
          42.04,
          42.042,
          42.044,
          42.046,
          42.048,
          42.05,
          42.052,
          42.054,
          42.056,
          42.058,
          42.06,
          42.062,
          42.064,
          42.066,
          42.068,
          42.07,
          42.072,
          42.074,
          42.076,
          42.078,
          42.08,
          42.082,
          42.084,
          42.086,
          42.088,
          42.09,
          42.092,
          42.094,
          42.096,
          42.098,
          42.1,
          42.102,
          42.104,
          42.106,
          42.108,
          42.11,
          42.112,
          42.114,
          42.116,
          42.118,
          42.12,
          42.122,
          42.124,
          42.126,
          42.128,
          42.13,
          42.132,
          42.134,
          42.136,
          42.138,
          42.14,
          42.142,
          42.144,
          42.146,
          42.148,
          42.15,
          42.152,
          42.154,
          42.156,
          42.158,
          42.16,
          42.162,
          42.164,
          42.166,
          42.168,
          42.17,
          42.172,
          42.174,
          42.176,
          42.178,
          42.18,
          42.182,
          42.184,
          42.186,
          42.188,
          42.19,
          42.192,
          42.194,
          42.196,
          42.198,
          42.2,
          42.202,
          42.204,
          42.206,
          42.208,
          42.21,
          42.212,
          42.214,
          42.216,
          42.218,
          42.22,
          42.222,
          42.224,
          42.226,
          42.228,
          42.23,
          42.232,
          42.234,
          42.236,
          42.238,
          42.24,
          42.242,
          42.244,
          42.246,
          42.248,
          42.25,
          42.252,
          42.254,
          42.256,
          42.258,
          42.26,
          42.262,
          42.264,
          42.266,
          42.268,
          42.27,
          42.272,
          42.274,
          42.276,
          42.278,
          42.28,
          42.282,
          42.284,
          42.286,
          42.288,
          42.29,
          42.292,
          42.294,
          42.296,
          42.298,
          42.3,
          42.302,
          42.304,
          42.306,
          42.308,
          42.31,
          42.312,
          42.314,
          42.316,
          42.318,
          42.32,
          42.322,
          42.324,
          42.326,
          42.328,
          42.33,
          42.332,
          42.334,
          42.336,
          42.338,
          42.34,
          42.342,
          42.344,
          42.346,
          42.348,
          42.35,
          42.352,
          42.354,
          42.356,
          42.358,
          42.36,
          42.362,
          42.364,
          42.366,
          42.368,
          42.37,
          42.372,
          42.374,
          42.376,
          42.378,
          42.38,
          42.382,
          42.384,
          42.386,
          42.388,
          42.39,
          42.392,
          42.394,
          42.396,
          42.398,
          42.4,
          42.402,
          42.404,
          42.406,
          42.408,
          42.41,
          42.412,
          42.414,
          42.416,
          42.418,
          42.42,
          42.422,
          42.424,
          42.426,
          42.428,
          42.43,
          42.432,
          42.434,
          42.436,
          42.438,
          42.44,
          42.442,
          42.444,
          42.446,
          42.448,
          42.45,
          42.452,
          42.454,
          42.456,
          42.458,
          42.46,
          42.462,
          42.464,
          42.466,
          42.468,
          42.47,
          42.472,
          42.474,
          42.476,
          42.478,
          42.48,
          42.482,
          42.484,
          42.486,
          42.488,
          42.49,
          42.492,
          42.494,
          42.496,
          42.498
         ],
         "xaxis": "x",
         "y": {
          "bdata": "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",
          "dtype": "f8"
         },
         "yaxis": "y"
        },
        {
         "legendgroup": "Expensive Brand",
         "marker": {
          "color": "rgb(255, 127, 14)"
         },
         "mode": "lines",
         "name": "Expensive Brand",
         "showlegend": true,
         "type": "scatter",
         "x": [
          43.8,
          43.804199999999994,
          43.8084,
          43.812599999999996,
          43.8168,
          43.821,
          43.825199999999995,
          43.8294,
          43.8336,
          43.837799999999994,
          43.842,
          43.846199999999996,
          43.8504,
          43.8546,
          43.858799999999995,
          43.863,
          43.8672,
          43.871399999999994,
          43.8756,
          43.879799999999996,
          43.884,
          43.8882,
          43.892399999999995,
          43.8966,
          43.9008,
          43.904999999999994,
          43.9092,
          43.913399999999996,
          43.9176,
          43.9218,
          43.925999999999995,
          43.9302,
          43.9344,
          43.938599999999994,
          43.9428,
          43.946999999999996,
          43.9512,
          43.9554,
          43.959599999999995,
          43.9638,
          43.967999999999996,
          43.972199999999994,
          43.9764,
          43.980599999999995,
          43.9848,
          43.989,
          43.993199999999995,
          43.9974,
          44.001599999999996,
          44.0058,
          44.01,
          44.014199999999995,
          44.0184,
          44.0226,
          44.026799999999994,
          44.031,
          44.035199999999996,
          44.0394,
          44.0436,
          44.047799999999995,
          44.052,
          44.0562,
          44.060399999999994,
          44.0646,
          44.068799999999996,
          44.073,
          44.0772,
          44.081399999999995,
          44.0856,
          44.0898,
          44.093999999999994,
          44.0982,
          44.102399999999996,
          44.1066,
          44.1108,
          44.114999999999995,
          44.1192,
          44.1234,
          44.127599999999994,
          44.1318,
          44.135999999999996,
          44.1402,
          44.1444,
          44.148599999999995,
          44.1528,
          44.157,
          44.1612,
          44.1654,
          44.169599999999996,
          44.1738,
          44.178,
          44.182199999999995,
          44.1864,
          44.190599999999996,
          44.1948,
          44.199,
          44.203199999999995,
          44.2074,
          44.2116,
          44.215799999999994,
          44.22,
          44.224199999999996,
          44.2284,
          44.2326,
          44.236799999999995,
          44.241,
          44.2452,
          44.249399999999994,
          44.2536,
          44.257799999999996,
          44.262,
          44.2662,
          44.270399999999995,
          44.2746,
          44.2788,
          44.282999999999994,
          44.2872,
          44.291399999999996,
          44.2956,
          44.2998,
          44.303999999999995,
          44.3082,
          44.3124,
          44.316599999999994,
          44.3208,
          44.324999999999996,
          44.3292,
          44.3334,
          44.337599999999995,
          44.3418,
          44.346,
          44.3502,
          44.3544,
          44.358599999999996,
          44.3628,
          44.367,
          44.371199999999995,
          44.3754,
          44.379599999999996,
          44.3838,
          44.388,
          44.392199999999995,
          44.3964,
          44.4006,
          44.404799999999994,
          44.409,
          44.413199999999996,
          44.4174,
          44.4216,
          44.425799999999995,
          44.43,
          44.4342,
          44.438399999999994,
          44.4426,
          44.446799999999996,
          44.451,
          44.4552,
          44.459399999999995,
          44.4636,
          44.4678,
          44.471999999999994,
          44.4762,
          44.480399999999996,
          44.4846,
          44.4888,
          44.492999999999995,
          44.4972,
          44.5014,
          44.5056,
          44.5098,
          44.513999999999996,
          44.5182,
          44.5224,
          44.526599999999995,
          44.5308,
          44.535,
          44.5392,
          44.5434,
          44.547599999999996,
          44.5518,
          44.556,
          44.560199999999995,
          44.5644,
          44.568599999999996,
          44.5728,
          44.577,
          44.581199999999995,
          44.5854,
          44.5896,
          44.593799999999995,
          44.598,
          44.602199999999996,
          44.6064,
          44.6106,
          44.614799999999995,
          44.619,
          44.6232,
          44.627399999999994,
          44.6316,
          44.635799999999996,
          44.64,
          44.6442,
          44.648399999999995,
          44.6526,
          44.6568,
          44.660999999999994,
          44.6652,
          44.669399999999996,
          44.6736,
          44.6778,
          44.681999999999995,
          44.6862,
          44.6904,
          44.6946,
          44.6988,
          44.702999999999996,
          44.7072,
          44.7114,
          44.715599999999995,
          44.7198,
          44.724,
          44.7282,
          44.7324,
          44.736599999999996,
          44.7408,
          44.745,
          44.749199999999995,
          44.7534,
          44.7576,
          44.7618,
          44.766,
          44.770199999999996,
          44.7744,
          44.7786,
          44.782799999999995,
          44.787,
          44.791199999999996,
          44.7954,
          44.7996,
          44.803799999999995,
          44.808,
          44.8122,
          44.816399999999994,
          44.8206,
          44.824799999999996,
          44.829,
          44.8332,
          44.837399999999995,
          44.8416,
          44.8458,
          44.849999999999994,
          44.8542,
          44.858399999999996,
          44.8626,
          44.8668,
          44.870999999999995,
          44.8752,
          44.8794,
          44.8836,
          44.8878,
          44.891999999999996,
          44.8962,
          44.9004,
          44.904599999999995,
          44.9088,
          44.913,
          44.9172,
          44.9214,
          44.925599999999996,
          44.9298,
          44.934,
          44.938199999999995,
          44.9424,
          44.9466,
          44.9508,
          44.955,
          44.959199999999996,
          44.9634,
          44.9676,
          44.971799999999995,
          44.976,
          44.980199999999996,
          44.9844,
          44.9886,
          44.992799999999995,
          44.997,
          45.0012,
          45.005399999999995,
          45.0096,
          45.013799999999996,
          45.018,
          45.0222,
          45.026399999999995,
          45.0306,
          45.0348,
          45.039,
          45.0432,
          45.047399999999996,
          45.0516,
          45.0558,
          45.059999999999995,
          45.0642,
          45.0684,
          45.0726,
          45.0768,
          45.080999999999996,
          45.0852,
          45.0894,
          45.093599999999995,
          45.0978,
          45.102,
          45.1062,
          45.1104,
          45.114599999999996,
          45.1188,
          45.123,
          45.127199999999995,
          45.1314,
          45.1356,
          45.1398,
          45.144,
          45.148199999999996,
          45.1524,
          45.1566,
          45.160799999999995,
          45.165,
          45.1692,
          45.1734,
          45.1776,
          45.181799999999996,
          45.186,
          45.1902,
          45.1944,
          45.1986,
          45.202799999999996,
          45.207,
          45.2112,
          45.215399999999995,
          45.2196,
          45.2238,
          45.227999999999994,
          45.2322,
          45.236399999999996,
          45.2406,
          45.2448,
          45.248999999999995,
          45.2532,
          45.2574,
          45.2616,
          45.2658,
          45.269999999999996,
          45.2742,
          45.2784,
          45.282599999999995,
          45.2868,
          45.291,
          45.2952,
          45.2994,
          45.303599999999996,
          45.3078,
          45.312,
          45.316199999999995,
          45.3204,
          45.3246,
          45.3288,
          45.333,
          45.337199999999996,
          45.3414,
          45.3456,
          45.3498,
          45.354,
          45.3582,
          45.3624,
          45.3666,
          45.370799999999996,
          45.375,
          45.3792,
          45.383399999999995,
          45.3876,
          45.391799999999996,
          45.396,
          45.4002,
          45.404399999999995,
          45.4086,
          45.4128,
          45.417,
          45.4212,
          45.425399999999996,
          45.4296,
          45.4338,
          45.437999999999995,
          45.4422,
          45.4464,
          45.4506,
          45.4548,
          45.458999999999996,
          45.4632,
          45.4674,
          45.471599999999995,
          45.4758,
          45.48,
          45.4842,
          45.4884,
          45.492599999999996,
          45.4968,
          45.501,
          45.505199999999995,
          45.5094,
          45.5136,
          45.5178,
          45.522,
          45.526199999999996,
          45.5304,
          45.5346,
          45.538799999999995,
          45.543,
          45.5472,
          45.5514,
          45.5556,
          45.559799999999996,
          45.564,
          45.5682,
          45.5724,
          45.5766,
          45.580799999999996,
          45.585,
          45.5892,
          45.593399999999995,
          45.5976,
          45.6018,
          45.606,
          45.6102,
          45.614399999999996,
          45.6186,
          45.6228,
          45.626999999999995,
          45.6312,
          45.6354,
          45.6396,
          45.6438,
          45.647999999999996,
          45.6522,
          45.6564,
          45.660599999999995,
          45.6648,
          45.669,
          45.6732,
          45.6774,
          45.681599999999996,
          45.6858,
          45.69,
          45.694199999999995,
          45.6984,
          45.7026,
          45.7068,
          45.711,
          45.715199999999996,
          45.7194,
          45.7236,
          45.7278,
          45.732,
          45.7362,
          45.7404,
          45.7446,
          45.748799999999996,
          45.753,
          45.7572,
          45.761399999999995,
          45.7656,
          45.7698,
          45.774,
          45.7782,
          45.782399999999996,
          45.7866,
          45.7908,
          45.795,
          45.7992,
          45.803399999999996,
          45.8076,
          45.8118,
          45.815999999999995,
          45.8202,
          45.8244,
          45.8286,
          45.8328,
          45.836999999999996,
          45.8412,
          45.8454,
          45.849599999999995,
          45.8538,
          45.858,
          45.8622,
          45.8664,
          45.870599999999996,
          45.8748,
          45.879,
          45.8832,
          45.8874,
          45.8916,
          45.8958
         ],
         "xaxis": "x",
         "y": {
          "bdata": "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",
          "dtype": "f8"
         },
         "yaxis": "y"
        }
       ],
       "layout": {
        "barmode": "overlay",
        "hovermode": "closest",
        "legend": {
         "title": {
          "text": "Brand"
         },
         "traceorder": "reversed"
        },
        "template": {
         "data": {
          "bar": [
           {
            "error_x": {
             "color": "#2a3f5f"
            },
            "error_y": {
             "color": "#2a3f5f"
            },
            "marker": {
             "line": {
              "color": "#E5ECF6",
              "width": 0.5
             },
             "pattern": {
              "fillmode": "overlay",
              "size": 10,
              "solidity": 0.2
             }
            },
            "type": "bar"
           }
          ],
          "barpolar": [
           {
            "marker": {
             "line": {
              "color": "#E5ECF6",
              "width": 0.5
             },
             "pattern": {
              "fillmode": "overlay",
              "size": 10,
              "solidity": 0.2
             }
            },
            "type": "barpolar"
           }
          ],
          "carpet": [
           {
            "aaxis": {
             "endlinecolor": "#2a3f5f",
             "gridcolor": "white",
             "linecolor": "white",
             "minorgridcolor": "white",
             "startlinecolor": "#2a3f5f"
            },
            "baxis": {
             "endlinecolor": "#2a3f5f",
             "gridcolor": "white",
             "linecolor": "white",
             "minorgridcolor": "white",
             "startlinecolor": "#2a3f5f"
            },
            "type": "carpet"
           }
          ],
          "choropleth": [
           {
            "colorbar": {
             "outlinewidth": 0,
             "ticks": ""
            },
            "type": "choropleth"
           }
          ],
          "contour": [
           {
            "colorbar": {
             "outlinewidth": 0,
             "ticks": ""
            },
            "colorscale": [
             [
              0,
              "#0d0887"
             ],
             [
              0.1111111111111111,
              "#46039f"
             ],
             [
              0.2222222222222222,
              "#7201a8"
             ],
             [
              0.3333333333333333,
              "#9c179e"
             ],
             [
              0.4444444444444444,
              "#bd3786"
             ],
             [
              0.5555555555555556,
              "#d8576b"
             ],
             [
              0.6666666666666666,
              "#ed7953"
             ],
             [
              0.7777777777777778,
              "#fb9f3a"
             ],
             [
              0.8888888888888888,
              "#fdca26"
             ],
             [
              1,
              "#f0f921"
             ]
            ],
            "type": "contour"
           }
          ],
          "contourcarpet": [
           {
            "colorbar": {
             "outlinewidth": 0,
             "ticks": ""
            },
            "type": "contourcarpet"
           }
          ],
          "heatmap": [
           {
            "colorbar": {
             "outlinewidth": 0,
             "ticks": ""
            },
            "colorscale": [
             [
              0,
              "#0d0887"
             ],
             [
              0.1111111111111111,
              "#46039f"
             ],
             [
              0.2222222222222222,
              "#7201a8"
             ],
             [
              0.3333333333333333,
              "#9c179e"
             ],
             [
              0.4444444444444444,
              "#bd3786"
             ],
             [
              0.5555555555555556,
              "#d8576b"
             ],
             [
              0.6666666666666666,
              "#ed7953"
             ],
             [
              0.7777777777777778,
              "#fb9f3a"
             ],
             [
              0.8888888888888888,
              "#fdca26"
             ],
             [
              1,
              "#f0f921"
             ]
            ],
            "type": "heatmap"
           }
          ],
          "histogram": [
           {
            "marker": {
             "pattern": {
              "fillmode": "overlay",
              "size": 10,
              "solidity": 0.2
             }
            },
            "type": "histogram"
           }
          ],
          "histogram2d": [
           {
            "colorbar": {
             "outlinewidth": 0,
             "ticks": ""
            },
            "colorscale": [
             [
              0,
              "#0d0887"
             ],
             [
              0.1111111111111111,
              "#46039f"
             ],
             [
              0.2222222222222222,
              "#7201a8"
             ],
             [
              0.3333333333333333,
              "#9c179e"
             ],
             [
              0.4444444444444444,
              "#bd3786"
             ],
             [
              0.5555555555555556,
              "#d8576b"
             ],
             [
              0.6666666666666666,
              "#ed7953"
             ],
             [
              0.7777777777777778,
              "#fb9f3a"
             ],
             [
              0.8888888888888888,
              "#fdca26"
             ],
             [
              1,
              "#f0f921"
             ]
            ],
            "type": "histogram2d"
           }
          ],
          "histogram2dcontour": [
           {
            "colorbar": {
             "outlinewidth": 0,
             "ticks": ""
            },
            "colorscale": [
             [
              0,
              "#0d0887"
             ],
             [
              0.1111111111111111,
              "#46039f"
             ],
             [
              0.2222222222222222,
              "#7201a8"
             ],
             [
              0.3333333333333333,
              "#9c179e"
             ],
             [
              0.4444444444444444,
              "#bd3786"
             ],
             [
              0.5555555555555556,
              "#d8576b"
             ],
             [
              0.6666666666666666,
              "#ed7953"
             ],
             [
              0.7777777777777778,
              "#fb9f3a"
             ],
             [
              0.8888888888888888,
              "#fdca26"
             ],
             [
              1,
              "#f0f921"
             ]
            ],
            "type": "histogram2dcontour"
           }
          ],
          "mesh3d": [
           {
            "colorbar": {
             "outlinewidth": 0,
             "ticks": ""
            },
            "type": "mesh3d"
           }
          ],
          "parcoords": [
           {
            "line": {
             "colorbar": {
              "outlinewidth": 0,
              "ticks": ""
             }
            },
            "type": "parcoords"
           }
          ],
          "pie": [
           {
            "automargin": true,
            "type": "pie"
           }
          ],
          "scatter": [
           {
            "fillpattern": {
             "fillmode": "overlay",
             "size": 10,
             "solidity": 0.2
            },
            "type": "scatter"
           }
          ],
          "scatter3d": [
           {
            "line": {
             "colorbar": {
              "outlinewidth": 0,
              "ticks": ""
             }
            },
            "marker": {
             "colorbar": {
              "outlinewidth": 0,
              "ticks": ""
             }
            },
            "type": "scatter3d"
           }
          ],
          "scattercarpet": [
           {
            "marker": {
             "colorbar": {
              "outlinewidth": 0,
              "ticks": ""
             }
            },
            "type": "scattercarpet"
           }
          ],
          "scattergeo": [
           {
            "marker": {
             "colorbar": {
              "outlinewidth": 0,
              "ticks": ""
             }
            },
            "type": "scattergeo"
           }
          ],
          "scattergl": [
           {
            "marker": {
             "colorbar": {
              "outlinewidth": 0,
              "ticks": ""
             }
            },
            "type": "scattergl"
           }
          ],
          "scattermap": [
           {
            "marker": {
             "colorbar": {
              "outlinewidth": 0,
              "ticks": ""
             }
            },
            "type": "scattermap"
           }
          ],
          "scattermapbox": [
           {
            "marker": {
             "colorbar": {
              "outlinewidth": 0,
              "ticks": ""
             }
            },
            "type": "scattermapbox"
           }
          ],
          "scatterpolar": [
           {
            "marker": {
             "colorbar": {
              "outlinewidth": 0,
              "ticks": ""
             }
            },
            "type": "scatterpolar"
           }
          ],
          "scatterpolargl": [
           {
            "marker": {
             "colorbar": {
              "outlinewidth": 0,
              "ticks": ""
             }
            },
            "type": "scatterpolargl"
           }
          ],
          "scatterternary": [
           {
            "marker": {
             "colorbar": {
              "outlinewidth": 0,
              "ticks": ""
             }
            },
            "type": "scatterternary"
           }
          ],
          "surface": [
           {
            "colorbar": {
             "outlinewidth": 0,
             "ticks": ""
            },
            "colorscale": [
             [
              0,
              "#0d0887"
             ],
             [
              0.1111111111111111,
              "#46039f"
             ],
             [
              0.2222222222222222,
              "#7201a8"
             ],
             [
              0.3333333333333333,
              "#9c179e"
             ],
             [
              0.4444444444444444,
              "#bd3786"
             ],
             [
              0.5555555555555556,
              "#d8576b"
             ],
             [
              0.6666666666666666,
              "#ed7953"
             ],
             [
              0.7777777777777778,
              "#fb9f3a"
             ],
             [
              0.8888888888888888,
              "#fdca26"
             ],
             [
              1,
              "#f0f921"
             ]
            ],
            "type": "surface"
           }
          ],
          "table": [
           {
            "cells": {
             "fill": {
              "color": "#EBF0F8"
             },
             "line": {
              "color": "white"
             }
            },
            "header": {
             "fill": {
              "color": "#C8D4E3"
             },
             "line": {
              "color": "white"
             }
            },
            "type": "table"
           }
          ]
         },
         "layout": {
          "annotationdefaults": {
           "arrowcolor": "#2a3f5f",
           "arrowhead": 0,
           "arrowwidth": 1
          },
          "autotypenumbers": "strict",
          "coloraxis": {
           "colorbar": {
            "outlinewidth": 0,
            "ticks": ""
           }
          },
          "colorscale": {
           "diverging": [
            [
             0,
             "#8e0152"
            ],
            [
             0.1,
             "#c51b7d"
            ],
            [
             0.2,
             "#de77ae"
            ],
            [
             0.3,
             "#f1b6da"
            ],
            [
             0.4,
             "#fde0ef"
            ],
            [
             0.5,
             "#f7f7f7"
            ],
            [
             0.6,
             "#e6f5d0"
            ],
            [
             0.7,
             "#b8e186"
            ],
            [
             0.8,
             "#7fbc41"
            ],
            [
             0.9,
             "#4d9221"
            ],
            [
             1,
             "#276419"
            ]
           ],
           "sequential": [
            [
             0,
             "#0d0887"
            ],
            [
             0.1111111111111111,
             "#46039f"
            ],
            [
             0.2222222222222222,
             "#7201a8"
            ],
            [
             0.3333333333333333,
             "#9c179e"
            ],
            [
             0.4444444444444444,
             "#bd3786"
            ],
            [
             0.5555555555555556,
             "#d8576b"
            ],
            [
             0.6666666666666666,
             "#ed7953"
            ],
            [
             0.7777777777777778,
             "#fb9f3a"
            ],
            [
             0.8888888888888888,
             "#fdca26"
            ],
            [
             1,
             "#f0f921"
            ]
           ],
           "sequentialminus": [
            [
             0,
             "#0d0887"
            ],
            [
             0.1111111111111111,
             "#46039f"
            ],
            [
             0.2222222222222222,
             "#7201a8"
            ],
            [
             0.3333333333333333,
             "#9c179e"
            ],
            [
             0.4444444444444444,
             "#bd3786"
            ],
            [
             0.5555555555555556,
             "#d8576b"
            ],
            [
             0.6666666666666666,
             "#ed7953"
            ],
            [
             0.7777777777777778,
             "#fb9f3a"
            ],
            [
             0.8888888888888888,
             "#fdca26"
            ],
            [
             1,
             "#f0f921"
            ]
           ]
          },
          "colorway": [
           "#636efa",
           "#EF553B",
           "#00cc96",
           "#ab63fa",
           "#FFA15A",
           "#19d3f3",
           "#FF6692",
           "#B6E880",
           "#FF97FF",
           "#FECB52"
          ],
          "font": {
           "color": "#2a3f5f"
          },
          "geo": {
           "bgcolor": "white",
           "lakecolor": "white",
           "landcolor": "#E5ECF6",
           "showlakes": true,
           "showland": true,
           "subunitcolor": "white"
          },
          "hoverlabel": {
           "align": "left"
          },
          "hovermode": "closest",
          "mapbox": {
           "style": "light"
          },
          "paper_bgcolor": "white",
          "plot_bgcolor": "#E5ECF6",
          "polar": {
           "angularaxis": {
            "gridcolor": "white",
            "linecolor": "white",
            "ticks": ""
           },
           "bgcolor": "#E5ECF6",
           "radialaxis": {
            "gridcolor": "white",
            "linecolor": "white",
            "ticks": ""
           }
          },
          "scene": {
           "xaxis": {
            "backgroundcolor": "#E5ECF6",
            "gridcolor": "white",
            "gridwidth": 2,
            "linecolor": "white",
            "showbackground": true,
            "ticks": "",
            "zerolinecolor": "white"
           },
           "yaxis": {
            "backgroundcolor": "#E5ECF6",
            "gridcolor": "white",
            "gridwidth": 2,
            "linecolor": "white",
            "showbackground": true,
            "ticks": "",
            "zerolinecolor": "white"
           },
           "zaxis": {
            "backgroundcolor": "#E5ECF6",
            "gridcolor": "white",
            "gridwidth": 2,
            "linecolor": "white",
            "showbackground": true,
            "ticks": "",
            "zerolinecolor": "white"
           }
          },
          "shapedefaults": {
           "line": {
            "color": "#2a3f5f"
           }
          },
          "ternary": {
           "aaxis": {
            "gridcolor": "white",
            "linecolor": "white",
            "ticks": ""
           },
           "baxis": {
            "gridcolor": "white",
            "linecolor": "white",
            "ticks": ""
           },
           "bgcolor": "#E5ECF6",
           "caxis": {
            "gridcolor": "white",
            "linecolor": "white",
            "ticks": ""
           }
          },
          "title": {
           "x": 0.05
          },
          "xaxis": {
           "automargin": true,
           "gridcolor": "white",
           "linecolor": "white",
           "ticks": "",
           "title": {
            "standoff": 15
           },
           "zerolinecolor": "white",
           "zerolinewidth": 2
          },
          "yaxis": {
           "automargin": true,
           "gridcolor": "white",
           "linecolor": "white",
           "ticks": "",
           "title": {
            "standoff": 15
           },
           "zerolinecolor": "white",
           "zerolinewidth": 2
          }
         }
        },
        "title": {
         "text": "Comparison of Air Volume Percentage Distribution in Chip Bags"
        },
        "xaxis": {
         "anchor": "y2",
         "domain": [
          0,
          1
         ],
         "title": {
          "text": "Air Volume Percentage"
         },
         "zeroline": false
        },
        "yaxis": {
         "anchor": "free",
         "domain": [
          0,
          1
         ],
         "position": 0,
         "title": {
          "text": "Density"
         }
        }
       }
      }
     },
     "metadata": {},
     "output_type": "display_data"
    }
   ],
   "source": [
    "import plotly.figure_factory as ff\n",
    "from scipy.stats import shapiro, levene\n",
    "\n",
    "# Create a density plot with Plotly\n",
    "fig = ff.create_distplot(\n",
    "    [chipi_chipi_brand, expensive_brand], \n",
    "    group_labels=[\"Chipi Chipi\", \"Expensive Brand\"], \n",
    "    show_hist=False, \n",
    "    show_rug=False\n",
    ")\n",
    "\n",
    "# Update layout for better visualization\n",
    "fig.update_layout(\n",
    "    title_text=\"Comparison of Air Volume Percentage Distribution in Chip Bags\",\n",
    "    xaxis_title=\"Air Volume Percentage\",\n",
    "    yaxis_title=\"Density\",\n",
    "    legend_title=\"Brand\"\n",
    ")\n",
    "\n",
    "# Show the plot\n",
    "fig.show()\n"
   ]
  },
  {
   "cell_type": "markdown",
   "metadata": {},
   "source": [
    "\n",
    "<p dir=rtl style=\"direction: rtl;text-align: justify;line-height:200%;font-family:vazir;font-size:medium\">\n",
    "<font face=\"vazirmatn\" size=3>\n",
    "همانطور که در درسنامه نیز اشاره شده است، آزمون تی نیازمند شرایطی است. ما در این تمرین از شما بررسی این شرایط را نخواستیم ولی نحوه‌ی بررسی آن‌ها به صورت زیر است.\n",
    "</font>\n",
    "</p>\n",
    "\n"
   ]
  },
  {
   "cell_type": "code",
   "execution_count": 58,
   "metadata": {},
   "outputs": [
    {
     "name": "stdout",
     "output_type": "stream",
     "text": [
      "Shapiro-Wilk test for chipi chipi p-value = 0.1000\n",
      "Shapiro-Wilk test for Expensive p-value = 0.1342\n",
      "Levene's test: p-value = 0.0024\n"
     ]
    }
   ],
   "source": [
    "# check the normality of the data using the Shapiro-Wilk test\n",
    "shapiro_chipi = shapiro(chipi_chipi_brand)\n",
    "shapiro_expensive = shapiro(expensive_brand)\n",
    "\n",
    "print(f\"Shapiro-Wilk test for chipi chipi p-value = {shapiro_chipi.pvalue:.4f}\")\n",
    "print(f\"Shapiro-Wilk test for Expensive p-value = {shapiro_expensive.pvalue:.4f}\")\n",
    "\n",
    "# check the homogeneity of variances using the Levene's test\n",
    "levene_test = levene(chipi_chipi_brand, expensive_brand)\n",
    "print(f\"Levene's test: p-value = {levene_test.pvalue:.4f}\")"
   ]
  },
  {
   "cell_type": "markdown",
   "metadata": {},
   "source": [
    "<p dir=\"rtl\" style=\"direction: rtl; text-align: justify; line-height: 200%; font-family: vazir; font-size: medium;\">\n",
    "    <font face=\"vazirmatn\" size=\"3\">\n",
    "        <b>✅ آزمون شاپیرو-ویلک برای بررسی نرمال بودن داده‌ها:</b><br>\n",
    "        مقدار p-value برای برند چیپی چیپی: ۰.۱۰۰<br>\n",
    "        مقدار p-value برای برند گران‌فروش: ۰.۱۳۴<br>\n",
    "        نتیجه: از آنجایی که هر دو مقدار بزرگ‌تر از ۰.۰۵ هستند، می‌توانیم فرض نرمال بودن داده‌ها را بپذیریم.\n",
    "    </font>\n",
    "</p>\n",
    "\n",
    "<p dir=\"rtl\" style=\"direction: rtl; text-align: justify; line-height: 200%; font-family: vazir; font-size: medium;\">\n",
    "    <font face=\"vazirmatn\" size=\"3\">\n",
    "        <b>✅ آزمون لوین برای بررسی همگنی واریانس‌ها:</b><br>\n",
    "        مقدار p-value با ۰.۰۰۲۴ برابر شده است.\n",
    "        <br>\n",
    "        نتیجه: مقدار کمتر از ۰.۰۵ است، بنابراین واریانس دو گروه برابر نیست. به همین دلیل در آزمون تی از <code>equal_var=False</code> استفاده شده است.\n",
    "    </font>\n",
    "</p>"
   ]
  },
  {
   "cell_type": "markdown",
   "metadata": {},
   "source": [
    "<h2 align=right style=\"line-height:200%;font-family:vazir;color:#0099cc\">\n",
    "<font face=\"vazirmatn\" color=\"#0099cc\">\n",
    "<b>سلول جواب‌ساز</b>\n",
    "</font>\n",
    "</h2>\n",
    "\n",
    "<p dir=rtl style=\"direction: rtl; text-align: justify; line-height:200%; font-family:vazir; font-size:medium\">\n",
    "<font face=\"vazirmatn\" size=3>\n",
    "    برای ساخته‌شدن فایل <code>result.zip</code> سلول زیر را اجرا کنید. توجه داشته باشید که پیش از اجرای سلول زیر تغییرات اعمال شده در نت‌بوک را ذخیره کرده باشید (<code>ctrl+s</code>) تا در صورت نیاز به پشتیبانی امکان بررسی کد شما وجود داشته باشد.\n",
    "</font>\n",
    "</p>"
   ]
  },
  {
   "cell_type": "code",
   "execution_count": 59,
   "metadata": {},
   "outputs": [
    {
     "name": "stdout",
     "output_type": "stream",
     "text": [
      "File Paths:\n",
      "['answers.npz', 'result', 'init.ipynb']\n"
     ]
    }
   ],
   "source": [
    "import zipfile\n",
    "import joblib\n",
    "\n",
    "np.savez(\"answers.npz\", filtered_weights = filtered_weights, pvs = pvs, most_possible = most_possible)\n",
    "joblib.dump(result, \"result\")\n",
    "\n",
    "\n",
    "def compress(file_names):\n",
    "    print(\"File Paths:\")\n",
    "    print(file_names)\n",
    "    # Select the compression mode ZIP_DEFLATED for compression\n",
    "    # or zipfile.ZIP_STORED to just store the file\n",
    "    compression = zipfile.ZIP_DEFLATED\n",
    "    # create the zip file first parameter path/name, second mode\n",
    "    with zipfile.ZipFile(\"result.zip\", mode=\"w\") as zf:\n",
    "        for file_name in file_names:\n",
    "            # Add file to the zip file\n",
    "            # first parameter file to zip, second filename in zip\n",
    "            zf.write('./' + file_name, file_name, compress_type=compression)\n",
    "\n",
    "\n",
    "file_names = [\"answers.npz\", 'result', \"init.ipynb\"]\n",
    "compress(file_names)"
   ]
  },
  {
   "cell_type": "code",
   "execution_count": null,
   "metadata": {},
   "outputs": [],
   "source": []
  }
 ],
 "metadata": {
  "kernelspec": {
   "display_name": "Python 3",
   "language": "python",
   "name": "python3"
  },
  "language_info": {
   "codemirror_mode": {
    "name": "ipython",
    "version": 3
   },
   "file_extension": ".py",
   "mimetype": "text/x-python",
   "name": "python",
   "nbconvert_exporter": "python",
   "pygments_lexer": "ipython3",
   "version": "3.12.6"
  }
 },
 "nbformat": 4,
 "nbformat_minor": 2
}
