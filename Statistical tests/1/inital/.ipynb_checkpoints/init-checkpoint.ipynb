{
 "cells": [
  {
   "cell_type": "markdown",
   "metadata": {},
   "source": [
    "<h1 align=center style=\"line-height:200%;font-family:vazir;color:#0099cc\">\n",
    "<font face=\"vazirmatn\" color=\"#0099cc\">\n",
    "کلاهبرداری پیاز جعفری\n",
    "</font>\n",
    "</h1>"
   ]
  },
  {
   "cell_type": "markdown",
   "metadata": {},
   "source": [
    "<h3 align=right style=\"line-height:200%;font-family:vazir;color:#0099cc\">\n",
    "<font face=\"vazirmatn\" color=\"#0099cc\">\n",
    "بخش ۱\n",
    "</font>\n",
    "</h3>"
   ]
  },
  {
   "cell_type": "markdown",
   "metadata": {},
   "source": [
    "<p dir=rtl style=\"direction: rtl;text-align: justify;line-height:200%;font-family:vazir;font-size:medium\">\n",
    "<font face=\"vazirmatn\" size=3>\n",
    "در سرزمین‌های دور پس از دوره‌ای گرانی، یک شرکت تولیدکننده‌ی تنقلات تصمیم گرفت تا به کم‌فروشی بپردازد و میزان چپیس کمتری را در بسته‌های چیپس ۴۰۰ گرمی خود قرار دهد. فردی بیکار و پولدار و البته بادغدغه در این بین، پس از مدتی مشاهده، به میزان وزن چپیس‌ها مشکوک شد.\n",
    "<br>\n",
    "این فرد پس از مدتی تصمیم گرفت تا تعدادی چیپس را بخرد و وزن آن‌ها را اندازه گیری کند. این فرد اندازه‌ی این بسته‌چپیس‌ها را در لیست زیر ریخته است:\n",
    "</font>\n",
    "</p>"
   ]
  },
  {
   "cell_type": "markdown",
   "metadata": {},
   "source": [
    "<h1 align=center style=\"line-height:200%;font-family:vazir;color:#0099cc\">\n"
   ]
  },
  {
   "cell_type": "code",
   "execution_count": 1,
   "metadata": {},
   "outputs": [],
   "source": [
    "weights = [325, 330, 389, 370, 378, 385, 368, 392, 374, 380, 295, 310, 340, 350, 363, 490,\n",
    "           376, 390, 367, 381, 379, 372, 387, 373, 369, 388, 450, 230, 289, 385, 390, 400]"
   ]
  },
  {
   "cell_type": "markdown",
   "metadata": {},
   "source": [
    "<p dir=rtl style=\"direction: rtl;text-align: justify;line-height:200%;font-family:vazir;font-size:medium\">\n",
    "<font face=\"vazirmatn\" size=3>\n",
    "این شخص برای این‌که به تحلیل بهتری دست پیدا کند، تصمیم‌می‌گیرد که چیپس‌های با وزن پرت را از داده‌های خود حذف کند. کد زیر را اجرا کنید تا وضعیت داده‌های پرت را ببینید.\n",
    "</font>\n",
    "</p>\n"
   ]
  },
  {
   "cell_type": "code",
   "execution_count": 2,
   "metadata": {},
   "outputs": [
    {
     "data": {
      "application/vnd.plotly.v1+json": {
       "config": {
        "plotlyServerURL": "https://plot.ly"
       },
       "data": [
        {
         "alignmentgroup": "True",
         "hovertemplate": "variable=%{x}<br>value=%{y}<extra></extra>",
         "legendgroup": "",
         "marker": {
          "color": "#636efa"
         },
         "name": "",
         "notched": false,
         "offsetgroup": "",
         "orientation": "v",
         "showlegend": false,
         "type": "box",
         "x": [
          "0",
          "0",
          "0",
          "0",
          "0",
          "0",
          "0",
          "0",
          "0",
          "0",
          "0",
          "0",
          "0",
          "0",
          "0",
          "0",
          "0",
          "0",
          "0",
          "0",
          "0",
          "0",
          "0",
          "0",
          "0",
          "0",
          "0",
          "0",
          "0",
          "0",
          "0",
          "0"
         ],
         "x0": " ",
         "xaxis": "x",
         "y": {
          "bdata": "RQFKAYUBcgF6AYEBcAGIAXYBfAEnATYBVAFeAWsB6gF4AYYBbwF9AXsBdAGDAXUBcQGEAcIB5gAhAYEBhgGQAQ==",
          "dtype": "i2"
         },
         "y0": " ",
         "yaxis": "y"
        }
       ],
       "layout": {
        "boxmode": "group",
        "legend": {
         "tracegroupgap": 0
        },
        "template": {
         "data": {
          "bar": [
           {
            "error_x": {
             "color": "#2a3f5f"
            },
            "error_y": {
             "color": "#2a3f5f"
            },
            "marker": {
             "line": {
              "color": "#E5ECF6",
              "width": 0.5
             },
             "pattern": {
              "fillmode": "overlay",
              "size": 10,
              "solidity": 0.2
             }
            },
            "type": "bar"
           }
          ],
          "barpolar": [
           {
            "marker": {
             "line": {
              "color": "#E5ECF6",
              "width": 0.5
             },
             "pattern": {
              "fillmode": "overlay",
              "size": 10,
              "solidity": 0.2
             }
            },
            "type": "barpolar"
           }
          ],
          "carpet": [
           {
            "aaxis": {
             "endlinecolor": "#2a3f5f",
             "gridcolor": "white",
             "linecolor": "white",
             "minorgridcolor": "white",
             "startlinecolor": "#2a3f5f"
            },
            "baxis": {
             "endlinecolor": "#2a3f5f",
             "gridcolor": "white",
             "linecolor": "white",
             "minorgridcolor": "white",
             "startlinecolor": "#2a3f5f"
            },
            "type": "carpet"
           }
          ],
          "choropleth": [
           {
            "colorbar": {
             "outlinewidth": 0,
             "ticks": ""
            },
            "type": "choropleth"
           }
          ],
          "contour": [
           {
            "colorbar": {
             "outlinewidth": 0,
             "ticks": ""
            },
            "colorscale": [
             [
              0,
              "#0d0887"
             ],
             [
              0.1111111111111111,
              "#46039f"
             ],
             [
              0.2222222222222222,
              "#7201a8"
             ],
             [
              0.3333333333333333,
              "#9c179e"
             ],
             [
              0.4444444444444444,
              "#bd3786"
             ],
             [
              0.5555555555555556,
              "#d8576b"
             ],
             [
              0.6666666666666666,
              "#ed7953"
             ],
             [
              0.7777777777777778,
              "#fb9f3a"
             ],
             [
              0.8888888888888888,
              "#fdca26"
             ],
             [
              1,
              "#f0f921"
             ]
            ],
            "type": "contour"
           }
          ],
          "contourcarpet": [
           {
            "colorbar": {
             "outlinewidth": 0,
             "ticks": ""
            },
            "type": "contourcarpet"
           }
          ],
          "heatmap": [
           {
            "colorbar": {
             "outlinewidth": 0,
             "ticks": ""
            },
            "colorscale": [
             [
              0,
              "#0d0887"
             ],
             [
              0.1111111111111111,
              "#46039f"
             ],
             [
              0.2222222222222222,
              "#7201a8"
             ],
             [
              0.3333333333333333,
              "#9c179e"
             ],
             [
              0.4444444444444444,
              "#bd3786"
             ],
             [
              0.5555555555555556,
              "#d8576b"
             ],
             [
              0.6666666666666666,
              "#ed7953"
             ],
             [
              0.7777777777777778,
              "#fb9f3a"
             ],
             [
              0.8888888888888888,
              "#fdca26"
             ],
             [
              1,
              "#f0f921"
             ]
            ],
            "type": "heatmap"
           }
          ],
          "histogram": [
           {
            "marker": {
             "pattern": {
              "fillmode": "overlay",
              "size": 10,
              "solidity": 0.2
             }
            },
            "type": "histogram"
           }
          ],
          "histogram2d": [
           {
            "colorbar": {
             "outlinewidth": 0,
             "ticks": ""
            },
            "colorscale": [
             [
              0,
              "#0d0887"
             ],
             [
              0.1111111111111111,
              "#46039f"
             ],
             [
              0.2222222222222222,
              "#7201a8"
             ],
             [
              0.3333333333333333,
              "#9c179e"
             ],
             [
              0.4444444444444444,
              "#bd3786"
             ],
             [
              0.5555555555555556,
              "#d8576b"
             ],
             [
              0.6666666666666666,
              "#ed7953"
             ],
             [
              0.7777777777777778,
              "#fb9f3a"
             ],
             [
              0.8888888888888888,
              "#fdca26"
             ],
             [
              1,
              "#f0f921"
             ]
            ],
            "type": "histogram2d"
           }
          ],
          "histogram2dcontour": [
           {
            "colorbar": {
             "outlinewidth": 0,
             "ticks": ""
            },
            "colorscale": [
             [
              0,
              "#0d0887"
             ],
             [
              0.1111111111111111,
              "#46039f"
             ],
             [
              0.2222222222222222,
              "#7201a8"
             ],
             [
              0.3333333333333333,
              "#9c179e"
             ],
             [
              0.4444444444444444,
              "#bd3786"
             ],
             [
              0.5555555555555556,
              "#d8576b"
             ],
             [
              0.6666666666666666,
              "#ed7953"
             ],
             [
              0.7777777777777778,
              "#fb9f3a"
             ],
             [
              0.8888888888888888,
              "#fdca26"
             ],
             [
              1,
              "#f0f921"
             ]
            ],
            "type": "histogram2dcontour"
           }
          ],
          "mesh3d": [
           {
            "colorbar": {
             "outlinewidth": 0,
             "ticks": ""
            },
            "type": "mesh3d"
           }
          ],
          "parcoords": [
           {
            "line": {
             "colorbar": {
              "outlinewidth": 0,
              "ticks": ""
             }
            },
            "type": "parcoords"
           }
          ],
          "pie": [
           {
            "automargin": true,
            "type": "pie"
           }
          ],
          "scatter": [
           {
            "fillpattern": {
             "fillmode": "overlay",
             "size": 10,
             "solidity": 0.2
            },
            "type": "scatter"
           }
          ],
          "scatter3d": [
           {
            "line": {
             "colorbar": {
              "outlinewidth": 0,
              "ticks": ""
             }
            },
            "marker": {
             "colorbar": {
              "outlinewidth": 0,
              "ticks": ""
             }
            },
            "type": "scatter3d"
           }
          ],
          "scattercarpet": [
           {
            "marker": {
             "colorbar": {
              "outlinewidth": 0,
              "ticks": ""
             }
            },
            "type": "scattercarpet"
           }
          ],
          "scattergeo": [
           {
            "marker": {
             "colorbar": {
              "outlinewidth": 0,
              "ticks": ""
             }
            },
            "type": "scattergeo"
           }
          ],
          "scattergl": [
           {
            "marker": {
             "colorbar": {
              "outlinewidth": 0,
              "ticks": ""
             }
            },
            "type": "scattergl"
           }
          ],
          "scattermap": [
           {
            "marker": {
             "colorbar": {
              "outlinewidth": 0,
              "ticks": ""
             }
            },
            "type": "scattermap"
           }
          ],
          "scattermapbox": [
           {
            "marker": {
             "colorbar": {
              "outlinewidth": 0,
              "ticks": ""
             }
            },
            "type": "scattermapbox"
           }
          ],
          "scatterpolar": [
           {
            "marker": {
             "colorbar": {
              "outlinewidth": 0,
              "ticks": ""
             }
            },
            "type": "scatterpolar"
           }
          ],
          "scatterpolargl": [
           {
            "marker": {
             "colorbar": {
              "outlinewidth": 0,
              "ticks": ""
             }
            },
            "type": "scatterpolargl"
           }
          ],
          "scatterternary": [
           {
            "marker": {
             "colorbar": {
              "outlinewidth": 0,
              "ticks": ""
             }
            },
            "type": "scatterternary"
           }
          ],
          "surface": [
           {
            "colorbar": {
             "outlinewidth": 0,
             "ticks": ""
            },
            "colorscale": [
             [
              0,
              "#0d0887"
             ],
             [
              0.1111111111111111,
              "#46039f"
             ],
             [
              0.2222222222222222,
              "#7201a8"
             ],
             [
              0.3333333333333333,
              "#9c179e"
             ],
             [
              0.4444444444444444,
              "#bd3786"
             ],
             [
              0.5555555555555556,
              "#d8576b"
             ],
             [
              0.6666666666666666,
              "#ed7953"
             ],
             [
              0.7777777777777778,
              "#fb9f3a"
             ],
             [
              0.8888888888888888,
              "#fdca26"
             ],
             [
              1,
              "#f0f921"
             ]
            ],
            "type": "surface"
           }
          ],
          "table": [
           {
            "cells": {
             "fill": {
              "color": "#EBF0F8"
             },
             "line": {
              "color": "white"
             }
            },
            "header": {
             "fill": {
              "color": "#C8D4E3"
             },
             "line": {
              "color": "white"
             }
            },
            "type": "table"
           }
          ]
         },
         "layout": {
          "annotationdefaults": {
           "arrowcolor": "#2a3f5f",
           "arrowhead": 0,
           "arrowwidth": 1
          },
          "autotypenumbers": "strict",
          "coloraxis": {
           "colorbar": {
            "outlinewidth": 0,
            "ticks": ""
           }
          },
          "colorscale": {
           "diverging": [
            [
             0,
             "#8e0152"
            ],
            [
             0.1,
             "#c51b7d"
            ],
            [
             0.2,
             "#de77ae"
            ],
            [
             0.3,
             "#f1b6da"
            ],
            [
             0.4,
             "#fde0ef"
            ],
            [
             0.5,
             "#f7f7f7"
            ],
            [
             0.6,
             "#e6f5d0"
            ],
            [
             0.7,
             "#b8e186"
            ],
            [
             0.8,
             "#7fbc41"
            ],
            [
             0.9,
             "#4d9221"
            ],
            [
             1,
             "#276419"
            ]
           ],
           "sequential": [
            [
             0,
             "#0d0887"
            ],
            [
             0.1111111111111111,
             "#46039f"
            ],
            [
             0.2222222222222222,
             "#7201a8"
            ],
            [
             0.3333333333333333,
             "#9c179e"
            ],
            [
             0.4444444444444444,
             "#bd3786"
            ],
            [
             0.5555555555555556,
             "#d8576b"
            ],
            [
             0.6666666666666666,
             "#ed7953"
            ],
            [
             0.7777777777777778,
             "#fb9f3a"
            ],
            [
             0.8888888888888888,
             "#fdca26"
            ],
            [
             1,
             "#f0f921"
            ]
           ],
           "sequentialminus": [
            [
             0,
             "#0d0887"
            ],
            [
             0.1111111111111111,
             "#46039f"
            ],
            [
             0.2222222222222222,
             "#7201a8"
            ],
            [
             0.3333333333333333,
             "#9c179e"
            ],
            [
             0.4444444444444444,
             "#bd3786"
            ],
            [
             0.5555555555555556,
             "#d8576b"
            ],
            [
             0.6666666666666666,
             "#ed7953"
            ],
            [
             0.7777777777777778,
             "#fb9f3a"
            ],
            [
             0.8888888888888888,
             "#fdca26"
            ],
            [
             1,
             "#f0f921"
            ]
           ]
          },
          "colorway": [
           "#636efa",
           "#EF553B",
           "#00cc96",
           "#ab63fa",
           "#FFA15A",
           "#19d3f3",
           "#FF6692",
           "#B6E880",
           "#FF97FF",
           "#FECB52"
          ],
          "font": {
           "color": "#2a3f5f"
          },
          "geo": {
           "bgcolor": "white",
           "lakecolor": "white",
           "landcolor": "#E5ECF6",
           "showlakes": true,
           "showland": true,
           "subunitcolor": "white"
          },
          "hoverlabel": {
           "align": "left"
          },
          "hovermode": "closest",
          "mapbox": {
           "style": "light"
          },
          "paper_bgcolor": "white",
          "plot_bgcolor": "#E5ECF6",
          "polar": {
           "angularaxis": {
            "gridcolor": "white",
            "linecolor": "white",
            "ticks": ""
           },
           "bgcolor": "#E5ECF6",
           "radialaxis": {
            "gridcolor": "white",
            "linecolor": "white",
            "ticks": ""
           }
          },
          "scene": {
           "xaxis": {
            "backgroundcolor": "#E5ECF6",
            "gridcolor": "white",
            "gridwidth": 2,
            "linecolor": "white",
            "showbackground": true,
            "ticks": "",
            "zerolinecolor": "white"
           },
           "yaxis": {
            "backgroundcolor": "#E5ECF6",
            "gridcolor": "white",
            "gridwidth": 2,
            "linecolor": "white",
            "showbackground": true,
            "ticks": "",
            "zerolinecolor": "white"
           },
           "zaxis": {
            "backgroundcolor": "#E5ECF6",
            "gridcolor": "white",
            "gridwidth": 2,
            "linecolor": "white",
            "showbackground": true,
            "ticks": "",
            "zerolinecolor": "white"
           }
          },
          "shapedefaults": {
           "line": {
            "color": "#2a3f5f"
           }
          },
          "ternary": {
           "aaxis": {
            "gridcolor": "white",
            "linecolor": "white",
            "ticks": ""
           },
           "baxis": {
            "gridcolor": "white",
            "linecolor": "white",
            "ticks": ""
           },
           "bgcolor": "#E5ECF6",
           "caxis": {
            "gridcolor": "white",
            "linecolor": "white",
            "ticks": ""
           }
          },
          "title": {
           "x": 0.05
          },
          "xaxis": {
           "automargin": true,
           "gridcolor": "white",
           "linecolor": "white",
           "ticks": "",
           "title": {
            "standoff": 15
           },
           "zerolinecolor": "white",
           "zerolinewidth": 2
          },
          "yaxis": {
           "automargin": true,
           "gridcolor": "white",
           "linecolor": "white",
           "ticks": "",
           "title": {
            "standoff": 15
           },
           "zerolinecolor": "white",
           "zerolinewidth": 2
          }
         }
        },
        "title": {
         "text": "Boxplot of Weights"
        },
        "xaxis": {
         "anchor": "y",
         "domain": [
          0,
          1
         ],
         "title": {
          "text": "variable"
         }
        },
        "yaxis": {
         "anchor": "x",
         "domain": [
          0,
          1
         ],
         "title": {
          "text": "value"
         }
        }
       }
      },
      "image/png": "[encoded data removed]"
     },
     "metadata": {},
     "output_type": "display_data"
    }
   ],
   "source": [
    "# plot the Boxplot\n",
    "import plotly.express as px\n",
    "\n",
    "fig = px.box(weights, title='Boxplot of Weights')\n",
    "fig.show()"
   ]
  },
  {
   "cell_type": "markdown",
   "metadata": {},
   "source": [
    "<p dir=rtl style=\"direction: rtl;text-align: justify;line-height:200%;font-family:vazir;font-size:medium\">\n",
    "<font face=\"vazirmatn\" size=3>\n",
    "برای حذف داده‌های پرت از یک مجموعه داده، ابتدا باید مقادیر پرت را شناسایی کنیم. یکی از روش‌های استاندارد برای این کار، استفاده از <b>چارک‌ها و دامنه بین چارکی (IQR)</b> است. در این روش، ابتدا <b>چارک اول (Q1)</b> (صدک ۲۵٪) و <b>چارک سوم (Q3)</b> (صدک ۷۵٪) را محاسبه می‌کنیم. سپس مقدار <code>IQR</code> را به‌عنوان تفاضل بین این دو چارک به دست می‌آوریم. برای تعیین داده‌های پرت، بازه‌ای مشخص می‌شود که مقدارهای خارج از آن غیرعادی در نظر گرفته می‌شوند: مقادیر کمتر از <code>Q1 - 1.5 × IQR</code> یا بیشتر از <code>Q3 + 1.5 × IQR</code> به‌عنوان داده‌های پرت شناسایی می‌شوند. پس از شناسایی داده‌های پرت، می‌توان آن‌ها را از مجموعه داده حذف کرد. این کار معمولاً با <b>فیلتر کردن مقادیر داخل محدوده مجاز</b> انجام می‌شود.\n",
    "<br>\n",
    "برای حذف داده‌های پرت در <code>NumPy</code>، یکی از مهم‌ترین توابعی که می‌توان استفاده کرد، <code>np.percentile()</code> است. این تابع به ما امکان می‌دهد <b>چارک‌های اول (Q1) و سوم (Q3)</b> را محاسبه کنیم که برای تعیین محدوده‌ی داده‌های پرت ضروری هستند. پس از محاسبه این چارک‌ها، می‌توان <b>دامنه بین چارکی (IQR)</b> را با تفاضل <code>Q3 - Q1</code> محاسبه کرد. داده‌هایی که بیرون از بازه‌ی استاندارد <code>Q1 - 1.5×IQR</code> تا <code>Q3 + 1.5×IQR</code> قرار بگیرند، به‌عنوان مقادیر پرت در نظر گرفته می‌شوند. بنابراین داده‌هایی که داخل محدوده مجاز هستند را نگه می‌داریم.\n",
    "<br>\n",
    "اگر بخواهیم به ساده‌ترین شکل ممکن داده‌ها را بر اساس مقادیر به‌دست‌آمده <b>فیلتر کنیم</b>، می‌توانیم این کار را به‌صورت زیر انجام دهیم:\n",
    "</font>\n",
    "</p>\n"
   ]
  },
  {
   "cell_type": "markdown",
   "metadata": {},
   "source": [
    "```python\n",
    "filtered_data = data[(cond1) & (cond2)]\n",
    "```"
   ]
  },
  {
   "cell_type": "markdown",
   "metadata": {},
   "source": [
    "\n",
    "<p dir=rtl style=\"direction: rtl;text-align: justify;line-height:200%;font-family:vazir;font-size:medium\">\n",
    "<font face=\"vazirmatn\" size=3>\n",
    "در این کد، دو شرط اصلی <code>cond1</code> و <code>cond2</code> بررسی می‌کنند که داده‌ها در محدوده‌ی قابل قبول قرار دارند. سپس با استفاده از عملگر <code>&</code> داده‌هایی که <b>هر دو شرط را دارند</b> در لیست جدید باقی می‌مانند و داده‌های پرت حذف می‌شوند. این روش رویکردی کارآمد برای <b>پاک‌سازی داده‌ها</b> و بهبود دقت تحلیل‌های آماری ارائه می‌دهد.\n",
    "<br>\n",
    "<br>\n",
    "پس از حذف داده‌های پرت، لیست جدید را که مقادیر پرت در آن وجود ندارد را در متغیری با نام <code>filtered_weights</code> ذخیره کنید.\n",
    "</font>\n",
    "</p>\n"
   ]
  },
  {
   "cell_type": "code",
   "execution_count": 5,
   "metadata": {},
   "outputs": [
    {
     "name": "stdout",
     "output_type": "stream",
     "text": [
      "[325 330 389 370 378 385 368 392 374 380 340 350 363 376 390 367 381 379\n",
      " 372 387 373 369 388 385 390 400]\n"
     ]
    }
   ],
   "source": [
    "# TODO: caculate the first and third quartiles and interquartile range (Q1 and Q3 and IQR) and the lower and upper bounds for outlier detection \n",
    "# then filter the weights to keep only the ones within the lower and upper bounds\n",
    "import numpy as np\n",
    "weights = np.array(weights)\n",
    "x = np.quantile(weights, 0.25)\n",
    "y = np.quantile(weights, 0.75)\n",
    "IQR = y - x\n",
    "\n",
    "filtered_weights = weights[(weights >= (x - 1.5 * IQR)) & (weights <= (y + 1.5 * IQR))]\n",
    "\n",
    "print(filtered_weights)"
   ]
  },
  {
   "cell_type": "markdown",
   "metadata": {},
   "source": [
    "\n",
    "<p dir=rtl style=\"direction: rtl;text-align: justify;line-height:200%;font-family:vazir;font-size:medium\">\n",
    "<font face=\"vazirmatn\" size=3>\n",
    "در گام بعدی تصمیم‌ می‌گیرد به ازای هر یک از مقادیر پیش‌بینی شده توسط خودش، برای وزن چیپس‌ها مقدار <code>p-value</code> را حساب کند. مقادیر پیشبینی خودش را برای وزن هر بسته چیپس در لیست زیر ذخیره کرده است. \n",
    "\n",
    "</font>\n",
    "</p>\n"
   ]
  },
  {
   "cell_type": "code",
   "execution_count": 9,
   "metadata": {},
   "outputs": [
    {
     "data": {
      "text/plain": [
       "<Axes: ylabel='Density'>"
      ]
     },
     "execution_count": 9,
     "metadata": {},
     "output_type": "execute_result"
    },
    {
     "data": {
      "image/png": "[encoded data removed]",
      "text/plain": [
       "<Figure size 640x480 with 1 Axes>"
      ]
     },
     "metadata": {},
     "output_type": "display_data"
    }
   ],
   "source": [
    "import pandas as pd\n",
    "\n",
    "pd.Series(weights).plot(kind = 'density')"
   ]
  },
  {
   "cell_type": "code",
   "execution_count": 11,
   "metadata": {},
   "outputs": [],
   "source": [
    "mass_list = [300, 325, 350, 375, 400]"
   ]
  },
  {
   "cell_type": "markdown",
   "metadata": {},
   "source": [
    "\n",
    "<p dir=rtl style=\"direction: rtl;text-align: justify;line-height:200%;font-family:vazir;font-size:medium\">\n",
    "<font face=\"vazirmatn\" size=3>\n",
    "شما بایستی به ازای هر یک از مقادیر پیشنهادی در لیست <code>mass_list</code> مقدار <code>p_value</code> را به کمک آزمون تی تک‌نمونه‌ای حساب کرده و به ترتیب در لیست <code>pvs</code> وارد کنید. سپس محتمل‌ترین وزن‌ها برای بسته‌های چیپس را به ترتیب میزان محتمل بودن در لیست <code>most_possible</code> وارد کنید.\n",
    "<br>\n",
    "دقت کنید که نیاز نیست که لیست <code>pvs</code> را مرتب‌سازی (sort) کنید و این لیست باید به همان ترتیب <code>mass_list</code> باشد. ولی باید لیست <code>most_possible</code> حتما بر اساس p-value مرتبط به هر وزن مرتب شود. به صورتی که وزنی که کمترین مقدار p-value را دارد باید در اول لیست باشد و وزن‌هایی با مقادیر p-value بیشتر به ترتیب بعد از آن بیایند.\n",
    "</font>\n",
    "</p>\n"
   ]
  },
  {
   "cell_type": "code",
   "execution_count": 15,
   "metadata": {},
   "outputs": [],
   "source": [
    "# TODO: calculate the p-values for each mass in mass_list and sort the masses by p-value in a way that the most possible mass comes first\n",
    "from scipy.stats import ttest_1samp\n",
    "\n",
    "pvs = [] # p-values for each mass in mass_list\n",
    "for p in mass_list:\n",
    "    result = ttest_1samp(filtered_weights, p)\n",
    "    pvs.append(result.pvalue)\n",
    "\n",
    "most_possible = [mass for _,mass in sorted(zip(pvs, mass_list))] # sorted masses by p-value\n"
   ]
  },
  {
   "cell_type": "code",
   "execution_count": 16,
   "metadata": {},
   "outputs": [
    {
     "name": "stdout",
     "output_type": "stream",
     "text": [
      "p-value: [np.float64(7.613216844017476e-17), np.float64(1.0794936503415773e-12), np.float64(1.390671674800206e-06), np.float64(0.6124980223500961), np.float64(1.1484340957895325e-07)]\n",
      "most probability to reject: [300, 325, 400, 350, 375]\n"
     ]
    }
   ],
   "source": [
    "print(f\"p-value: {pvs}\")\n",
    "print(f\"most probability to reject: {most_possible}\")"
   ]
  },
  {
   "cell_type": "markdown",
   "metadata": {},
   "source": [
    "<h3 align=right style=\"line-height:200%;font-family:vazir;color:#0099cc\">\n",
    "<font face=\"vazirmatn\" color=\"#0099cc\">\n",
    "بخش ۲\n",
    "</font>\n",
    "</h3>"
   ]
  },
  {
   "cell_type": "markdown",
   "metadata": {},
   "source": [
    "\n",
    "<p dir=rtl style=\"direction: rtl;text-align: justify;line-height:200%;font-family:vazir;font-size:medium\">\n",
    "<font face=\"vazirmatn\" size=3>\n",
    "در این سرزمین دور، برند رقیب جدیدی به نام «چیپی چیپی» وارد بازار می‌شود و رقابت شدیدی با شرکت گران‌فروش ما دارد. مدیر برند «چیپی چیپی» به تازگی متوجه شده‌ است که ممکن است رقیبش از نظر میزان هوای موجود در بسته‌های خود، استانداردهای کیفیتی را رعایت نکرده باشد. \n",
    "<br>\n",
    "از آنجا که برند «چیپی چیپی» این استاندارد را به خوبی رعایت کرده است، از شما می‌خواهد که بررسی کنید که آیا تفاوت معناداری بین درصد حجم هوا در بسته‌های دو برند وجود دارد یا خیر. ما برای شما ۳۰ بسته از برند «چیپی چیپی» و ۳۰ بسته از برند  گران‌فروش را خریداری و درصد حجم هوای هر بسته را اندازه‌گیری کرده‌ایم و نتیجه را در متغیرهای زیر ذخیره کرده‌ایم.\n",
    "\n",
    "</font>\n",
    "</p>\n"
   ]
  },
  {
   "cell_type": "code",
   "execution_count": 17,
   "metadata": {},
   "outputs": [],
   "source": [
    "chipi_chipi_brand = [41.7, 41.9, 42.4, 42.5, 42.2, 41.7, 41.9, 41.5, 41.6, 42.0, 42.0, 42.0, 42.3, 41.5, 42.2, 42.1, 41.6, 41.6, 42.1, 42.1, 42.2, 41.5, 42.0, 41.6, 42.4]\n",
    "expensive_brand   = [44.2, 44.5, 44.8, 43.8, 44.2, 44.6, 45.8, 45.2, 45.9, 45.0, 45.0, 44.1, 43.9, 43.9, 44.5, 44.5, 44.7, 45.8, 45.2, 45.1, 45.4, 43.8, 44.2, 43.9, 44.6]"
   ]
  },
  {
   "cell_type": "code",
   "execution_count": 25,
   "metadata": {},
   "outputs": [
    {
     "name": "stdout",
     "output_type": "stream",
     "text": [
      "25\n",
      "25\n"
     ]
    }
   ],
   "source": [
    "print(len(chipi_chipi_brand))\n",
    "print(len(expensive_brand))"
   ]
  },
  {
   "cell_type": "markdown",
   "metadata": {},
   "source": [
    "<div dir=\"rtl\" style=\"direction: rtl; text-align: right; font-family: Vazir; font-size: medium; line-height: 200%;\">\n",
    "<font face=\"vazirmatn\" size=\"3\">\n",
    "برای این کار، از <b>آزمون تی مستقل (Independent t-test)</b> استفاده خواهیم کرد.\n",
    "نخست بهتر است که فرضیات آزمون را تعریف کنیم:\n",
    "\n",
    "<ul>\n",
    "<li><b>فرض صفر (<code>H₀</code>):</b> میانگین درصد حجم هوا در بسته‌های دو برند برابر است (هیچ تفاوت معناداری وجود ندارد).</li>\n",
    "<li><b>فرض جایگزین (<code>H₁</code>):</b> میانگین درصد حجم هوا در بسته‌های دو برند برابر نیست (تفاوت معناداری وجود دارد).</li>\n",
    "</ul>\n",
    "<br>\n",
    "\n",
    "<p>\n",
    "سپس با استفاده از تابع <code>ttest_ind</code> از کتابخانه <code>scipy.stats</code>، مقدار <b>t-statistic</b> و <b>p-value</b> را محاسبه کنید. همچنین درصد اطمینان ما ۹۵٪ است که نشان می‌دهد که:\n",
    "</p>\n",
    "<ul>\n",
    "<li>اگر مقدار <b>p-value</b> کمتر از <b>0.05</b> باشد، فرض صفر رد شده و نتیجه می‌گیریم که <b>تفاوت معناداری بین درصد حجم هوا در بسته‌های دو برند وجود دارد.</b></li>\n",
    "<li>اگر مقدار <b>p-value</b> بیشتر از <b>0.05</b> باشد، فرض صفر رد نمی‌شود و نتیجه می‌گیریم که <b>تفاوت معناداری بین درصد حجم هوا در بسته‌های دو برند مشاهده نشده است.</b></li>\n",
    "</ul>\n",
    "\n",
    "<p>\n",
    "حال ما از شما می‌خواهیم که این تست را با درصد اطمینان ۹۵٪ انجام دهید و نتیجه مربوط به فرض صفر را در متغیر <code>result</code> قرار دهید. برای مثال اگر فرض صفر مورد قبول است، باید مقدار  <code>”ACCEPT”</code> را در متغیر <code>result</code> بریزید و اگر فرض صفر رد شود، باید مقدار  <code>”REJECT”</code> را در متغیر <code>result</code> بریزید.\n",
    "</p>\n",
    "\n",
    "\n",
    "\n",
    "\n",
    "<br>\n",
    "<b>راهنمایی:</b>\n",
    "<ul>\n",
    "<li>از تابع <code>ttest_ind</code> استفاده کنید و پارامتر <code>equal_var=False</code> را تنظیم کنید، زیرا ممکن است واریانس دو گروه برابر نباشد.</li>\n",
    "<li>پس از اجرای آزمون، مقدار <b>t-statistic</b> و <b>p-value</b> را چاپ کنید و تحلیل خود را بر اساس مقدار <b>p-value</b> انجام دهید.</li>\n",
    "</ul>\n",
    "\n",
    "\n",
    "\n",
    "</font>\n",
    "</div>\n"
   ]
  },
  {
   "cell_type": "code",
   "execution_count": 19,
   "metadata": {},
   "outputs": [
    {
     "data": {
      "text/plain": [
       "<Axes: ylabel='Density'>"
      ]
     },
     "execution_count": 19,
     "metadata": {},
     "output_type": "execute_result"
    },
    {
     "data": {
      "image/png": "[encoded data removed]",
      "text/plain": [
       "<Figure size 640x480 with 1 Axes>"
      ]
     },
     "metadata": {},
     "output_type": "display_data"
    }
   ],
   "source": [
    "pd.Series(chipi_chipi_brand).plot(kind = 'density')"
   ]
  },
  {
   "cell_type": "code",
   "execution_count": 20,
   "metadata": {},
   "outputs": [
    {
     "data": {
      "text/plain": [
       "<Axes: ylabel='Density'>"
      ]
     },
     "execution_count": 20,
     "metadata": {},
     "output_type": "execute_result"
    },
    {
     "data": {
      "image/png": "[encoded data removed]",
      "text/plain": [
       "<Figure size 640x480 with 1 Axes>"
      ]
     },
     "metadata": {},
     "output_type": "display_data"
    }
   ],
   "source": [
    "pd.Series(expensive_brand).plot(kind = 'density')"
   ]
  },
  {
   "cell_type": "code",
   "execution_count": 21,
   "metadata": {},
   "outputs": [
    {
     "data": {
      "application/vnd.plotly.v1+json": {
       "config": {
        "plotlyServerURL": "https://plot.ly"
       },
       "data": [
        {
         "alignmentgroup": "True",
         "hovertemplate": "variable=%{x}<br>value=%{y}<extra></extra>",
         "legendgroup": "",
         "marker": {
          "color": "#636efa"
         },
         "name": "",
         "notched": false,
         "offsetgroup": "",
         "orientation": "v",
         "showlegend": false,
         "type": "box",
         "x": [
          "0",
          "0",
          "0",
          "0",
          "0",
          "0",
          "0",
          "0",
          "0",
          "0",
          "0",
          "0",
          "0",
          "0",
          "0",
          "0",
          "0",
          "0",
          "0",
          "0",
          "0",
          "0",
          "0",
          "0",
          "0"
         ],
         "x0": " ",
         "xaxis": "x",
         "y": {
          "bdata": "mpmZmZnZREAzMzMzM/NEQDMzMzMzM0VAAAAAAABARUCamZmZmRlFQJqZmZmZ2URAMzMzMzPzREAAAAAAAMBEQM3MzMzMzERAAAAAAAAARUAAAAAAAABFQAAAAAAAAEVAZmZmZmYmRUAAAAAAAMBEQJqZmZmZGUVAzczMzMwMRUDNzMzMzMxEQM3MzMzMzERAzczMzMwMRUDNzMzMzAxFQJqZmZmZGUVAAAAAAADAREAAAAAAAABFQM3MzMzMzERAMzMzMzMzRUA=",
          "dtype": "f8"
         },
         "y0": " ",
         "yaxis": "y"
        }
       ],
       "layout": {
        "boxmode": "group",
        "legend": {
         "tracegroupgap": 0
        },
        "template": {
         "data": {
          "bar": [
           {
            "error_x": {
             "color": "#2a3f5f"
            },
            "error_y": {
             "color": "#2a3f5f"
            },
            "marker": {
             "line": {
              "color": "#E5ECF6",
              "width": 0.5
             },
             "pattern": {
              "fillmode": "overlay",
              "size": 10,
              "solidity": 0.2
             }
            },
            "type": "bar"
           }
          ],
          "barpolar": [
           {
            "marker": {
             "line": {
              "color": "#E5ECF6",
              "width": 0.5
             },
             "pattern": {
              "fillmode": "overlay",
              "size": 10,
              "solidity": 0.2
             }
            },
            "type": "barpolar"
           }
          ],
          "carpet": [
           {
            "aaxis": {
             "endlinecolor": "#2a3f5f",
             "gridcolor": "white",
             "linecolor": "white",
             "minorgridcolor": "white",
             "startlinecolor": "#2a3f5f"
            },
            "baxis": {
             "endlinecolor": "#2a3f5f",
             "gridcolor": "white",
             "linecolor": "white",
             "minorgridcolor": "white",
             "startlinecolor": "#2a3f5f"
            },
            "type": "carpet"
           }
          ],
          "choropleth": [
           {
            "colorbar": {
             "outlinewidth": 0,
             "ticks": ""
            },
            "type": "choropleth"
           }
          ],
          "contour": [
           {
            "colorbar": {
             "outlinewidth": 0,
             "ticks": ""
            },
            "colorscale": [
             [
              0,
              "#0d0887"
             ],
             [
              0.1111111111111111,
              "#46039f"
             ],
             [
              0.2222222222222222,
              "#7201a8"
             ],
             [
              0.3333333333333333,
              "#9c179e"
             ],
             [
              0.4444444444444444,
              "#bd3786"
             ],
             [
              0.5555555555555556,
              "#d8576b"
             ],
             [
              0.6666666666666666,
              "#ed7953"
             ],
             [
              0.7777777777777778,
              "#fb9f3a"
             ],
             [
              0.8888888888888888,
              "#fdca26"
             ],
             [
              1,
              "#f0f921"
             ]
            ],
            "type": "contour"
           }
          ],
          "contourcarpet": [
           {
            "colorbar": {
             "outlinewidth": 0,
             "ticks": ""
            },
            "type": "contourcarpet"
           }
          ],
          "heatmap": [
           {
            "colorbar": {
             "outlinewidth": 0,
             "ticks": ""
            },
            "colorscale": [
             [
              0,
              "#0d0887"
             ],
             [
              0.1111111111111111,
              "#46039f"
             ],
             [
              0.2222222222222222,
              "#7201a8"
             ],
             [
              0.3333333333333333,
              "#9c179e"
             ],
             [
              0.4444444444444444,
              "#bd3786"
             ],
             [
              0.5555555555555556,
              "#d8576b"
             ],
             [
              0.6666666666666666,
              "#ed7953"
             ],
             [
              0.7777777777777778,
              "#fb9f3a"
             ],
             [
              0.8888888888888888,
              "#fdca26"
             ],
             [
              1,
              "#f0f921"
             ]
            ],
            "type": "heatmap"
           }
          ],
          "histogram": [
           {
            "marker": {
             "pattern": {
              "fillmode": "overlay",
              "size": 10,
              "solidity": 0.2
             }
            },
            "type": "histogram"
           }
          ],
          "histogram2d": [
           {
            "colorbar": {
             "outlinewidth": 0,
             "ticks": ""
            },
            "colorscale": [
             [
              0,
              "#0d0887"
             ],
             [
              0.1111111111111111,
              "#46039f"
             ],
             [
              0.2222222222222222,
              "#7201a8"
             ],
             [
              0.3333333333333333,
              "#9c179e"
             ],
             [
              0.4444444444444444,
              "#bd3786"
             ],
             [
              0.5555555555555556,
              "#d8576b"
             ],
             [
              0.6666666666666666,
              "#ed7953"
             ],
             [
              0.7777777777777778,
              "#fb9f3a"
             ],
             [
              0.8888888888888888,
              "#fdca26"
             ],
             [
              1,
              "#f0f921"
             ]
            ],
            "type": "histogram2d"
           }
          ],
          "histogram2dcontour": [
           {
            "colorbar": {
             "outlinewidth": 0,
             "ticks": ""
            },
            "colorscale": [
             [
              0,
              "#0d0887"
             ],
             [
              0.1111111111111111,
              "#46039f"
             ],
             [
              0.2222222222222222,
              "#7201a8"
             ],
             [
              0.3333333333333333,
              "#9c179e"
             ],
             [
              0.4444444444444444,
              "#bd3786"
             ],
             [
              0.5555555555555556,
              "#d8576b"
             ],
             [
              0.6666666666666666,
              "#ed7953"
             ],
             [
              0.7777777777777778,
              "#fb9f3a"
             ],
             [
              0.8888888888888888,
              "#fdca26"
             ],
             [
              1,
              "#f0f921"
             ]
            ],
            "type": "histogram2dcontour"
           }
          ],
          "mesh3d": [
           {
            "colorbar": {
             "outlinewidth": 0,
             "ticks": ""
            },
            "type": "mesh3d"
           }
          ],
          "parcoords": [
           {
            "line": {
             "colorbar": {
              "outlinewidth": 0,
              "ticks": ""
             }
            },
            "type": "parcoords"
           }
          ],
          "pie": [
           {
            "automargin": true,
            "type": "pie"
           }
          ],
          "scatter": [
           {
            "fillpattern": {
             "fillmode": "overlay",
             "size": 10,
             "solidity": 0.2
            },
            "type": "scatter"
           }
          ],
          "scatter3d": [
           {
            "line": {
             "colorbar": {
              "outlinewidth": 0,
              "ticks": ""
             }
            },
            "marker": {
             "colorbar": {
              "outlinewidth": 0,
              "ticks": ""
             }
            },
            "type": "scatter3d"
           }
          ],
          "scattercarpet": [
           {
            "marker": {
             "colorbar": {
              "outlinewidth": 0,
              "ticks": ""
             }
            },
            "type": "scattercarpet"
           }
          ],
          "scattergeo": [
           {
            "marker": {
             "colorbar": {
              "outlinewidth": 0,
              "ticks": ""
             }
            },
            "type": "scattergeo"
           }
          ],
          "scattergl": [
           {
            "marker": {
             "colorbar": {
              "outlinewidth": 0,
              "ticks": ""
             }
            },
            "type": "scattergl"
           }
          ],
          "scattermap": [
           {
            "marker": {
             "colorbar": {
              "outlinewidth": 0,
              "ticks": ""
             }
            },
            "type": "scattermap"
           }
          ],
          "scattermapbox": [
           {
            "marker": {
             "colorbar": {
              "outlinewidth": 0,
              "ticks": ""
             }
            },
            "type": "scattermapbox"
           }
          ],
          "scatterpolar": [
           {
            "marker": {
             "colorbar": {
              "outlinewidth": 0,
              "ticks": ""
             }
            },
            "type": "scatterpolar"
           }
          ],
          "scatterpolargl": [
           {
            "marker": {
             "colorbar": {
              "outlinewidth": 0,
              "ticks": ""
             }
            },
            "type": "scatterpolargl"
           }
          ],
          "scatterternary": [
           {
            "marker": {
             "colorbar": {
              "outlinewidth": 0,
              "ticks": ""
             }
            },
            "type": "scatterternary"
           }
          ],
          "surface": [
           {
            "colorbar": {
             "outlinewidth": 0,
             "ticks": ""
            },
            "colorscale": [
             [
              0,
              "#0d0887"
             ],
             [
              0.1111111111111111,
              "#46039f"
             ],
             [
              0.2222222222222222,
              "#7201a8"
             ],
             [
              0.3333333333333333,
              "#9c179e"
             ],
             [
              0.4444444444444444,
              "#bd3786"
             ],
             [
              0.5555555555555556,
              "#d8576b"
             ],
             [
              0.6666666666666666,
              "#ed7953"
             ],
             [
              0.7777777777777778,
              "#fb9f3a"
             ],
             [
              0.8888888888888888,
              "#fdca26"
             ],
             [
              1,
              "#f0f921"
             ]
            ],
            "type": "surface"
           }
          ],
          "table": [
           {
            "cells": {
             "fill": {
              "color": "#EBF0F8"
             },
             "line": {
              "color": "white"
             }
            },
            "header": {
             "fill": {
              "color": "#C8D4E3"
             },
             "line": {
              "color": "white"
             }
            },
            "type": "table"
           }
          ]
         },
         "layout": {
          "annotationdefaults": {
           "arrowcolor": "#2a3f5f",
           "arrowhead": 0,
           "arrowwidth": 1
          },
          "autotypenumbers": "strict",
          "coloraxis": {
           "colorbar": {
            "outlinewidth": 0,
            "ticks": ""
           }
          },
          "colorscale": {
           "diverging": [
            [
             0,
             "#8e0152"
            ],
            [
             0.1,
             "#c51b7d"
            ],
            [
             0.2,
             "#de77ae"
            ],
            [
             0.3,
             "#f1b6da"
            ],
            [
             0.4,
             "#fde0ef"
            ],
            [
             0.5,
             "#f7f7f7"
            ],
            [
             0.6,
             "#e6f5d0"
            ],
            [
             0.7,
             "#b8e186"
            ],
            [
             0.8,
             "#7fbc41"
            ],
            [
             0.9,
             "#4d9221"
            ],
            [
             1,
             "#276419"
            ]
           ],
           "sequential": [
            [
             0,
             "#0d0887"
            ],
            [
             0.1111111111111111,
             "#46039f"
            ],
            [
             0.2222222222222222,
             "#7201a8"
            ],
            [
             0.3333333333333333,
             "#9c179e"
            ],
            [
             0.4444444444444444,
             "#bd3786"
            ],
            [
             0.5555555555555556,
             "#d8576b"
            ],
            [
             0.6666666666666666,
             "#ed7953"
            ],
            [
             0.7777777777777778,
             "#fb9f3a"
            ],
            [
             0.8888888888888888,
             "#fdca26"
            ],
            [
             1,
             "#f0f921"
            ]
           ],
           "sequentialminus": [
            [
             0,
             "#0d0887"
            ],
            [
             0.1111111111111111,
             "#46039f"
            ],
            [
             0.2222222222222222,
             "#7201a8"
            ],
            [
             0.3333333333333333,
             "#9c179e"
            ],
            [
             0.4444444444444444,
             "#bd3786"
            ],
            [
             0.5555555555555556,
             "#d8576b"
            ],
            [
             0.6666666666666666,
             "#ed7953"
            ],
            [
             0.7777777777777778,
             "#fb9f3a"
            ],
            [
             0.8888888888888888,
             "#fdca26"
            ],
            [
             1,
             "#f0f921"
            ]
           ]
          },
          "colorway": [
           "#636efa",
           "#EF553B",
           "#00cc96",
           "#ab63fa",
           "#FFA15A",
           "#19d3f3",
           "#FF6692",
           "#B6E880",
           "#FF97FF",
           "#FECB52"
          ],
          "font": {
           "color": "#2a3f5f"
          },
          "geo": {
           "bgcolor": "white",
           "lakecolor": "white",
           "landcolor": "#E5ECF6",
           "showlakes": true,
           "showland": true,
           "subunitcolor": "white"
          },
          "hoverlabel": {
           "align": "left"
          },
          "hovermode": "closest",
          "mapbox": {
           "style": "light"
          },
          "paper_bgcolor": "white",
          "plot_bgcolor": "#E5ECF6",
          "polar": {
           "angularaxis": {
            "gridcolor": "white",
            "linecolor": "white",
            "ticks": ""
           },
           "bgcolor": "#E5ECF6",
           "radialaxis": {
            "gridcolor": "white",
            "linecolor": "white",
            "ticks": ""
           }
          },
          "scene": {
           "xaxis": {
            "backgroundcolor": "#E5ECF6",
            "gridcolor": "white",
            "gridwidth": 2,
            "linecolor": "white",
            "showbackground": true,
            "ticks": "",
            "zerolinecolor": "white"
           },
           "yaxis": {
            "backgroundcolor": "#E5ECF6",
            "gridcolor": "white",
            "gridwidth": 2,
            "linecolor": "white",
            "showbackground": true,
            "ticks": "",
            "zerolinecolor": "white"
           },
           "zaxis": {
            "backgroundcolor": "#E5ECF6",
            "gridcolor": "white",
            "gridwidth": 2,
            "linecolor": "white",
            "showbackground": true,
            "ticks": "",
            "zerolinecolor": "white"
           }
          },
          "shapedefaults": {
           "line": {
            "color": "#2a3f5f"
           }
          },
          "ternary": {
           "aaxis": {
            "gridcolor": "white",
            "linecolor": "white",
            "ticks": ""
           },
           "baxis": {
            "gridcolor": "white",
            "linecolor": "white",
            "ticks": ""
           },
           "bgcolor": "#E5ECF6",
           "caxis": {
            "gridcolor": "white",
            "linecolor": "white",
            "ticks": ""
           }
          },
          "title": {
           "x": 0.05
          },
          "xaxis": {
           "automargin": true,
           "gridcolor": "white",
           "linecolor": "white",
           "ticks": "",
           "title": {
            "standoff": 15
           },
           "zerolinecolor": "white",
           "zerolinewidth": 2
          },
          "yaxis": {
           "automargin": true,
           "gridcolor": "white",
           "linecolor": "white",
           "ticks": "",
           "title": {
            "standoff": 15
           },
           "zerolinecolor": "white",
           "zerolinewidth": 2
          }
         }
        },
        "title": {
         "text": "Boxplot of Weights"
        },
        "xaxis": {
         "anchor": "y",
         "domain": [
          0,
          1
         ],
         "title": {
          "text": "variable"
         }
        },
        "yaxis": {
         "anchor": "x",
         "domain": [
          0,
          1
         ],
         "title": {
          "text": "value"
         }
        }
       }
      },
      "image/png": "[encoded data removed]"
     },
     "metadata": {},
     "output_type": "display_data"
    }
   ],
   "source": [
    "fig = px.box(chipi_chipi_brand, title='Boxplot of Weights')\n",
    "fig.show()"
   ]
  },
  {
   "cell_type": "code",
   "execution_count": 22,
   "metadata": {},
   "outputs": [
    {
     "data": {
      "application/vnd.plotly.v1+json": {
       "config": {
        "plotlyServerURL": "https://plot.ly"
       },
       "data": [
        {
         "alignmentgroup": "True",
         "hovertemplate": "variable=%{x}<br>value=%{y}<extra></extra>",
         "legendgroup": "",
         "marker": {
          "color": "#636efa"
         },
         "name": "",
         "notched": false,
         "offsetgroup": "",
         "orientation": "v",
         "showlegend": false,
         "type": "box",
         "x": [
          "0",
          "0",
          "0",
          "0",
          "0",
          "0",
          "0",
          "0",
          "0",
          "0",
          "0",
          "0",
          "0",
          "0",
          "0",
          "0",
          "0",
          "0",
          "0",
          "0",
          "0",
          "0",
          "0",
          "0",
          "0"
         ],
         "x0": " ",
         "xaxis": "x",
         "y": {
          "bdata": "mpmZmZkZRkAAAAAAAEBGQGZmZmZmZkZAZmZmZmbmRUCamZmZmRlGQM3MzMzMTEZAZmZmZmbmRkCamZmZmZlGQDMzMzMz80ZAAAAAAACARkAAAAAAAIBGQM3MzMzMDEZAMzMzMzPzRUAzMzMzM/NFQAAAAAAAQEZAAAAAAABARkCamZmZmVlGQGZmZmZm5kZAmpmZmZmZRkDNzMzMzIxGQDMzMzMzs0ZAZmZmZmbmRUCamZmZmRlGQDMzMzMz80VAzczMzMxMRkA=",
          "dtype": "f8"
         },
         "y0": " ",
         "yaxis": "y"
        }
       ],
       "layout": {
        "boxmode": "group",
        "legend": {
         "tracegroupgap": 0
        },
        "template": {
         "data": {
          "bar": [
           {
            "error_x": {
             "color": "#2a3f5f"
            },
            "error_y": {
             "color": "#2a3f5f"
            },
            "marker": {
             "line": {
              "color": "#E5ECF6",
              "width": 0.5
             },
             "pattern": {
              "fillmode": "overlay",
              "size": 10,
              "solidity": 0.2
             }
            },
            "type": "bar"
           }
          ],
          "barpolar": [
           {
            "marker": {
             "line": {
              "color": "#E5ECF6",
              "width": 0.5
             },
             "pattern": {
              "fillmode": "overlay",
              "size": 10,
              "solidity": 0.2
             }
            },
            "type": "barpolar"
           }
          ],
          "carpet": [
           {
            "aaxis": {
             "endlinecolor": "#2a3f5f",
             "gridcolor": "white",
             "linecolor": "white",
             "minorgridcolor": "white",
             "startlinecolor": "#2a3f5f"
            },
            "baxis": {
             "endlinecolor": "#2a3f5f",
             "gridcolor": "white",
             "linecolor": "white",
             "minorgridcolor": "white",
             "startlinecolor": "#2a3f5f"
            },
            "type": "carpet"
           }
          ],
          "choropleth": [
           {
            "colorbar": {
             "outlinewidth": 0,
             "ticks": ""
            },
            "type": "choropleth"
           }
          ],
          "contour": [
           {
            "colorbar": {
             "outlinewidth": 0,
             "ticks": ""
            },
            "colorscale": [
             [
              0,
              "#0d0887"
             ],
             [
              0.1111111111111111,
              "#46039f"
             ],
             [
              0.2222222222222222,
              "#7201a8"
             ],
             [
              0.3333333333333333,
              "#9c179e"
             ],
             [
              0.4444444444444444,
              "#bd3786"
             ],
             [
              0.5555555555555556,
              "#d8576b"
             ],
             [
              0.6666666666666666,
              "#ed7953"
             ],
             [
              0.7777777777777778,
              "#fb9f3a"
             ],
             [
              0.8888888888888888,
              "#fdca26"
             ],
             [
              1,
              "#f0f921"
             ]
            ],
            "type": "contour"
           }
          ],
          "contourcarpet": [
           {
            "colorbar": {
             "outlinewidth": 0,
             "ticks": ""
            },
            "type": "contourcarpet"
           }
          ],
          "heatmap": [
           {
            "colorbar": {
             "outlinewidth": 0,
             "ticks": ""
            },
            "colorscale": [
             [
              0,
              "#0d0887"
             ],
             [
              0.1111111111111111,
              "#46039f"
             ],
             [
              0.2222222222222222,
              "#7201a8"
             ],
             [
              0.3333333333333333,
              "#9c179e"
             ],
             [
              0.4444444444444444,
              "#bd3786"
             ],
             [
              0.5555555555555556,
              "#d8576b"
             ],
             [
              0.6666666666666666,
              "#ed7953"
             ],
             [
              0.7777777777777778,
              "#fb9f3a"
             ],
             [
              0.8888888888888888,
              "#fdca26"
             ],
             [
              1,
              "#f0f921"
             ]
            ],
            "type": "heatmap"
           }
          ],
          "histogram": [
           {
            "marker": {
             "pattern": {
              "fillmode": "overlay",
              "size": 10,
              "solidity": 0.2
             }
            },
            "type": "histogram"
           }
          ],
          "histogram2d": [
           {
            "colorbar": {
             "outlinewidth": 0,
             "ticks": ""
            },
            "colorscale": [
             [
              0,
              "#0d0887"
             ],
             [
              0.1111111111111111,
              "#46039f"
             ],
             [
              0.2222222222222222,
              "#7201a8"
             ],
             [
              0.3333333333333333,
              "#9c179e"
             ],
             [
              0.4444444444444444,
              "#bd3786"
             ],
             [
              0.5555555555555556,
              "#d8576b"
             ],
             [
              0.6666666666666666,
              "#ed7953"
             ],
             [
              0.7777777777777778,
              "#fb9f3a"
             ],
             [
              0.8888888888888888,
              "#fdca26"
             ],
             [
              1,
              "#f0f921"
             ]
            ],
            "type": "histogram2d"
           }
          ],
          "histogram2dcontour": [
           {
            "colorbar": {
             "outlinewidth": 0,
             "ticks": ""
            },
            "colorscale": [
             [
              0,
              "#0d0887"
             ],
             [
              0.1111111111111111,
              "#46039f"
             ],
             [
              0.2222222222222222,
              "#7201a8"
             ],
             [
              0.3333333333333333,
              "#9c179e"
             ],
             [
              0.4444444444444444,
              "#bd3786"
             ],
             [
              0.5555555555555556,
              "#d8576b"
             ],
             [
              0.6666666666666666,
              "#ed7953"
             ],
             [
              0.7777777777777778,
              "#fb9f3a"
             ],
             [
              0.8888888888888888,
              "#fdca26"
             ],
             [
              1,
              "#f0f921"
             ]
            ],
            "type": "histogram2dcontour"
           }
          ],
          "mesh3d": [
           {
            "colorbar": {
             "outlinewidth": 0,
             "ticks": ""
            },
            "type": "mesh3d"
           }
          ],
          "parcoords": [
           {
            "line": {
             "colorbar": {
              "outlinewidth": 0,
              "ticks": ""
             }
            },
            "type": "parcoords"
           }
          ],
          "pie": [
           {
            "automargin": true,
            "type": "pie"
           }
          ],
          "scatter": [
           {
            "fillpattern": {
             "fillmode": "overlay",
             "size": 10,
             "solidity": 0.2
            },
            "type": "scatter"
           }
          ],
          "scatter3d": [
           {
            "line": {
             "colorbar": {
              "outlinewidth": 0,
              "ticks": ""
             }
            },
            "marker": {
             "colorbar": {
              "outlinewidth": 0,
              "ticks": ""
             }
            },
            "type": "scatter3d"
           }
          ],
          "scattercarpet": [
           {
            "marker": {
             "colorbar": {
              "outlinewidth": 0,
              "ticks": ""
             }
            },
            "type": "scattercarpet"
           }
          ],
          "scattergeo": [
           {
            "marker": {
             "colorbar": {
              "outlinewidth": 0,
              "ticks": ""
             }
            },
            "type": "scattergeo"
           }
          ],
          "scattergl": [
           {
            "marker": {
             "colorbar": {
              "outlinewidth": 0,
              "ticks": ""
             }
            },
            "type": "scattergl"
           }
          ],
          "scattermap": [
           {
            "marker": {
             "colorbar": {
              "outlinewidth": 0,
              "ticks": ""
             }
            },
            "type": "scattermap"
           }
          ],
          "scattermapbox": [
           {
            "marker": {
             "colorbar": {
              "outlinewidth": 0,
              "ticks": ""
             }
            },
            "type": "scattermapbox"
           }
          ],
          "scatterpolar": [
           {
            "marker": {
             "colorbar": {
              "outlinewidth": 0,
              "ticks": ""
             }
            },
            "type": "scatterpolar"
           }
          ],
          "scatterpolargl": [
           {
            "marker": {
             "colorbar": {
              "outlinewidth": 0,
              "ticks": ""
             }
            },
            "type": "scatterpolargl"
           }
          ],
          "scatterternary": [
           {
            "marker": {
             "colorbar": {
              "outlinewidth": 0,
              "ticks": ""
             }
            },
            "type": "scatterternary"
           }
          ],
          "surface": [
           {
            "colorbar": {
             "outlinewidth": 0,
             "ticks": ""
            },
            "colorscale": [
             [
              0,
              "#0d0887"
             ],
             [
              0.1111111111111111,
              "#46039f"
             ],
             [
              0.2222222222222222,
              "#7201a8"
             ],
             [
              0.3333333333333333,
              "#9c179e"
             ],
             [
              0.4444444444444444,
              "#bd3786"
             ],
             [
              0.5555555555555556,
              "#d8576b"
             ],
             [
              0.6666666666666666,
              "#ed7953"
             ],
             [
              0.7777777777777778,
              "#fb9f3a"
             ],
             [
              0.8888888888888888,
              "#fdca26"
             ],
             [
              1,
              "#f0f921"
             ]
            ],
            "type": "surface"
           }
          ],
          "table": [
           {
            "cells": {
             "fill": {
              "color": "#EBF0F8"
             },
             "line": {
              "color": "white"
             }
            },
            "header": {
             "fill": {
              "color": "#C8D4E3"
             },
             "line": {
              "color": "white"
             }
            },
            "type": "table"
           }
          ]
         },
         "layout": {
          "annotationdefaults": {
           "arrowcolor": "#2a3f5f",
           "arrowhead": 0,
           "arrowwidth": 1
          },
          "autotypenumbers": "strict",
          "coloraxis": {
           "colorbar": {
            "outlinewidth": 0,
            "ticks": ""
           }
          },
          "colorscale": {
           "diverging": [
            [
             0,
             "#8e0152"
            ],
            [
             0.1,
             "#c51b7d"
            ],
            [
             0.2,
             "#de77ae"
            ],
            [
             0.3,
             "#f1b6da"
            ],
            [
             0.4,
             "#fde0ef"
            ],
            [
             0.5,
             "#f7f7f7"
            ],
            [
             0.6,
             "#e6f5d0"
            ],
            [
             0.7,
             "#b8e186"
            ],
            [
             0.8,
             "#7fbc41"
            ],
            [
             0.9,
             "#4d9221"
            ],
            [
             1,
             "#276419"
            ]
           ],
           "sequential": [
            [
             0,
             "#0d0887"
            ],
            [
             0.1111111111111111,
             "#46039f"
            ],
            [
             0.2222222222222222,
             "#7201a8"
            ],
            [
             0.3333333333333333,
             "#9c179e"
            ],
            [
             0.4444444444444444,
             "#bd3786"
            ],
            [
             0.5555555555555556,
             "#d8576b"
            ],
            [
             0.6666666666666666,
             "#ed7953"
            ],
            [
             0.7777777777777778,
             "#fb9f3a"
            ],
            [
             0.8888888888888888,
             "#fdca26"
            ],
            [
             1,
             "#f0f921"
            ]
           ],
           "sequentialminus": [
            [
             0,
             "#0d0887"
            ],
            [
             0.1111111111111111,
             "#46039f"
            ],
            [
             0.2222222222222222,
             "#7201a8"
            ],
            [
             0.3333333333333333,
             "#9c179e"
            ],
            [
             0.4444444444444444,
             "#bd3786"
            ],
            [
             0.5555555555555556,
             "#d8576b"
            ],
            [
             0.6666666666666666,
             "#ed7953"
            ],
            [
             0.7777777777777778,
             "#fb9f3a"
            ],
            [
             0.8888888888888888,
             "#fdca26"
            ],
            [
             1,
             "#f0f921"
            ]
           ]
          },
          "colorway": [
           "#636efa",
           "#EF553B",
           "#00cc96",
           "#ab63fa",
           "#FFA15A",
           "#19d3f3",
           "#FF6692",
           "#B6E880",
           "#FF97FF",
           "#FECB52"
          ],
          "font": {
           "color": "#2a3f5f"
          },
          "geo": {
           "bgcolor": "white",
           "lakecolor": "white",
           "landcolor": "#E5ECF6",
           "showlakes": true,
           "showland": true,
           "subunitcolor": "white"
          },
          "hoverlabel": {
           "align": "left"
          },
          "hovermode": "closest",
          "mapbox": {
           "style": "light"
          },
          "paper_bgcolor": "white",
          "plot_bgcolor": "#E5ECF6",
          "polar": {
           "angularaxis": {
            "gridcolor": "white",
            "linecolor": "white",
            "ticks": ""
           },
           "bgcolor": "#E5ECF6",
           "radialaxis": {
            "gridcolor": "white",
            "linecolor": "white",
            "ticks": ""
           }
          },
          "scene": {
           "xaxis": {
            "backgroundcolor": "#E5ECF6",
            "gridcolor": "white",
            "gridwidth": 2,
            "linecolor": "white",
            "showbackground": true,
            "ticks": "",
            "zerolinecolor": "white"
           },
           "yaxis": {
            "backgroundcolor": "#E5ECF6",
            "gridcolor": "white",
            "gridwidth": 2,
            "linecolor": "white",
            "showbackground": true,
            "ticks": "",
            "zerolinecolor": "white"
           },
           "zaxis": {
            "backgroundcolor": "#E5ECF6",
            "gridcolor": "white",
            "gridwidth": 2,
            "linecolor": "white",
            "showbackground": true,
            "ticks": "",
            "zerolinecolor": "white"
           }
          },
          "shapedefaults": {
           "line": {
            "color": "#2a3f5f"
           }
          },
          "ternary": {
           "aaxis": {
            "gridcolor": "white",
            "linecolor": "white",
            "ticks": ""
           },
           "baxis": {
            "gridcolor": "white",
            "linecolor": "white",
            "ticks": ""
           },
           "bgcolor": "#E5ECF6",
           "caxis": {
            "gridcolor": "white",
            "linecolor": "white",
            "ticks": ""
           }
          },
          "title": {
           "x": 0.05
          },
          "xaxis": {
           "automargin": true,
           "gridcolor": "white",
           "linecolor": "white",
           "ticks": "",
           "title": {
            "standoff": 15
           },
           "zerolinecolor": "white",
           "zerolinewidth": 2
          },
          "yaxis": {
           "automargin": true,
           "gridcolor": "white",
           "linecolor": "white",
           "ticks": "",
           "title": {
            "standoff": 15
           },
           "zerolinecolor": "white",
           "zerolinewidth": 2
          }
         }
        },
        "title": {
         "text": "Boxplot of Weights"
        },
        "xaxis": {
         "anchor": "y",
         "domain": [
          0,
          1
         ],
         "title": {
          "text": "variable"
         }
        },
        "yaxis": {
         "anchor": "x",
         "domain": [
          0,
          1
         ],
         "title": {
          "text": "value"
         }
        }
       }
      },
      "image/png": "[encoded data removed]"
     },
     "metadata": {},
     "output_type": "display_data"
    }
   ],
   "source": [
    "fig = px.box(expensive_brand, title='Boxplot of Weights')\n",
    "fig.show()"
   ]
  },
  {
   "cell_type": "code",
   "execution_count": 26,
   "metadata": {},
   "outputs": [
    {
     "name": "stdout",
     "output_type": "stream",
     "text": [
      "TtestResult(statistic=np.float64(19.01338720711004), pvalue=np.float64(6.714868859388853e-20), df=np.float64(34.61416310078811))\n"
     ]
    }
   ],
   "source": [
    "# TODO: Perform the independent t-test and collect the result.\n",
    "# if the null hypothesis is accepted set the result to \"ACCEPT\" otherwise set it to \"REJECT\"\n",
    "from scipy.stats import ttest_ind\n",
    "\n",
    "x = ttest_ind(expensive_brand, chipi_chipi_brand, equal_var=False)\n",
    "print(x)\n",
    "result = \"REJECT\""
   ]
  },
  {
   "cell_type": "markdown",
   "metadata": {},
   "source": [
    "<h3 align=right style=\"line-height:200%;font-family:vazir;color:#0099cc\">\n",
    "<font face=\"vazirmatn\" color=\"#0099cc\">\n",
    "بیشتر بدانید\n",
    "</font>\n",
    "</h3>"
   ]
  },
  {
   "cell_type": "markdown",
   "metadata": {},
   "source": [
    "\n",
    "<p dir=rtl style=\"direction: rtl;text-align: justify;line-height:200%;font-family:vazir;font-size:medium\">\n",
    "<font face=\"vazirmatn\" size=3>\n",
    "نخست نگاهی به نمودار توزیع دو داده می‌اندازیم. به وضوح تفاوت توزیع دو برند مشخص است.\n",
    "</font>\n",
    "</p>\n"
   ]
  },
  {
   "cell_type": "code",
   "execution_count": 23,
   "metadata": {},
   "outputs": [
    {
     "data": {
      "application/vnd.plotly.v1+json": {
       "config": {
        "plotlyServerURL": "https://plot.ly"
       },
       "data": [
        {
         "legendgroup": "Chipi Chipi",
         "marker": {
          "color": "rgb(31, 119, 180)"
         },
         "mode": "lines",
         "name": "Chipi Chipi",
         "showlegend": true,
         "type": "scatter",
         "x": [
          41.5,
          41.502,
          41.504,
          41.506,
          41.508,
          41.51,
          41.512,
          41.514,
          41.516,
          41.518,
          41.52,
          41.522,
          41.524,
          41.526,
          41.528,
          41.53,
          41.532,
          41.534,
          41.536,
          41.538,
          41.54,
          41.542,
          41.544,
          41.546,
          41.548,
          41.55,
          41.552,
          41.554,
          41.556,
          41.558,
          41.56,
          41.562,
          41.564,
          41.566,
          41.568,
          41.57,
          41.572,
          41.574,
          41.576,
          41.578,
          41.58,
          41.582,
          41.584,
          41.586,
          41.588,
          41.59,
          41.592,
          41.594,
          41.596,
          41.598,
          41.6,
          41.602,
          41.604,
          41.606,
          41.608,
          41.61,
          41.612,
          41.614,
          41.616,
          41.618,
          41.62,
          41.622,
          41.624,
          41.626,
          41.628,
          41.63,
          41.632,
          41.634,
          41.636,
          41.638,
          41.64,
          41.642,
          41.644,
          41.646,
          41.648,
          41.65,
          41.652,
          41.654,
          41.656,
          41.658,
          41.66,
          41.662,
          41.664,
          41.666,
          41.668,
          41.67,
          41.672,
          41.674,
          41.676,
          41.678,
          41.68,
          41.682,
          41.684,
          41.686,
          41.688,
          41.69,
          41.692,
          41.694,
          41.696,
          41.698,
          41.7,
          41.702,
          41.704,
          41.706,
          41.708,
          41.71,
          41.712,
          41.714,
          41.716,
          41.718,
          41.72,
          41.722,
          41.724,
          41.726,
          41.728,
          41.73,
          41.732,
          41.734,
          41.736,
          41.738,
          41.74,
          41.742,
          41.744,
          41.746,
          41.748,
          41.75,
          41.752,
          41.754,
          41.756,
          41.758,
          41.76,
          41.762,
          41.764,
          41.766,
          41.768,
          41.77,
          41.772,
          41.774,
          41.776,
          41.778,
          41.78,
          41.782,
          41.784,
          41.786,
          41.788,
          41.79,
          41.792,
          41.794,
          41.796,
          41.798,
          41.8,
          41.802,
          41.804,
          41.806,
          41.808,
          41.81,
          41.812,
          41.814,
          41.816,
          41.818,
          41.82,
          41.822,
          41.824,
          41.826,
          41.828,
          41.83,
          41.832,
          41.834,
          41.836,
          41.838,
          41.84,
          41.842,
          41.844,
          41.846,
          41.848,
          41.85,
          41.852,
          41.854,
          41.856,
          41.858,
          41.86,
          41.862,
          41.864,
          41.866,
          41.868,
          41.87,
          41.872,
          41.874,
          41.876,
          41.878,
          41.88,
          41.882,
          41.884,
          41.886,
          41.888,
          41.89,
          41.892,
          41.894,
          41.896,
          41.898,
          41.9,
          41.902,
          41.904,
          41.906,
          41.908,
          41.91,
          41.912,
          41.914,
          41.916,
          41.918,
          41.92,
          41.922,
          41.924,
          41.926,
          41.928,
          41.93,
          41.932,
          41.934,
          41.936,
          41.938,
          41.94,
          41.942,
          41.944,
          41.946,
          41.948,
          41.95,
          41.952,
          41.954,
          41.956,
          41.958,
          41.96,
          41.962,
          41.964,
          41.966,
          41.968,
          41.97,
          41.972,
          41.974,
          41.976,
          41.978,
          41.98,
          41.982,
          41.984,
          41.986,
          41.988,
          41.99,
          41.992,
          41.994,
          41.996,
          41.998,
          42,
          42.002,
          42.004,
          42.006,
          42.008,
          42.01,
          42.012,
          42.014,
          42.016,
          42.018,
          42.02,
          42.022,
          42.024,
          42.026,
          42.028,
          42.03,
          42.032,
          42.034,
          42.036,
          42.038,
          42.04,
          42.042,
          42.044,
          42.046,
          42.048,
          42.05,
          42.052,
          42.054,
          42.056,
          42.058,
          42.06,
          42.062,
          42.064,
          42.066,
          42.068,
          42.07,
          42.072,
          42.074,
          42.076,
          42.078,
          42.08,
          42.082,
          42.084,
          42.086,
          42.088,
          42.09,
          42.092,
          42.094,
          42.096,
          42.098,
          42.1,
          42.102,
          42.104,
          42.106,
          42.108,
          42.11,
          42.112,
          42.114,
          42.116,
          42.118,
          42.12,
          42.122,
          42.124,
          42.126,
          42.128,
          42.13,
          42.132,
          42.134,
          42.136,
          42.138,
          42.14,
          42.142,
          42.144,
          42.146,
          42.148,
          42.15,
          42.152,
          42.154,
          42.156,
          42.158,
          42.16,
          42.162,
          42.164,
          42.166,
          42.168,
          42.17,
          42.172,
          42.174,
          42.176,
          42.178,
          42.18,
          42.182,
          42.184,
          42.186,
          42.188,
          42.19,
          42.192,
          42.194,
          42.196,
          42.198,
          42.2,
          42.202,
          42.204,
          42.206,
          42.208,
          42.21,
          42.212,
          42.214,
          42.216,
          42.218,
          42.22,
          42.222,
          42.224,
          42.226,
          42.228,
          42.23,
          42.232,
          42.234,
          42.236,
          42.238,
          42.24,
          42.242,
          42.244,
          42.246,
          42.248,
          42.25,
          42.252,
          42.254,
          42.256,
          42.258,
          42.26,
          42.262,
          42.264,
          42.266,
          42.268,
          42.27,
          42.272,
          42.274,
          42.276,
          42.278,
          42.28,
          42.282,
          42.284,
          42.286,
          42.288,
          42.29,
          42.292,
          42.294,
          42.296,
          42.298,
          42.3,
          42.302,
          42.304,
          42.306,
          42.308,
          42.31,
          42.312,
          42.314,
          42.316,
          42.318,
          42.32,
          42.322,
          42.324,
          42.326,
          42.328,
          42.33,
          42.332,
          42.334,
          42.336,
          42.338,
          42.34,
          42.342,
          42.344,
          42.346,
          42.348,
          42.35,
          42.352,
          42.354,
          42.356,
          42.358,
          42.36,
          42.362,
          42.364,
          42.366,
          42.368,
          42.37,
          42.372,
          42.374,
          42.376,
          42.378,
          42.38,
          42.382,
          42.384,
          42.386,
          42.388,
          42.39,
          42.392,
          42.394,
          42.396,
          42.398,
          42.4,
          42.402,
          42.404,
          42.406,
          42.408,
          42.41,
          42.412,
          42.414,
          42.416,
          42.418,
          42.42,
          42.422,
          42.424,
          42.426,
          42.428,
          42.43,
          42.432,
          42.434,
          42.436,
          42.438,
          42.44,
          42.442,
          42.444,
          42.446,
          42.448,
          42.45,
          42.452,
          42.454,
          42.456,
          42.458,
          42.46,
          42.462,
          42.464,
          42.466,
          42.468,
          42.47,
          42.472,
          42.474,
          42.476,
          42.478,
          42.48,
          42.482,
          42.484,
          42.486,
          42.488,
          42.49,
          42.492,
          42.494,
          42.496,
          42.498
         ],
         "xaxis": "x",
         "y": {
          "bdata": "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",
          "dtype": "f8"
         },
         "yaxis": "y"
        },
        {
         "legendgroup": "Expensive Brand",
         "marker": {
          "color": "rgb(255, 127, 14)"
         },
         "mode": "lines",
         "name": "Expensive Brand",
         "showlegend": true,
         "type": "scatter",
         "x": [
          43.8,
          43.804199999999994,
          43.8084,
          43.812599999999996,
          43.8168,
          43.821,
          43.825199999999995,
          43.8294,
          43.8336,
          43.837799999999994,
          43.842,
          43.846199999999996,
          43.8504,
          43.8546,
          43.858799999999995,
          43.863,
          43.8672,
          43.871399999999994,
          43.8756,
          43.879799999999996,
          43.884,
          43.8882,
          43.892399999999995,
          43.8966,
          43.9008,
          43.904999999999994,
          43.9092,
          43.913399999999996,
          43.9176,
          43.9218,
          43.925999999999995,
          43.9302,
          43.9344,
          43.938599999999994,
          43.9428,
          43.946999999999996,
          43.9512,
          43.9554,
          43.959599999999995,
          43.9638,
          43.967999999999996,
          43.972199999999994,
          43.9764,
          43.980599999999995,
          43.9848,
          43.989,
          43.993199999999995,
          43.9974,
          44.001599999999996,
          44.0058,
          44.01,
          44.014199999999995,
          44.0184,
          44.0226,
          44.026799999999994,
          44.031,
          44.035199999999996,
          44.0394,
          44.0436,
          44.047799999999995,
          44.052,
          44.0562,
          44.060399999999994,
          44.0646,
          44.068799999999996,
          44.073,
          44.0772,
          44.081399999999995,
          44.0856,
          44.0898,
          44.093999999999994,
          44.0982,
          44.102399999999996,
          44.1066,
          44.1108,
          44.114999999999995,
          44.1192,
          44.1234,
          44.127599999999994,
          44.1318,
          44.135999999999996,
          44.1402,
          44.1444,
          44.148599999999995,
          44.1528,
          44.157,
          44.1612,
          44.1654,
          44.169599999999996,
          44.1738,
          44.178,
          44.182199999999995,
          44.1864,
          44.190599999999996,
          44.1948,
          44.199,
          44.203199999999995,
          44.2074,
          44.2116,
          44.215799999999994,
          44.22,
          44.224199999999996,
          44.2284,
          44.2326,
          44.236799999999995,
          44.241,
          44.2452,
          44.249399999999994,
          44.2536,
          44.257799999999996,
          44.262,
          44.2662,
          44.270399999999995,
          44.2746,
          44.2788,
          44.282999999999994,
          44.2872,
          44.291399999999996,
          44.2956,
          44.2998,
          44.303999999999995,
          44.3082,
          44.3124,
          44.316599999999994,
          44.3208,
          44.324999999999996,
          44.3292,
          44.3334,
          44.337599999999995,
          44.3418,
          44.346,
          44.3502,
          44.3544,
          44.358599999999996,
          44.3628,
          44.367,
          44.371199999999995,
          44.3754,
          44.379599999999996,
          44.3838,
          44.388,
          44.392199999999995,
          44.3964,
          44.4006,
          44.404799999999994,
          44.409,
          44.413199999999996,
          44.4174,
          44.4216,
          44.425799999999995,
          44.43,
          44.4342,
          44.438399999999994,
          44.4426,
          44.446799999999996,
          44.451,
          44.4552,
          44.459399999999995,
          44.4636,
          44.4678,
          44.471999999999994,
          44.4762,
          44.480399999999996,
          44.4846,
          44.4888,
          44.492999999999995,
          44.4972,
          44.5014,
          44.5056,
          44.5098,
          44.513999999999996,
          44.5182,
          44.5224,
          44.526599999999995,
          44.5308,
          44.535,
          44.5392,
          44.5434,
          44.547599999999996,
          44.5518,
          44.556,
          44.560199999999995,
          44.5644,
          44.568599999999996,
          44.5728,
          44.577,
          44.581199999999995,
          44.5854,
          44.5896,
          44.593799999999995,
          44.598,
          44.602199999999996,
          44.6064,
          44.6106,
          44.614799999999995,
          44.619,
          44.6232,
          44.627399999999994,
          44.6316,
          44.635799999999996,
          44.64,
          44.6442,
          44.648399999999995,
          44.6526,
          44.6568,
          44.660999999999994,
          44.6652,
          44.669399999999996,
          44.6736,
          44.6778,
          44.681999999999995,
          44.6862,
          44.6904,
          44.6946,
          44.6988,
          44.702999999999996,
          44.7072,
          44.7114,
          44.715599999999995,
          44.7198,
          44.724,
          44.7282,
          44.7324,
          44.736599999999996,
          44.7408,
          44.745,
          44.749199999999995,
          44.7534,
          44.7576,
          44.7618,
          44.766,
          44.770199999999996,
          44.7744,
          44.7786,
          44.782799999999995,
          44.787,
          44.791199999999996,
          44.7954,
          44.7996,
          44.803799999999995,
          44.808,
          44.8122,
          44.816399999999994,
          44.8206,
          44.824799999999996,
          44.829,
          44.8332,
          44.837399999999995,
          44.8416,
          44.8458,
          44.849999999999994,
          44.8542,
          44.858399999999996,
          44.8626,
          44.8668,
          44.870999999999995,
          44.8752,
          44.8794,
          44.8836,
          44.8878,
          44.891999999999996,
          44.8962,
          44.9004,
          44.904599999999995,
          44.9088,
          44.913,
          44.9172,
          44.9214,
          44.925599999999996,
          44.9298,
          44.934,
          44.938199999999995,
          44.9424,
          44.9466,
          44.9508,
          44.955,
          44.959199999999996,
          44.9634,
          44.9676,
          44.971799999999995,
          44.976,
          44.980199999999996,
          44.9844,
          44.9886,
          44.992799999999995,
          44.997,
          45.0012,
          45.005399999999995,
          45.0096,
          45.013799999999996,
          45.018,
          45.0222,
          45.026399999999995,
          45.0306,
          45.0348,
          45.039,
          45.0432,
          45.047399999999996,
          45.0516,
          45.0558,
          45.059999999999995,
          45.0642,
          45.0684,
          45.0726,
          45.0768,
          45.080999999999996,
          45.0852,
          45.0894,
          45.093599999999995,
          45.0978,
          45.102,
          45.1062,
          45.1104,
          45.114599999999996,
          45.1188,
          45.123,
          45.127199999999995,
          45.1314,
          45.1356,
          45.1398,
          45.144,
          45.148199999999996,
          45.1524,
          45.1566,
          45.160799999999995,
          45.165,
          45.1692,
          45.1734,
          45.1776,
          45.181799999999996,
          45.186,
          45.1902,
          45.1944,
          45.1986,
          45.202799999999996,
          45.207,
          45.2112,
          45.215399999999995,
          45.2196,
          45.2238,
          45.227999999999994,
          45.2322,
          45.236399999999996,
          45.2406,
          45.2448,
          45.248999999999995,
          45.2532,
          45.2574,
          45.2616,
          45.2658,
          45.269999999999996,
          45.2742,
          45.2784,
          45.282599999999995,
          45.2868,
          45.291,
          45.2952,
          45.2994,
          45.303599999999996,
          45.3078,
          45.312,
          45.316199999999995,
          45.3204,
          45.3246,
          45.3288,
          45.333,
          45.337199999999996,
          45.3414,
          45.3456,
          45.3498,
          45.354,
          45.3582,
          45.3624,
          45.3666,
          45.370799999999996,
          45.375,
          45.3792,
          45.383399999999995,
          45.3876,
          45.391799999999996,
          45.396,
          45.4002,
          45.404399999999995,
          45.4086,
          45.4128,
          45.417,
          45.4212,
          45.425399999999996,
          45.4296,
          45.4338,
          45.437999999999995,
          45.4422,
          45.4464,
          45.4506,
          45.4548,
          45.458999999999996,
          45.4632,
          45.4674,
          45.471599999999995,
          45.4758,
          45.48,
          45.4842,
          45.4884,
          45.492599999999996,
          45.4968,
          45.501,
          45.505199999999995,
          45.5094,
          45.5136,
          45.5178,
          45.522,
          45.526199999999996,
          45.5304,
          45.5346,
          45.538799999999995,
          45.543,
          45.5472,
          45.5514,
          45.5556,
          45.559799999999996,
          45.564,
          45.5682,
          45.5724,
          45.5766,
          45.580799999999996,
          45.585,
          45.5892,
          45.593399999999995,
          45.5976,
          45.6018,
          45.606,
          45.6102,
          45.614399999999996,
          45.6186,
          45.6228,
          45.626999999999995,
          45.6312,
          45.6354,
          45.6396,
          45.6438,
          45.647999999999996,
          45.6522,
          45.6564,
          45.660599999999995,
          45.6648,
          45.669,
          45.6732,
          45.6774,
          45.681599999999996,
          45.6858,
          45.69,
          45.694199999999995,
          45.6984,
          45.7026,
          45.7068,
          45.711,
          45.715199999999996,
          45.7194,
          45.7236,
          45.7278,
          45.732,
          45.7362,
          45.7404,
          45.7446,
          45.748799999999996,
          45.753,
          45.7572,
          45.761399999999995,
          45.7656,
          45.7698,
          45.774,
          45.7782,
          45.782399999999996,
          45.7866,
          45.7908,
          45.795,
          45.7992,
          45.803399999999996,
          45.8076,
          45.8118,
          45.815999999999995,
          45.8202,
          45.8244,
          45.8286,
          45.8328,
          45.836999999999996,
          45.8412,
          45.8454,
          45.849599999999995,
          45.8538,
          45.858,
          45.8622,
          45.8664,
          45.870599999999996,
          45.8748,
          45.879,
          45.8832,
          45.8874,
          45.8916,
          45.8958
         ],
         "xaxis": "x",
         "y": {
          "bdata": "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",
          "dtype": "f8"
         },
         "yaxis": "y"
        }
       ],
       "layout": {
        "barmode": "overlay",
        "hovermode": "closest",
        "legend": {
         "title": {
          "text": "Brand"
         },
         "traceorder": "reversed"
        },
        "template": {
         "data": {
          "bar": [
           {
            "error_x": {
             "color": "#2a3f5f"
            },
            "error_y": {
             "color": "#2a3f5f"
            },
            "marker": {
             "line": {
              "color": "#E5ECF6",
              "width": 0.5
             },
             "pattern": {
              "fillmode": "overlay",
              "size": 10,
              "solidity": 0.2
             }
            },
            "type": "bar"
           }
          ],
          "barpolar": [
           {
            "marker": {
             "line": {
              "color": "#E5ECF6",
              "width": 0.5
             },
             "pattern": {
              "fillmode": "overlay",
              "size": 10,
              "solidity": 0.2
             }
            },
            "type": "barpolar"
           }
          ],
          "carpet": [
           {
            "aaxis": {
             "endlinecolor": "#2a3f5f",
             "gridcolor": "white",
             "linecolor": "white",
             "minorgridcolor": "white",
             "startlinecolor": "#2a3f5f"
            },
            "baxis": {
             "endlinecolor": "#2a3f5f",
             "gridcolor": "white",
             "linecolor": "white",
             "minorgridcolor": "white",
             "startlinecolor": "#2a3f5f"
            },
            "type": "carpet"
           }
          ],
          "choropleth": [
           {
            "colorbar": {
             "outlinewidth": 0,
             "ticks": ""
            },
            "type": "choropleth"
           }
          ],
          "contour": [
           {
            "colorbar": {
             "outlinewidth": 0,
             "ticks": ""
            },
            "colorscale": [
             [
              0,
              "#0d0887"
             ],
             [
              0.1111111111111111,
              "#46039f"
             ],
             [
              0.2222222222222222,
              "#7201a8"
             ],
             [
              0.3333333333333333,
              "#9c179e"
             ],
             [
              0.4444444444444444,
              "#bd3786"
             ],
             [
              0.5555555555555556,
              "#d8576b"
             ],
             [
              0.6666666666666666,
              "#ed7953"
             ],
             [
              0.7777777777777778,
              "#fb9f3a"
             ],
             [
              0.8888888888888888,
              "#fdca26"
             ],
             [
              1,
              "#f0f921"
             ]
            ],
            "type": "contour"
           }
          ],
          "contourcarpet": [
           {
            "colorbar": {
             "outlinewidth": 0,
             "ticks": ""
            },
            "type": "contourcarpet"
           }
          ],
          "heatmap": [
           {
            "colorbar": {
             "outlinewidth": 0,
             "ticks": ""
            },
            "colorscale": [
             [
              0,
              "#0d0887"
             ],
             [
              0.1111111111111111,
              "#46039f"
             ],
             [
              0.2222222222222222,
              "#7201a8"
             ],
             [
              0.3333333333333333,
              "#9c179e"
             ],
             [
              0.4444444444444444,
              "#bd3786"
             ],
             [
              0.5555555555555556,
              "#d8576b"
             ],
             [
              0.6666666666666666,
              "#ed7953"
             ],
             [
              0.7777777777777778,
              "#fb9f3a"
             ],
             [
              0.8888888888888888,
              "#fdca26"
             ],
             [
              1,
              "#f0f921"
             ]
            ],
            "type": "heatmap"
           }
          ],
          "histogram": [
           {
            "marker": {
             "pattern": {
              "fillmode": "overlay",
              "size": 10,
              "solidity": 0.2
             }
            },
            "type": "histogram"
           }
          ],
          "histogram2d": [
           {
            "colorbar": {
             "outlinewidth": 0,
             "ticks": ""
            },
            "colorscale": [
             [
              0,
              "#0d0887"
             ],
             [
              0.1111111111111111,
              "#46039f"
             ],
             [
              0.2222222222222222,
              "#7201a8"
             ],
             [
              0.3333333333333333,
              "#9c179e"
             ],
             [
              0.4444444444444444,
              "#bd3786"
             ],
             [
              0.5555555555555556,
              "#d8576b"
             ],
             [
              0.6666666666666666,
              "#ed7953"
             ],
             [
              0.7777777777777778,
              "#fb9f3a"
             ],
             [
              0.8888888888888888,
              "#fdca26"
             ],
             [
              1,
              "#f0f921"
             ]
            ],
            "type": "histogram2d"
           }
          ],
          "histogram2dcontour": [
           {
            "colorbar": {
             "outlinewidth": 0,
             "ticks": ""
            },
            "colorscale": [
             [
              0,
              "#0d0887"
             ],
             [
              0.1111111111111111,
              "#46039f"
             ],
             [
              0.2222222222222222,
              "#7201a8"
             ],
             [
              0.3333333333333333,
              "#9c179e"
             ],
             [
              0.4444444444444444,
              "#bd3786"
             ],
             [
              0.5555555555555556,
              "#d8576b"
             ],
             [
              0.6666666666666666,
              "#ed7953"
             ],
             [
              0.7777777777777778,
              "#fb9f3a"
             ],
             [
              0.8888888888888888,
              "#fdca26"
             ],
             [
              1,
              "#f0f921"
             ]
            ],
            "type": "histogram2dcontour"
           }
          ],
          "mesh3d": [
           {
            "colorbar": {
             "outlinewidth": 0,
             "ticks": ""
            },
            "type": "mesh3d"
           }
          ],
          "parcoords": [
           {
            "line": {
             "colorbar": {
              "outlinewidth": 0,
              "ticks": ""
             }
            },
            "type": "parcoords"
           }
          ],
          "pie": [
           {
            "automargin": true,
            "type": "pie"
           }
          ],
          "scatter": [
           {
            "fillpattern": {
             "fillmode": "overlay",
             "size": 10,
             "solidity": 0.2
            },
            "type": "scatter"
           }
          ],
          "scatter3d": [
           {
            "line": {
             "colorbar": {
              "outlinewidth": 0,
              "ticks": ""
             }
            },
            "marker": {
             "colorbar": {
              "outlinewidth": 0,
              "ticks": ""
             }
            },
            "type": "scatter3d"
           }
          ],
          "scattercarpet": [
           {
            "marker": {
             "colorbar": {
              "outlinewidth": 0,
              "ticks": ""
             }
            },
            "type": "scattercarpet"
           }
          ],
          "scattergeo": [
           {
            "marker": {
             "colorbar": {
              "outlinewidth": 0,
              "ticks": ""
             }
            },
            "type": "scattergeo"
           }
          ],
          "scattergl": [
           {
            "marker": {
             "colorbar": {
              "outlinewidth": 0,
              "ticks": ""
             }
            },
            "type": "scattergl"
           }
          ],
          "scattermap": [
           {
            "marker": {
             "colorbar": {
              "outlinewidth": 0,
              "ticks": ""
             }
            },
            "type": "scattermap"
           }
          ],
          "scattermapbox": [
           {
            "marker": {
             "colorbar": {
              "outlinewidth": 0,
              "ticks": ""
             }
            },
            "type": "scattermapbox"
           }
          ],
          "scatterpolar": [
           {
            "marker": {
             "colorbar": {
              "outlinewidth": 0,
              "ticks": ""
             }
            },
            "type": "scatterpolar"
           }
          ],
          "scatterpolargl": [
           {
            "marker": {
             "colorbar": {
              "outlinewidth": 0,
              "ticks": ""
             }
            },
            "type": "scatterpolargl"
           }
          ],
          "scatterternary": [
           {
            "marker": {
             "colorbar": {
              "outlinewidth": 0,
              "ticks": ""
             }
            },
            "type": "scatterternary"
           }
          ],
          "surface": [
           {
            "colorbar": {
             "outlinewidth": 0,
             "ticks": ""
            },
            "colorscale": [
             [
              0,
              "#0d0887"
             ],
             [
              0.1111111111111111,
              "#46039f"
             ],
             [
              0.2222222222222222,
              "#7201a8"
             ],
             [
              0.3333333333333333,
              "#9c179e"
             ],
             [
              0.4444444444444444,
              "#bd3786"
             ],
             [
              0.5555555555555556,
              "#d8576b"
             ],
             [
              0.6666666666666666,
              "#ed7953"
             ],
             [
              0.7777777777777778,
              "#fb9f3a"
             ],
             [
              0.8888888888888888,
              "#fdca26"
             ],
             [
              1,
              "#f0f921"
             ]
            ],
            "type": "surface"
           }
          ],
          "table": [
           {
            "cells": {
             "fill": {
              "color": "#EBF0F8"
             },
             "line": {
              "color": "white"
             }
            },
            "header": {
             "fill": {
              "color": "#C8D4E3"
             },
             "line": {
              "color": "white"
             }
            },
            "type": "table"
           }
          ]
         },
         "layout": {
          "annotationdefaults": {
           "arrowcolor": "#2a3f5f",
           "arrowhead": 0,
           "arrowwidth": 1
          },
          "autotypenumbers": "strict",
          "coloraxis": {
           "colorbar": {
            "outlinewidth": 0,
            "ticks": ""
           }
          },
          "colorscale": {
           "diverging": [
            [
             0,
             "#8e0152"
            ],
            [
             0.1,
             "#c51b7d"
            ],
            [
             0.2,
             "#de77ae"
            ],
            [
             0.3,
             "#f1b6da"
            ],
            [
             0.4,
             "#fde0ef"
            ],
            [
             0.5,
             "#f7f7f7"
            ],
            [
             0.6,
             "#e6f5d0"
            ],
            [
             0.7,
             "#b8e186"
            ],
            [
             0.8,
             "#7fbc41"
            ],
            [
             0.9,
             "#4d9221"
            ],
            [
             1,
             "#276419"
            ]
           ],
           "sequential": [
            [
             0,
             "#0d0887"
            ],
            [
             0.1111111111111111,
             "#46039f"
            ],
            [
             0.2222222222222222,
             "#7201a8"
            ],
            [
             0.3333333333333333,
             "#9c179e"
            ],
            [
             0.4444444444444444,
             "#bd3786"
            ],
            [
             0.5555555555555556,
             "#d8576b"
            ],
            [
             0.6666666666666666,
             "#ed7953"
            ],
            [
             0.7777777777777778,
             "#fb9f3a"
            ],
            [
             0.8888888888888888,
             "#fdca26"
            ],
            [
             1,
             "#f0f921"
            ]
           ],
           "sequentialminus": [
            [
             0,
             "#0d0887"
            ],
            [
             0.1111111111111111,
             "#46039f"
            ],
            [
             0.2222222222222222,
             "#7201a8"
            ],
            [
             0.3333333333333333,
             "#9c179e"
            ],
            [
             0.4444444444444444,
             "#bd3786"
            ],
            [
             0.5555555555555556,
             "#d8576b"
            ],
            [
             0.6666666666666666,
             "#ed7953"
            ],
            [
             0.7777777777777778,
             "#fb9f3a"
            ],
            [
             0.8888888888888888,
             "#fdca26"
            ],
            [
             1,
             "#f0f921"
            ]
           ]
          },
          "colorway": [
           "#636efa",
           "#EF553B",
           "#00cc96",
           "#ab63fa",
           "#FFA15A",
           "#19d3f3",
           "#FF6692",
           "#B6E880",
           "#FF97FF",
           "#FECB52"
          ],
          "font": {
           "color": "#2a3f5f"
          },
          "geo": {
           "bgcolor": "white",
           "lakecolor": "white",
           "landcolor": "#E5ECF6",
           "showlakes": true,
           "showland": true,
           "subunitcolor": "white"
          },
          "hoverlabel": {
           "align": "left"
          },
          "hovermode": "closest",
          "mapbox": {
           "style": "light"
          },
          "paper_bgcolor": "white",
          "plot_bgcolor": "#E5ECF6",
          "polar": {
           "angularaxis": {
            "gridcolor": "white",
            "linecolor": "white",
            "ticks": ""
           },
           "bgcolor": "#E5ECF6",
           "radialaxis": {
            "gridcolor": "white",
            "linecolor": "white",
            "ticks": ""
           }
          },
          "scene": {
           "xaxis": {
            "backgroundcolor": "#E5ECF6",
            "gridcolor": "white",
            "gridwidth": 2,
            "linecolor": "white",
            "showbackground": true,
            "ticks": "",
            "zerolinecolor": "white"
           },
           "yaxis": {
            "backgroundcolor": "#E5ECF6",
            "gridcolor": "white",
            "gridwidth": 2,
            "linecolor": "white",
            "showbackground": true,
            "ticks": "",
            "zerolinecolor": "white"
           },
           "zaxis": {
            "backgroundcolor": "#E5ECF6",
            "gridcolor": "white",
            "gridwidth": 2,
            "linecolor": "white",
            "showbackground": true,
            "ticks": "",
            "zerolinecolor": "white"
           }
          },
          "shapedefaults": {
           "line": {
            "color": "#2a3f5f"
           }
          },
          "ternary": {
           "aaxis": {
            "gridcolor": "white",
            "linecolor": "white",
            "ticks": ""
           },
           "baxis": {
            "gridcolor": "white",
            "linecolor": "white",
            "ticks": ""
           },
           "bgcolor": "#E5ECF6",
           "caxis": {
            "gridcolor": "white",
            "linecolor": "white",
            "ticks": ""
           }
          },
          "title": {
           "x": 0.05
          },
          "xaxis": {
           "automargin": true,
           "gridcolor": "white",
           "linecolor": "white",
           "ticks": "",
           "title": {
            "standoff": 15
           },
           "zerolinecolor": "white",
           "zerolinewidth": 2
          },
          "yaxis": {
           "automargin": true,
           "gridcolor": "white",
           "linecolor": "white",
           "ticks": "",
           "title": {
            "standoff": 15
           },
           "zerolinecolor": "white",
           "zerolinewidth": 2
          }
         }
        },
        "title": {
         "text": "Comparison of Air Volume Percentage Distribution in Chip Bags"
        },
        "xaxis": {
         "anchor": "y2",
         "domain": [
          0,
          1
         ],
         "title": {
          "text": "Air Volume Percentage"
         },
         "zeroline": false
        },
        "yaxis": {
         "anchor": "free",
         "domain": [
          0,
          1
         ],
         "position": 0,
         "title": {
          "text": "Density"
         }
        }
       }
      },
      "image/png": "[encoded data removed]"
     },
     "metadata": {},
     "output_type": "display_data"
    }
   ],
   "source": [
    "import plotly.figure_factory as ff\n",
    "from scipy.stats import shapiro, levene\n",
    "\n",
    "# Create a density plot with Plotly\n",
    "fig = ff.create_distplot(\n",
    "    [chipi_chipi_brand, expensive_brand], \n",
    "    group_labels=[\"Chipi Chipi\", \"Expensive Brand\"], \n",
    "    show_hist=False, \n",
    "    show_rug=False\n",
    ")\n",
    "\n",
    "# Update layout for better visualization\n",
    "fig.update_layout(\n",
    "    title_text=\"Comparison of Air Volume Percentage Distribution in Chip Bags\",\n",
    "    xaxis_title=\"Air Volume Percentage\",\n",
    "    yaxis_title=\"Density\",\n",
    "    legend_title=\"Brand\"\n",
    ")\n",
    "\n",
    "# Show the plot\n",
    "fig.show()\n"
   ]
  },
  {
   "cell_type": "markdown",
   "metadata": {},
   "source": [
    "\n",
    "<p dir=rtl style=\"direction: rtl;text-align: justify;line-height:200%;font-family:vazir;font-size:medium\">\n",
    "<font face=\"vazirmatn\" size=3>\n",
    "همانطور که در درسنامه نیز اشاره شده است، آزمون تی نیازمند شرایطی است. ما در این تمرین از شما بررسی این شرایط را نخواستیم ولی نحوه‌ی بررسی آن‌ها به صورت زیر است.\n",
    "</font>\n",
    "</p>\n",
    "\n"
   ]
  },
  {
   "cell_type": "code",
   "execution_count": 27,
   "metadata": {},
   "outputs": [
    {
     "name": "stdout",
     "output_type": "stream",
     "text": [
      "Shapiro-Wilk test for chipi chipi p-value = 0.1000\n",
      "Shapiro-Wilk test for Expensive p-value = 0.1342\n",
      "Levene's test: p-value = 0.0024\n"
     ]
    }
   ],
   "source": [
    "# check the normality of the data using the Shapiro-Wilk test\n",
    "shapiro_chipi = shapiro(chipi_chipi_brand)\n",
    "shapiro_expensive = shapiro(expensive_brand)\n",
    "\n",
    "print(f\"Shapiro-Wilk test for chipi chipi p-value = {shapiro_chipi.pvalue:.4f}\")\n",
    "print(f\"Shapiro-Wilk test for Expensive p-value = {shapiro_expensive.pvalue:.4f}\")\n",
    "\n",
    "# check the homogeneity of variances using the Levene's test\n",
    "levene_test = levene(chipi_chipi_brand, expensive_brand)\n",
    "print(f\"Levene's test: p-value = {levene_test.pvalue:.4f}\")"
   ]
  },
  {
   "cell_type": "markdown",
   "metadata": {},
   "source": [
    "<p dir=\"rtl\" style=\"direction: rtl; text-align: justify; line-height: 200%; font-family: vazir; font-size: medium;\">\n",
    "    <font face=\"vazirmatn\" size=\"3\">\n",
    "        <b>✅ آزمون شاپیرو-ویلک برای بررسی نرمال بودن داده‌ها:</b><br>\n",
    "        مقدار p-value برای برند چیپی چیپی: ۰.۱۰۰<br>\n",
    "        مقدار p-value برای برند گران‌فروش: ۰.۱۳۴<br>\n",
    "        نتیجه: از آنجایی که هر دو مقدار بزرگ‌تر از ۰.۰۵ هستند، می‌توانیم فرض نرمال بودن داده‌ها را بپذیریم.\n",
    "    </font>\n",
    "</p>\n",
    "\n",
    "<p dir=\"rtl\" style=\"direction: rtl; text-align: justify; line-height: 200%; font-family: vazir; font-size: medium;\">\n",
    "    <font face=\"vazirmatn\" size=\"3\">\n",
    "        <b>✅ آزمون لوین برای بررسی همگنی واریانس‌ها:</b><br>\n",
    "        مقدار p-value با ۰.۰۰۲۴ برابر شده است.\n",
    "        <br>\n",
    "        نتیجه: مقدار کمتر از ۰.۰۵ است، بنابراین واریانس دو گروه برابر نیست. به همین دلیل در آزمون تی از <code>equal_var=False</code> استفاده شده است.\n",
    "    </font>\n",
    "</p>"
   ]
  },
  {
   "cell_type": "markdown",
   "metadata": {},
   "source": [
    "<h2 align=right style=\"line-height:200%;font-family:vazir;color:#0099cc\">\n",
    "<font face=\"vazirmatn\" color=\"#0099cc\">\n",
    "<b>سلول جواب‌ساز</b>\n",
    "</font>\n",
    "</h2>\n",
    "\n",
    "<p dir=rtl style=\"direction: rtl; text-align: justify; line-height:200%; font-family:vazir; font-size:medium\">\n",
    "<font face=\"vazirmatn\" size=3>\n",
    "    برای ساخته‌شدن فایل <code>result.zip</code> سلول زیر را اجرا کنید. توجه داشته باشید که پیش از اجرای سلول زیر تغییرات اعمال شده در نت‌بوک را ذخیره کرده باشید (<code>ctrl+s</code>) تا در صورت نیاز به پشتیبانی امکان بررسی کد شما وجود داشته باشد.\n",
    "</font>\n",
    "</p>"
   ]
  },
  {
   "cell_type": "code",
   "execution_count": 28,
   "metadata": {},
   "outputs": [
    {
     "name": "stdout",
     "output_type": "stream",
     "text": [
      "File Paths:\n",
      "['answers.npz', 'result', 'init.ipynb']\n"
     ]
    }
   ],
   "source": [
    "import zipfile\n",
    "import joblib\n",
    "\n",
    "np.savez(\"answers.npz\", filtered_weights = filtered_weights, pvs = pvs, most_possible = most_possible)\n",
    "joblib.dump(result, \"result\")\n",
    "\n",
    "\n",
    "def compress(file_names):\n",
    "    print(\"File Paths:\")\n",
    "    print(file_names)\n",
    "    # Select the compression mode ZIP_DEFLATED for compression\n",
    "    # or zipfile.ZIP_STORED to just store the file\n",
    "    compression = zipfile.ZIP_DEFLATED\n",
    "    # create the zip file first parameter path/name, second mode\n",
    "    with zipfile.ZipFile(\"result.zip\", mode=\"w\") as zf:\n",
    "        for file_name in file_names:\n",
    "            # Add file to the zip file\n",
    "            # first parameter file to zip, second filename in zip\n",
    "            zf.write('./' + file_name, file_name, compress_type=compression)\n",
    "\n",
    "\n",
    "file_names = [\"answers.npz\", 'result', \"init.ipynb\"]\n",
    "compress(file_names)"
   ]
  },
  {
   "cell_type": "code",
   "execution_count": null,
   "metadata": {},
   "outputs": [],
   "source": []
  }
 ],
 "metadata": {
  "kernelspec": {
   "display_name": "Python 3 (ipykernel)",
   "language": "python",
   "name": "python3"
  },
  "language_info": {
   "codemirror_mode": {
    "name": "ipython",
    "version": 3
   },
   "file_extension": ".py",
   "mimetype": "text/x-python",
   "name": "python",
   "nbconvert_exporter": "python",
   "pygments_lexer": "ipython3",
   "version": "3.10.0"
  }
 },
 "nbformat": 4,
 "nbformat_minor": 4
}
