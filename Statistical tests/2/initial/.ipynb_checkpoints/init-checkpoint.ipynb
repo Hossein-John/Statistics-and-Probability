{
 "cells": [
  {
   "cell_type": "markdown",
   "metadata": {},
   "source": [
    "<h1 align=center style=\"line-height:200%;font-family:vazir;color:#0099cc\">\n",
    "<font face=\"vazirmatn\" color=\"#0099cc\">\n",
    "خرید ماتریکس\n",
    "</font>\n",
    "</h1>"
   ]
  },
  {
   "cell_type": "markdown",
   "metadata": {},
   "source": [
    "<p dir=rtl style=\"direction: rtl;text-align: justify;line-height:200%;font-family:vazir;font-size:medium\">\n",
    "<font face=\"vazirmatn\" size=3>\n",
    "یک شرکت فروش آنلاین تصمیم دارد نرخ خرید مشتریان خود را افزایش دهد. تیم بازاریابی این شرکت معتقد است که رنگ دکمه‌ی خرید می‌تواند بر تصمیم‌گیری کاربران تأثیر بگذارد. اما کدام رنگ مؤثرتر است؟\n",
    "<br>\n",
    " برای یافتن پاسخ، تیم داده‌کاوی شرکت یک آزمایش <code>A/B</code> طراحی می‌کند. در این آزمایش، کاربران به‌طور تصادفی یکی از دو نسخه‌ی صفحه خرید را مشاهده می‌کنند: یکی با دکمه‌ی قرمز و دیگری با دکمه‌ی سبز. پس از جمع‌آوری داده‌های مربوط به رفتار کاربران، این تیم از شما می‌خواهد که نرخ خرید را در هر دو گروه مقایسه کنید تا مشخص شود که آیا رنگ دکمه تأثیر معناداری بر افزایش خرید دارد یا خیر.\n",
    "</font>\n",
    "</p>"
   ]
  },
  {
   "cell_type": "markdown",
   "metadata": {},
   "source": [
    "<p dir=rtl style=\"direction: rtl;text-align: justify;line-height:200%;font-family:vazir;font-size:medium\">\n",
    "<font face=\"vazirmatn\" size=3>\n",
    "در ابتدا کتابخانه‌های لازم را وارد می‌کنیم و مجموعه‌داده‌ی موجود در فایل <code>sales.csv</code> را می‌خوانیم.\n",
    "</font>\n",
    "</p>"
   ]
  },
  {
   "cell_type": "code",
   "execution_count": null,
   "metadata": {},
   "outputs": [],
   "source": [
    "# TODO: Read the sales.csv file\n",
    "import numpy as np\n",
    "import pandas as pd\n",
    "from scipy.stats import chi2_contingency\n",
    "\n",
    "df = pd.read_csv('sales.csv')\n",
    "df.head()"
   ]
  },
  {
   "cell_type": "markdown",
   "metadata": {},
   "source": [
    "<p dir=rtl style=\"direction: rtl;text-align: justify;line-height:200%;font-family:vazir;font-size:medium\">\n",
    "<font face=\"vazirmatn\" size=3>\n",
    "در اولین مرحله جدول فراوانی را تولید کنید و آن را در متغیر <code>contingency_table</code> ذخیره کنید. جدول شما باید به صورت زیر باشد (دقت داشته باشید که جدول زیر صرفا برای نمونه آورده شده تا شما با اسم ستون‌ها و شکل جدول آشنا بشوید و مقادیر آن درست نیست.):</font>\n",
    "</p>"
   ]
  },
  {
   "cell_type": "markdown",
   "metadata": {},
   "source": [
    "<div style=\"display: flex; justify-content: center;\">\n",
    "    <table border=\"1\">\n",
    "        <thead>\n",
    "            <tr>\n",
    "                <th>purchase</th>\n",
    "                <th>0</th>\n",
    "                <th>1</th>\n",
    "            </tr>\n",
    "            <tr>\n",
    "                <th>button_color</th>\n",
    "                <th></th>\n",
    "                <th></th>\n",
    "            </tr>\n",
    "        </thead>\n",
    "        <tbody>\n",
    "            <tr>\n",
    "                <th>Green</th>\n",
    "                <td>12</td>\n",
    "                <td>3</td>\n",
    "            </tr>\n",
    "            <tr>\n",
    "                <th>Red</th>\n",
    "                <td>45</td>\n",
    "                <td>6</td>\n",
    "            </tr>\n",
    "        </tbody>\n",
    "    </table>\n",
    "</div>"
   ]
  },
  {
   "cell_type": "code",
   "execution_count": null,
   "metadata": {},
   "outputs": [],
   "source": [
    "# TODO: Create a contingency table and store it in a variable called contingency_table\n",
    "contingency_table = pd.crosstab(df['button_color'], df['purchase'])\n",
    "contingency_table"
   ]
  },
  {
   "cell_type": "code",
   "execution_count": null,
   "metadata": {},
   "outputs": [],
   "source": [
    "rate = contingency_table.sum(axis = 1) / contingency_table[1]"
   ]
  },
  {
   "cell_type": "code",
   "execution_count": null,
   "metadata": {},
   "outputs": [],
   "source": [
    "rate"
   ]
  },
  {
   "cell_type": "code",
   "execution_count": null,
   "metadata": {},
   "outputs": [],
   "source": [
    "# محاسبه نرخ تبدیل برای هر رنگ دکمه\n",
    "green_total = contingency_table.loc['Green'].sum()\n",
    "green_purchases = contingency_table.loc['Green', 1]\n",
    "green_rate = green_purchases / green_total\n",
    "\n",
    "red_total = contingency_table.loc['Red'].sum()\n",
    "red_purchases = contingency_table.loc['Red', 1]\n",
    "red_rate = red_purchases / red_total\n",
    "\n",
    "# نمایش نرخ‌ها\n",
    "print(f\"Green conversion rate: {green_rate:.4f}\")\n",
    "print(f\"Red conversion rate: {red_rate:.4f}\")\n"
   ]
  },
  {
   "cell_type": "markdown",
   "metadata": {},
   "source": [
    "<p dir=rtl style=\"direction: rtl;text-align: justify;line-height:200%;font-family:vazir;font-size:medium\">\n",
    "<font face=\"vazirmatn\" size=3>\n",
    "در مرحله بعد آزمون کای مربع را اجرا کنید.\n",
    "</font>\n",
    "</p>"
   ]
  },
  {
   "cell_type": "code",
   "execution_count": null,
   "metadata": {},
   "outputs": [],
   "source": [
    "from scipy.stats import chi2_contingency\n",
    "chi2, p, dof, expected = chi2_contingency(contingency_table, True)\n",
    "\n",
    "\n",
    "# Display the results\n",
    "print(f\"Chi-squared statistic: {chi2}\")\n",
    "print(f\"P-value: {p}\")\n",
    "print(f\"Degrees of freedom: {dof}\")\n",
    "print(\"Expected table:\")\n",
    "print(expected)"
   ]
  },
  {
   "cell_type": "markdown",
   "metadata": {},
   "source": [
    "<p dir=rtl style=\"direction: rtl;text-align: justify;line-height:200%;font-family:vazir;font-size:medium\">\n",
    "<font face=\"vazirmatn\" size=3>\n",
    "حال با توجه به نتایج آزمون مشخص کنید که دکمه باید به چه رنگی باشد. اگر رنگ سبز مدنظر شما هست، عبارت <code>”green”</code> را در متغیر <code>final_color</code> قرار دهید و در غیر این صورت، عبارت <code>”red”</code> را در این متغیر قرار دهید.\n",
    "<br>\n",
    "درصد اطمینان مدنظر ما در این آزمون ۹۵٪ است.\n",
    "</font>\n",
    "</p>\n"
   ]
  },
  {
   "cell_type": "code",
   "execution_count": null,
   "metadata": {},
   "outputs": [],
   "source": [
    "\n",
    "final_color = \"green\"\n",
    "print(final_color)"
   ]
  },
  {
   "cell_type": "markdown",
   "metadata": {},
   "source": [
    "<h2 align=right style=\"line-height:200%;font-family:vazir;color:#0099cc\">\n",
    "<font face=\"vazirmatn\" color=\"#0099cc\">\n",
    "<b>سلول جواب‌ساز</b>\n",
    "</font>\n",
    "</h2>\n",
    "\n",
    "<p dir=rtl style=\"direction: rtl; text-align: justify; line-height:200%; font-family:vazir; font-size:medium\">\n",
    "<font face=\"vazirmatn\" size=3>\n",
    "    برای ساخته‌شدن فایل <code>result.zip</code> سلول زیر را اجرا کنید. توجه داشته باشید که پیش از اجرای سلول زیر تغییرات اعمال شده در نت‌بوک را ذخیره کرده باشید (<code>ctrl+s</code>) تا در صورت نیاز به پشتیبانی امکان بررسی کد شما وجود داشته باشد.\n",
    "</font>\n",
    "</p>"
   ]
  },
  {
   "cell_type": "code",
   "execution_count": null,
   "metadata": {},
   "outputs": [],
   "source": [
    "import zipfile\n",
    "import joblib\n",
    "\n",
    "contingency_table.to_csv('contingency_table.csv')\n",
    "joblib.dump(final_color, \"final_color\")\n",
    "\n",
    "\n",
    "def compress(file_names):\n",
    "    print(\"File Paths:\")\n",
    "    print(file_names)\n",
    "    # Select the compression mode ZIP_DEFLATED for compression\n",
    "    # or zipfile.ZIP_STORED to just store the file\n",
    "    compression = zipfile.ZIP_DEFLATED\n",
    "    # create the zip file first parameter path/name, second mode\n",
    "    with zipfile.ZipFile(\"result.zip\", mode=\"w\") as zf:\n",
    "        for file_name in file_names:\n",
    "            # Add file to the zip file\n",
    "            # first parameter file to zip, second filename in zip\n",
    "            zf.write('./' + file_name, file_name, compress_type=compression)\n",
    "\n",
    "\n",
    "file_names = [\"contingency_table.csv\", \"final_color\", \"init.ipynb\"]\n",
    "compress(file_names)"
   ]
  }
 ],
 "metadata": {
  "kernelspec": {
   "display_name": "Python 3 (ipykernel)",
   "language": "python",
   "name": "python3"
  },
  "language_info": {
   "codemirror_mode": {
    "name": "ipython",
    "version": 3
   },
   "file_extension": ".py",
   "mimetype": "text/x-python",
   "name": "python",
   "nbconvert_exporter": "python",
   "pygments_lexer": "ipython3",
   "version": "3.10.0"
  }
 },
 "nbformat": 4,
 "nbformat_minor": 4
}
