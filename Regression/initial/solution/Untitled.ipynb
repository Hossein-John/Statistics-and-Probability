{
 "cells": [
  {
   "cell_type": "code",
   "execution_count": 3,
   "id": "3ea96a8a-224a-44f3-950b-e5936911306f",
   "metadata": {},
   "outputs": [
    {
     "name": "stdout",
     "output_type": "stream",
     "text": [
      "3.1410616\n"
     ]
    }
   ],
   "source": [
    "import numpy as np\n",
    "\n",
    "N = 10000000\n",
    "x = np.random.uniform(0, 1, N)\n",
    "y = np.random.uniform(0, 1, N)\n",
    "\n",
    "inside = x**2 + y**2 <= 1\n",
    "pi_estimate = 4 * np.mean(inside)\n",
    "print(pi_estimate)\n"
   ]
  },
  {
   "cell_type": "code",
   "execution_count": null,
   "id": "36e27698-da0a-474a-a55c-c24241b25672",
   "metadata": {},
   "outputs": [],
   "source": []
  }
 ],
 "metadata": {
  "kernelspec": {
   "display_name": "Python 3 (ipykernel)",
   "language": "python",
   "name": "python3"
  },
  "language_info": {
   "codemirror_mode": {
    "name": "ipython",
    "version": 3
   },
   "file_extension": ".py",
   "mimetype": "text/x-python",
   "name": "python",
   "nbconvert_exporter": "python",
   "pygments_lexer": "ipython3",
   "version": "3.10.0"
  }
 },
 "nbformat": 4,
 "nbformat_minor": 5
}
