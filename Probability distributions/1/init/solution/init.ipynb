{
 "cells": [
  {
   "cell_type": "markdown",
   "metadata": {},
   "source": [
    "<h1 align=center style=\"line-height:200%;font-family:vazir;color:#0099cc\">\n",
    "<font face=\"vazirmatn\" color=\"#0099cc\">\n",
    "سوالات\n",
    "</font>\n",
    "</h1>"
   ]
  },
  {
   "cell_type": "markdown",
   "metadata": {},
   "source": [
    "<p dir=rtl style=\"direction: rtl;text-align: justify;line-height:200%;font-family:vazir;font-size:medium\">\n",
    "<font face=\"vazirmatn\" size=3>\n",
    "در این بخش تعدادی مسئله را با کمک پایتون حل می‌کنیم و دانش شما را بر توزیع‌های گسسته محک می‌زنیم. نخست کتاب‌خانه <code>numpy</code> را فرا می‌خوانیم تا در ادامه از آن استفاده کنیم.\n",
    "</font>\n",
    "</p>"
   ]
  },
  {
   "cell_type": "code",
   "execution_count": 1,
   "metadata": {},
   "outputs": [],
   "source": [
    "import numpy as np"
   ]
  },
  {
   "cell_type": "markdown",
   "metadata": {},
   "source": [
    "<h3 align=right style=\"line-height:200%;font-family:vazir;color:#0099cc\">\n",
    "<font face=\"vazirmatn\" color=\"#0099cc\">\n",
    "بخش ۱: لامپ‌های معیوب\n",
    "</font>\n",
    "</h3>"
   ]
  },
  {
   "cell_type": "markdown",
   "metadata": {},
   "source": [
    "<p dir=rtl style=\"direction: rtl;text-align: justify;line-height:200%;font-family:vazir;font-size:medium\">\n",
    "<font face=\"vazirmatn\" size=3>\n",
    "یک کارخانه لامپ‌هایی تولید می‌کند که هر لامپ با احتمال ۲٪ معیوب است. یک بازرس کنترل کیفیت ۲۰ لامپ را به‌طور تصادفی بررسی می‌کند.\n",
    "<br>\n",
    "احتمال این که دقیقاً <code>2</code>  لامپ معیوب باشد را بیابید و پاسخ را تا <code>4</code> رقم اعشار رند کرده و آن را در متغیر <code>prob_exactly_2</code> ذخیره کنید.\n",
    "</font>\n",
    "</p>"
   ]
  },
  {
   "cell_type": "code",
   "execution_count": 2,
   "metadata": {},
   "outputs": [
    {
     "name": "stdout",
     "output_type": "stream",
     "text": [
      "P(exactly 2 defective bulbs): 0.0528\n"
     ]
    }
   ],
   "source": [
    "from scipy.stats import binom\n",
    "p_defect = 0.02\n",
    "n_bulbs = 20\n",
    "k_defects = 2\n",
    "\n",
    "prob_exactly_2 = round(binom.pmf(k_defects, n_bulbs, p_defect),4)\n",
    "print(f'P(exactly 2 defective bulbs): {prob_exactly_2}')"
   ]
  },
  {
   "cell_type": "markdown",
   "metadata": {},
   "source": [
    "<p dir=rtl style=\"direction: rtl;text-align: justify;line-height:200%;font-family:vazir;font-size:medium\">\n",
    "<font face=\"vazirmatn\" size=3>\n",
    "حال احتمال این که حداکثر <code>3</code>  لامپ معیوب باشد را بیابید و پاسخ را تا <code>4</code> رقم اعشار رند کرده و آن را در متغیر <code>prob_at_most_3</code> ذخیره کنید.\n",
    "</font>\n",
    "</p>"
   ]
  },
  {
   "cell_type": "code",
   "execution_count": 3,
   "metadata": {},
   "outputs": [
    {
     "name": "stdout",
     "output_type": "stream",
     "text": [
      "P(at most 3 defective bulbs): 0.9994\n"
     ]
    }
   ],
   "source": [
    "prob_at_most_3 = round(binom.cdf(3, n_bulbs, p_defect),4)\n",
    "print(f'P(at most 3 defective bulbs): {prob_at_most_3}')"
   ]
  },
  {
   "cell_type": "markdown",
   "metadata": {},
   "source": [
    "<p dir=rtl style=\"direction: rtl;text-align: justify;line-height:200%;font-family:vazir;font-size:medium\">\n",
    "<font face=\"vazirmatn\" size=3>\n",
    "در کد زیر به طور تصادفی <code>100000</code> نمونه گرفته‌ایم و مقدار احتمال این که حداکثر <code>3</code> لامپ معیوب باشد را به صورت تجربی محاسبه کرده‌ایم. اگر جواب سوال را درست به دست آورده باشید باید مقداری <b>نزدیک به</b> خروجی سلول زیر داشته باشید.\n",
    "</font>\n",
    "</p>"
   ]
  },
  {
   "cell_type": "code",
   "execution_count": 4,
   "metadata": {},
   "outputs": [
    {
     "name": "stdout",
     "output_type": "stream",
     "text": [
      "Estimated P(exactly 2 defective bulbs) from simulation: 0.9994\n"
     ]
    }
   ],
   "source": [
    "# Simulating 10,000 trials\n",
    "simulated_defects = np.random.binomial(n_bulbs, p_defect, 100000)\n",
    "estimated_prob_2 = np.mean(simulated_defects<=3)\n",
    "print(f'Estimated P(exactly 2 defective bulbs) from simulation: {estimated_prob_2:.4f}')"
   ]
  },
  {
   "cell_type": "markdown",
   "metadata": {},
   "source": [
    "<h3 align=right style=\"line-height:200%;font-family:vazir;color:#0099cc\">\n",
    "<font face=\"vazirmatn\" color=\"#0099cc\">\n",
    "بخش ۲: دانش آموز بدشانس\n",
    "</font>\n",
    "</h3>"
   ]
  },
  {
   "cell_type": "markdown",
   "metadata": {},
   "source": [
    "<p dir=rtl style=\"direction: rtl;text-align: justify;line-height:200%;font-family:vazir;font-size:medium\">\n",
    "<font face=\"vazirmatn\" size=3>\n",
    "یک دانش‌آموز در حال تلاش برای قبولی در یک آزمون است که در هر بار امتحان دادن ۷۰٪ احتمال قبولی دارد. دانش‌آموز تا زمانی که قبول شود، امتحان را تکرار می‌کند.\n",
    "<br>\n",
    "احتمال این که دانش‌آموز در بار سوم قبول شود را محاسبه کنید و پاسخ را تا <code>4</code> رقم اعشار رند کرده و آن را در متغیر <code>prob_pass_on_3rd</code> ذخیره کنید.\n",
    "\n",
    "</font>\n",
    "</p>"
   ]
  },
  {
   "cell_type": "code",
   "execution_count": 5,
   "metadata": {},
   "outputs": [
    {
     "name": "stdout",
     "output_type": "stream",
     "text": [
      "P(passing on 3rd attempt): 0.063\n"
     ]
    }
   ],
   "source": [
    "from scipy.stats import geom\n",
    "# 3. Geometric Distribution\n",
    "p_pass = 0.7\n",
    "k_attempts = 3\n",
    "prob_pass_on_3rd = round(geom.pmf(k_attempts, p_pass),4)\n",
    "print(f'P(passing on 3rd attempt): {prob_pass_on_3rd}')"
   ]
  },
  {
   "cell_type": "markdown",
   "metadata": {},
   "source": [
    "<p dir=rtl style=\"direction: rtl;text-align: justify;line-height:200%;font-family:vazir;font-size:medium\">\n",
    "<font face=\"vazirmatn\" size=3>\n",
    "به طور تصادفی <code>10000</code> نمونه از این توزیع بگیری و محاسبه کنید که به طور میانگیت این دانش آموز بعد از چند تلاش امتحان را پاس می‌شود. پاسخ خود را به سمت بالا گرد کنید و در متغیر <code>avg_attempts</code> ذخیره کنید.\n",
    "</font>\n",
    "<br>\n",
    "<br>\n",
    "<font face=\"vazir\" size=3>\n",
    "<span style=\"color: green\"><b>راهنمایی: </b></span> برای گرفتن نمونه از توزیع هندسی از <code>np.random.geometric()</code> میتوانید استفاده کنید.\n",
    "</font>\n",
    "</p>"
   ]
  },
  {
   "cell_type": "code",
   "execution_count": 6,
   "metadata": {},
   "outputs": [
    {
     "name": "stdout",
     "output_type": "stream",
     "text": [
      "Estimated average attempts needed to pass: 2.0\n"
     ]
    }
   ],
   "source": [
    "# Simulating 10000 students\n",
    "simulated_attempts = np.random.geometric(p_pass, 10000)\n",
    "avg_attempts = np.ceil(np.mean(simulated_attempts))\n",
    "print(f'Estimated average attempts needed to pass: {avg_attempts}')"
   ]
  },
  {
   "cell_type": "markdown",
   "metadata": {},
   "source": [
    "<h3 align=right style=\"line-height:200%;font-family:vazir;color:#0099cc\">\n",
    "<font face=\"vazirmatn\" color=\"#0099cc\">\n",
    "بخش ۳: شرکت پستی\n",
    "</font>\n",
    "</h3>"
   ]
  },
  {
   "cell_type": "markdown",
   "metadata": {},
   "source": [
    "<p dir=rtl style=\"direction: rtl;text-align: justify;line-height:200%;font-family:vazir;font-size:medium\">\n",
    "<font face=\"vazirmatn\" size=3>\n",
    "یک شرکت تحویل بسته‌ها، برای هر بسته ۵٪ احتمال گم شدن دارد. یک مشتری ۱۵ بسته سفارش می‌دهد و پردازش هر بسته به‌طور مستقل انجام می‌شود. علاوه بر این، تعداد بسته‌های دریافتی در هر روز از یک توزیع پواسون با میانگین ۸ تحویل در روز پیروی می‌کند.\n",
    "\n",
    "</font>\n",
    "</p>"
   ]
  },
  {
   "cell_type": "markdown",
   "metadata": {},
   "source": [
    "<p dir=rtl style=\"direction: rtl;text-align: justify;line-height:200%;font-family:vazir;font-size:medium\">\n",
    "<font face=\"vazirmatn\" size=3>\n",
    "نخست احتمال این که  <b>دقیقاً <code>2</code> بسته</b> گم شوند را بیابید و پاسخ را تا <code>4</code> رقم اعشار رند کرده و آن را در متغیر <code> prob_exactly_2_lost</code> ذخیره کنید. همچنین احتمال این که که  <b>حداقل <code>1</code> بسته</b> گم شود را محاسبه کنید و پاسخ را تا <code>4</code> رقم اعشار رند کرده و آن را در متغیر <code> prob_at_least_1_lost</code> ذخیره کنید.\n",
    "\n",
    "</font>\n",
    "</p>"
   ]
  },
  {
   "cell_type": "code",
   "execution_count": 7,
   "metadata": {},
   "outputs": [
    {
     "name": "stdout",
     "output_type": "stream",
     "text": [
      "P(exactly 2 packages lost): 0.1348\n",
      "P(at least 1 package lost): 0.5367\n"
     ]
    }
   ],
   "source": [
    "from scipy.stats import poisson\n",
    "p_loss = 0.05\n",
    "n_packages = 15\n",
    "prob_exactly_2_lost = round(binom.pmf(2, n_packages, p_loss),4)\n",
    "prob_at_least_1_lost = round(1 - binom.pmf(0, n_packages, p_loss),4)\n",
    "print(f'P(exactly 2 packages lost): {prob_exactly_2_lost}')\n",
    "print(f'P(at least 1 package lost): {prob_at_least_1_lost}')"
   ]
  },
  {
   "cell_type": "markdown",
   "metadata": {},
   "source": [
    "<p dir=rtl style=\"direction: rtl;text-align: justify;line-height:200%;font-family:vazir;font-size:medium\">\n",
    "<font face=\"vazirmatn\" size=3>\n",
    "احتمال این که در یک روز خاص  <b>بیش از <code>10</code> بسته</b> تحویل داده شود را بیابید کنید و پاسخ را تا <code>4</code> رقم اعشار رند کرده و آن را در متغیر <code> prob_more_than_10_deliveries</code> ذخیره کنید.\n",
    "</font>\n",
    "</p>"
   ]
  },
  {
   "cell_type": "code",
   "execution_count": 8,
   "metadata": {},
   "outputs": [
    {
     "name": "stdout",
     "output_type": "stream",
     "text": [
      "P(more than 10 deliveries in a day): 0.1841\n"
     ]
    }
   ],
   "source": [
    "lambda_deliveries = 8\n",
    "prob_more_than_10_deliveries = round(1 - poisson.cdf(10, lambda_deliveries),4)\n",
    "print(f'P(more than 10 deliveries in a day): {prob_more_than_10_deliveries}')"
   ]
  },
  {
   "cell_type": "markdown",
   "metadata": {},
   "source": [
    "<h2 align=right style=\"line-height:200%;font-family:vazir;color:#0099cc\">\n",
    "<font face=\"vazirmatn\" color=\"#0099cc\">\n",
    "<b>سلول جواب‌ساز</b>\n",
    "</font>\n",
    "</h2>\n",
    "\n",
    "<p dir=rtl style=\"direction: rtl; text-align: justify; line-height:200%; font-family:vazir; font-size:medium\">\n",
    "<font face=\"vazirmatn\" size=3>\n",
    "    برای ساخته‌شدن فایل <code>result.zip</code> سلول زیر را اجرا کنید. توجه داشته باشید که پیش از اجرای سلول زیر تغییرات اعمال شده در نت‌بوک را ذخیره کرده باشید (<code>ctrl+s</code>) تا در صورت نیاز به پشتیبانی امکان بررسی کد شما وجود داشته باشد.\n",
    "</font>\n",
    "</p>"
   ]
  },
  {
   "cell_type": "code",
   "execution_count": 9,
   "metadata": {},
   "outputs": [
    {
     "name": "stdout",
     "output_type": "stream",
     "text": [
      "File Paths:\n",
      "['prob_exactly_2', 'prob_at_most_3', 'prob_pass_on_3rd', 'avg_attempts', 'prob_exactly_2_lost', 'prob_at_least_1_lost', 'prob_more_than_10_deliveries', 'init.ipynb']\n"
     ]
    }
   ],
   "source": [
    "import zipfile\n",
    "import joblib\n",
    "\n",
    "joblib.dump(prob_exactly_2,\"prob_exactly_2\")\n",
    "joblib.dump(prob_at_most_3,\"prob_at_most_3\")\n",
    "joblib.dump(prob_pass_on_3rd,\"prob_pass_on_3rd\")\n",
    "joblib.dump(avg_attempts,\"avg_attempts\")\n",
    "joblib.dump(prob_exactly_2_lost,\"prob_exactly_2_lost\")\n",
    "joblib.dump(prob_at_least_1_lost,\"prob_at_least_1_lost\")\n",
    "joblib.dump(prob_more_than_10_deliveries,\"prob_more_than_10_deliveries\")\n",
    "\n",
    "\n",
    "\n",
    "def compress(file_names):\n",
    "    print(\"File Paths:\")\n",
    "    print(file_names)\n",
    "    # Select the compression mode ZIP_DEFLATED for compression\n",
    "    # or zipfile.ZIP_STORED to just store the file\n",
    "    compression = zipfile.ZIP_DEFLATED\n",
    "    # create the zip file first parameter path/name, second mode\n",
    "    with zipfile.ZipFile(\"result.zip\", mode=\"w\") as zf:\n",
    "        for file_name in file_names:\n",
    "            # Add file to the zip file\n",
    "            # first parameter file to zip, second filename in zip\n",
    "            zf.write('./' + file_name, file_name, compress_type=compression)\n",
    "\n",
    "\n",
    "file_names = [\"prob_exactly_2\",\"prob_at_most_3\",\"prob_pass_on_3rd\",\"avg_attempts\",\"prob_exactly_2_lost\",\"prob_at_least_1_lost\",\"prob_more_than_10_deliveries\",\"init.ipynb\"]\n",
    "compress(file_names)"
   ]
  }
 ],
 "metadata": {
  "kernelspec": {
   "display_name": "Python 3 (ipykernel)",
   "language": "python",
   "name": "python3"
  },
  "language_info": {
   "codemirror_mode": {
    "name": "ipython",
    "version": 3
   },
   "file_extension": ".py",
   "mimetype": "text/x-python",
   "name": "python",
   "nbconvert_exporter": "python",
   "pygments_lexer": "ipython3",
   "version": "3.10.0"
  }
 },
 "nbformat": 4,
 "nbformat_minor": 4
}
