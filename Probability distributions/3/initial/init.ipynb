{
 "cells": [
  {
   "cell_type": "markdown",
   "metadata": {},
   "source": [
    "<h1 align=center style=\"line-height:200%;font-family:vazir;color:#0099cc\">\n",
    "<font face=\"vazirmatn\" color=\"#0099cc\">\n",
    "توأم‌بازی\n",
    "</font>\n",
    "</h1>"
   ]
  },
  {
   "cell_type": "markdown",
   "metadata": {},
   "source": [
    "<p dir=rtl style=\"direction: rtl;text-align: justify;line-height:200%;font-family:vazir;font-size:medium\">\n",
    "<font face=\"vazirmatn\" size=3>\n",
    "در این بخش چند مسئله را با کمک پایتون حل می‌کنیم و دانش شما را بر توزیع‌های توام محک می‌زنیم. نخست کتاب‌خانه <code>pandas</code>و <code>numpy</code> را فرا می‌خوانیم تا در ادامه از آن‌ها استفاده کنیم.\n",
    "</font>\n",
    "</p>"
   ]
  },
  {
   "cell_type": "code",
   "execution_count": 2,
   "metadata": {},
   "outputs": [],
   "source": [
    "import numpy as np\n",
    "import pandas as pd"
   ]
  },
  {
   "cell_type": "markdown",
   "metadata": {},
   "source": [
    "<h2 align=right style=\"line-height:200%;font-family:vazir;color:#0099cc\">\n",
    "<font face=\"vazirmatn\" color=\"#0099cc\">\n",
    "بخش ۱: کتاب یا بازی ویدئویی\n",
    "</font>\n",
    "</h2>"
   ]
  },
  {
   "cell_type": "markdown",
   "metadata": {},
   "source": [
    "<p dir=rtl style=\"direction: rtl;text-align: justify;line-height:200%;font-family:vazir;font-size:medium\">\n",
    "<font face=\"vazirmatn\" size=3>\n",
    "در طی تحقیقاتی، داده‌ای از نمرات و علایق ۵۰۰ دانش‌آموز جمع‌آوری شده و در فایل <code>scores.csv</code> قرار گرفته است. در جدول زیر می‌توانید خلاصه‌ای از تعاریف جدول را مشاهده کنید.\n",
    "\n",
    "\n",
    "</font>\n",
    "</p>"
   ]
  },
  {
   "cell_type": "markdown",
   "metadata": {},
   "source": [
    "<center>\n",
    "<div dir=rtl style=\"line-height:200%;font-family:vazir;font-size:medium\">\n",
    "<font face=\"vazirmatn\" size=3>\n",
    "    \n",
    "| ستون | توضیح |\n",
    "|:---:|:---:|\n",
    "| `Status` | اگر این ستون برابر با مقدار `gamers` باشد، به این معنی است که علاقه‌ی این دانش‌آموز بازی ویدئویی بوده است و اگر این ستون برابر با مقدار `bookworms` باشد، به این معنی است که این دانش‌آموز به کتاب علاقه دارد. |\n",
    "| `Math` | نمره‌ی درس ریاضی |\n",
    "| `Physics` | نمره‌ی درس فیزیک |\n",
    "| `Literature` | نمره‌ی درس ادبیات |\n",
    "\n",
    "\n",
    "    \n",
    "</font>\n",
    "</div>\n",
    "</center>"
   ]
  },
  {
   "cell_type": "markdown",
   "metadata": {},
   "source": [
    "<p dir=rtl style=\"direction: rtl;text-align: justify;line-height:200%;font-family:vazir;font-size:medium\">\n",
    "<font face=\"vazirmatn\" size=3>\n",
    "اطلاعات مربوط به عملکرد دانش‌آموزان که در فایل <code>scores.csv</code> در اختیار شما گرفته است را  با استفاده از ‍<code>Pandas</code> بارگذاری کنید و آن را در <code>df</code> ذخیره کنید.\n",
    "</font>\n",
    "</p>"
   ]
  },
  {
   "cell_type": "code",
   "execution_count": 3,
   "metadata": {},
   "outputs": [
    {
     "data": {
      "text/html": [
       "<div>\n",
       "<style scoped>\n",
       "    .dataframe tbody tr th:only-of-type {\n",
       "        vertical-align: middle;\n",
       "    }\n",
       "\n",
       "    .dataframe tbody tr th {\n",
       "        vertical-align: top;\n",
       "    }\n",
       "\n",
       "    .dataframe thead th {\n",
       "        text-align: right;\n",
       "    }\n",
       "</style>\n",
       "<table border=\"1\" class=\"dataframe\">\n",
       "  <thead>\n",
       "    <tr style=\"text-align: right;\">\n",
       "      <th></th>\n",
       "      <th>Status</th>\n",
       "      <th>Math</th>\n",
       "      <th>Physics</th>\n",
       "      <th>Literature</th>\n",
       "    </tr>\n",
       "  </thead>\n",
       "  <tbody>\n",
       "    <tr>\n",
       "      <th>0</th>\n",
       "      <td>bookworms</td>\n",
       "      <td>85</td>\n",
       "      <td>73</td>\n",
       "      <td>39</td>\n",
       "    </tr>\n",
       "    <tr>\n",
       "      <th>1</th>\n",
       "      <td>gamers</td>\n",
       "      <td>58</td>\n",
       "      <td>55</td>\n",
       "      <td>47</td>\n",
       "    </tr>\n",
       "    <tr>\n",
       "      <th>2</th>\n",
       "      <td>bookworms</td>\n",
       "      <td>59</td>\n",
       "      <td>50</td>\n",
       "      <td>71</td>\n",
       "    </tr>\n",
       "    <tr>\n",
       "      <th>3</th>\n",
       "      <td>bookworms</td>\n",
       "      <td>39</td>\n",
       "      <td>52</td>\n",
       "      <td>93</td>\n",
       "    </tr>\n",
       "    <tr>\n",
       "      <th>4</th>\n",
       "      <td>gamers</td>\n",
       "      <td>51</td>\n",
       "      <td>77</td>\n",
       "      <td>73</td>\n",
       "    </tr>\n",
       "  </tbody>\n",
       "</table>\n",
       "</div>"
      ],
      "text/plain": [
       "      Status  Math  Physics  Literature\n",
       "0  bookworms    85       73          39\n",
       "1     gamers    58       55          47\n",
       "2  bookworms    59       50          71\n",
       "3  bookworms    39       52          93\n",
       "4     gamers    51       77          73"
      ]
     },
     "execution_count": 3,
     "metadata": {},
     "output_type": "execute_result"
    }
   ],
   "source": [
    "# TODO: read the dataset\n",
    "df = pd.read_csv('scores.csv')\n",
    "df.head()"
   ]
  },
  {
   "cell_type": "markdown",
   "metadata": {},
   "source": [
    "<p dir=rtl style=\"direction: rtl;text-align: right;line-height:200%;font-family:vazir;font-size:medium\">\n",
    "<font face=\"vazirmatn\" size=3>\n",
    "میانگین نمرات هر شخص را محاسبه کنید و در ستونی به اسم<code>avg</code> قرار دهید.\n",
    "</font>\n",
    "</p>"
   ]
  },
  {
   "cell_type": "code",
   "execution_count": 6,
   "metadata": {},
   "outputs": [
    {
     "data": {
      "text/html": [
       "<div>\n",
       "<style scoped>\n",
       "    .dataframe tbody tr th:only-of-type {\n",
       "        vertical-align: middle;\n",
       "    }\n",
       "\n",
       "    .dataframe tbody tr th {\n",
       "        vertical-align: top;\n",
       "    }\n",
       "\n",
       "    .dataframe thead th {\n",
       "        text-align: right;\n",
       "    }\n",
       "</style>\n",
       "<table border=\"1\" class=\"dataframe\">\n",
       "  <thead>\n",
       "    <tr style=\"text-align: right;\">\n",
       "      <th></th>\n",
       "      <th>Status</th>\n",
       "      <th>Math</th>\n",
       "      <th>Physics</th>\n",
       "      <th>Literature</th>\n",
       "      <th>avg</th>\n",
       "    </tr>\n",
       "  </thead>\n",
       "  <tbody>\n",
       "    <tr>\n",
       "      <th>0</th>\n",
       "      <td>bookworms</td>\n",
       "      <td>85</td>\n",
       "      <td>73</td>\n",
       "      <td>39</td>\n",
       "      <td>65.666667</td>\n",
       "    </tr>\n",
       "    <tr>\n",
       "      <th>1</th>\n",
       "      <td>gamers</td>\n",
       "      <td>58</td>\n",
       "      <td>55</td>\n",
       "      <td>47</td>\n",
       "      <td>53.333333</td>\n",
       "    </tr>\n",
       "    <tr>\n",
       "      <th>2</th>\n",
       "      <td>bookworms</td>\n",
       "      <td>59</td>\n",
       "      <td>50</td>\n",
       "      <td>71</td>\n",
       "      <td>60.000000</td>\n",
       "    </tr>\n",
       "    <tr>\n",
       "      <th>3</th>\n",
       "      <td>bookworms</td>\n",
       "      <td>39</td>\n",
       "      <td>52</td>\n",
       "      <td>93</td>\n",
       "      <td>61.333333</td>\n",
       "    </tr>\n",
       "    <tr>\n",
       "      <th>4</th>\n",
       "      <td>gamers</td>\n",
       "      <td>51</td>\n",
       "      <td>77</td>\n",
       "      <td>73</td>\n",
       "      <td>67.000000</td>\n",
       "    </tr>\n",
       "  </tbody>\n",
       "</table>\n",
       "</div>"
      ],
      "text/plain": [
       "      Status  Math  Physics  Literature        avg\n",
       "0  bookworms    85       73          39  65.666667\n",
       "1     gamers    58       55          47  53.333333\n",
       "2  bookworms    59       50          71  60.000000\n",
       "3  bookworms    39       52          93  61.333333\n",
       "4     gamers    51       77          73  67.000000"
      ]
     },
     "execution_count": 6,
     "metadata": {},
     "output_type": "execute_result"
    }
   ],
   "source": [
    "# TODO: calculate average score for each student\n",
    "\n",
    "df[\"avg\"] = df[['Math', 'Physics', 'Literature']].mean(axis = 1)\n",
    "df.head()"
   ]
  },
  {
   "cell_type": "markdown",
   "metadata": {},
   "source": [
    "<p dir=rtl style=\"direction: rtl;text-align: justify;line-height:200%;font-family:vazir;font-size:medium\">\n",
    "<font face=\"vazirmatn\" size=3>\n",
    "حال قصد داریم معدل دانش‌آموزان را به مقیاس حروفی تبدیل کنیم. طبق جدول زیر، تابع <code>score_changer()</code>  را به نحوی بنویسید که در ورودی معدل را دریافت کند و خروجی حرف متناظر با آن معدل را برگرداند.\n",
    "</font>\n",
    "</p>"
   ]
  },
  {
   "cell_type": "markdown",
   "metadata": {},
   "source": [
    "<center>\n",
    "<div dir=rtl style=\"line-height:200%;font-family:vazir;font-size:medium\">\n",
    "<font face=\"vazirmatn\" size=3>\n",
    "    \n",
    "| نمره       | مقیاس حرفی |\n",
    "|:-----------:|:------------:|\n",
    "| 70 و بالاتر | A          |\n",
    "| از 50 تا 69 (شامل خود 50 و 69) | B          |\n",
    "| کمتر از 50  | C          |\n",
    "\n",
    "\n",
    "\n",
    "    \n",
    "</font>\n",
    "</div>\n",
    "</center>"
   ]
  },
  {
   "cell_type": "code",
   "execution_count": 12,
   "metadata": {},
   "outputs": [],
   "source": [
    "def score_changer(score):\n",
    "    if score >= 70:\n",
    "        return 'A'\n",
    "    elif score >= 50:\n",
    "        return 'B'\n",
    "    else:\n",
    "        return 'C'\n"
   ]
  },
  {
   "cell_type": "markdown",
   "metadata": {},
   "source": [
    "<p dir=rtl style=\"direction: rtl;text-align: justify;line-height:200%;font-family:vazir;font-size:medium\">\n",
    "<font face=\"vazirmatn\" size=3>\n",
    "اگر تابع را به درستی نوشتید، این سلول را اجرا کنید تا نمرات به صورت مقیاس حروفی در ستونی با نام <code>FinalScore</code>  ذخیره شوند.\n",
    "</font>\n",
    "</p>"
   ]
  },
  {
   "cell_type": "code",
   "execution_count": 13,
   "metadata": {},
   "outputs": [
    {
     "data": {
      "text/html": [
       "<div>\n",
       "<style scoped>\n",
       "    .dataframe tbody tr th:only-of-type {\n",
       "        vertical-align: middle;\n",
       "    }\n",
       "\n",
       "    .dataframe tbody tr th {\n",
       "        vertical-align: top;\n",
       "    }\n",
       "\n",
       "    .dataframe thead th {\n",
       "        text-align: right;\n",
       "    }\n",
       "</style>\n",
       "<table border=\"1\" class=\"dataframe\">\n",
       "  <thead>\n",
       "    <tr style=\"text-align: right;\">\n",
       "      <th></th>\n",
       "      <th>Status</th>\n",
       "      <th>Math</th>\n",
       "      <th>Physics</th>\n",
       "      <th>Literature</th>\n",
       "      <th>avg</th>\n",
       "      <th>FinalScore</th>\n",
       "    </tr>\n",
       "  </thead>\n",
       "  <tbody>\n",
       "    <tr>\n",
       "      <th>0</th>\n",
       "      <td>bookworms</td>\n",
       "      <td>85</td>\n",
       "      <td>73</td>\n",
       "      <td>39</td>\n",
       "      <td>65.666667</td>\n",
       "      <td>B</td>\n",
       "    </tr>\n",
       "    <tr>\n",
       "      <th>1</th>\n",
       "      <td>gamers</td>\n",
       "      <td>58</td>\n",
       "      <td>55</td>\n",
       "      <td>47</td>\n",
       "      <td>53.333333</td>\n",
       "      <td>B</td>\n",
       "    </tr>\n",
       "    <tr>\n",
       "      <th>2</th>\n",
       "      <td>bookworms</td>\n",
       "      <td>59</td>\n",
       "      <td>50</td>\n",
       "      <td>71</td>\n",
       "      <td>60.000000</td>\n",
       "      <td>B</td>\n",
       "    </tr>\n",
       "    <tr>\n",
       "      <th>3</th>\n",
       "      <td>bookworms</td>\n",
       "      <td>39</td>\n",
       "      <td>52</td>\n",
       "      <td>93</td>\n",
       "      <td>61.333333</td>\n",
       "      <td>B</td>\n",
       "    </tr>\n",
       "    <tr>\n",
       "      <th>4</th>\n",
       "      <td>gamers</td>\n",
       "      <td>51</td>\n",
       "      <td>77</td>\n",
       "      <td>73</td>\n",
       "      <td>67.000000</td>\n",
       "      <td>B</td>\n",
       "    </tr>\n",
       "  </tbody>\n",
       "</table>\n",
       "</div>"
      ],
      "text/plain": [
       "      Status  Math  Physics  Literature        avg FinalScore\n",
       "0  bookworms    85       73          39  65.666667          B\n",
       "1     gamers    58       55          47  53.333333          B\n",
       "2  bookworms    59       50          71  60.000000          B\n",
       "3  bookworms    39       52          93  61.333333          B\n",
       "4     gamers    51       77          73  67.000000          B"
      ]
     },
     "execution_count": 13,
     "metadata": {},
     "output_type": "execute_result"
    }
   ],
   "source": [
    "# change the scores\n",
    "df['FinalScore'] = df['avg'].apply(lambda x : score_changer(x))\n",
    "df.head()"
   ]
  },
  {
   "cell_type": "markdown",
   "metadata": {},
   "source": [
    "<p dir=rtl style=\"direction: rtl;text-align: justify;line-height:200%;font-family:vazir;font-size:medium\">\n",
    "<font face=\"vazirmatn\" size=3>\n",
    "سپس کد زیر را اجرا کنید تا جدول توزیع توأم دو کمیت نمره و علایق دانش‌آموزان در متغیری با نام <code>joint_df</code> ذخیره شود.\n",
    "</font>\n",
    "</p>"
   ]
  },
  {
   "cell_type": "code",
   "execution_count": 14,
   "metadata": {},
   "outputs": [
    {
     "data": {
      "text/plain": [
       "FinalScore\n",
       "B    298\n",
       "A    150\n",
       "C     52\n",
       "Name: count, dtype: int64"
      ]
     },
     "execution_count": 14,
     "metadata": {},
     "output_type": "execute_result"
    }
   ],
   "source": [
    "df['FinalScore'].value_counts()"
   ]
  },
  {
   "cell_type": "code",
   "execution_count": 15,
   "metadata": {},
   "outputs": [
    {
     "data": {
      "text/html": [
       "<div>\n",
       "<style scoped>\n",
       "    .dataframe tbody tr th:only-of-type {\n",
       "        vertical-align: middle;\n",
       "    }\n",
       "\n",
       "    .dataframe tbody tr th {\n",
       "        vertical-align: top;\n",
       "    }\n",
       "\n",
       "    .dataframe thead th {\n",
       "        text-align: right;\n",
       "    }\n",
       "</style>\n",
       "<table border=\"1\" class=\"dataframe\">\n",
       "  <thead>\n",
       "    <tr style=\"text-align: right;\">\n",
       "      <th>FinalScore</th>\n",
       "      <th>A</th>\n",
       "      <th>B</th>\n",
       "      <th>C</th>\n",
       "    </tr>\n",
       "    <tr>\n",
       "      <th>Status</th>\n",
       "      <th></th>\n",
       "      <th></th>\n",
       "      <th></th>\n",
       "    </tr>\n",
       "  </thead>\n",
       "  <tbody>\n",
       "    <tr>\n",
       "      <th>bookworms</th>\n",
       "      <td>0.154</td>\n",
       "      <td>0.330</td>\n",
       "      <td>0.060</td>\n",
       "    </tr>\n",
       "    <tr>\n",
       "      <th>gamers</th>\n",
       "      <td>0.146</td>\n",
       "      <td>0.266</td>\n",
       "      <td>0.044</td>\n",
       "    </tr>\n",
       "  </tbody>\n",
       "</table>\n",
       "</div>"
      ],
      "text/plain": [
       "FinalScore      A      B      C\n",
       "Status                         \n",
       "bookworms   0.154  0.330  0.060\n",
       "gamers      0.146  0.266  0.044"
      ]
     },
     "execution_count": 15,
     "metadata": {},
     "output_type": "execute_result"
    }
   ],
   "source": [
    "# calculate the joint probability\n",
    "joint_df = df.groupby(['Status','FinalScore']).size().unstack()/len(df)\n",
    "joint_df"
   ]
  },
  {
   "cell_type": "markdown",
   "metadata": {},
   "source": [
    "<p dir=rtl style=\"direction: rtl;text-align: justify;line-height:200%;font-family:vazir;font-size:medium\">\n",
    "<font face=\"vazirmatn\" size=3>\n",
    "نخست توزیع حاشیه‌ای کمیت نمره‌ی نهایی <code>FinalScore</code> را محاسبه کنید و در متغیر <code>score_marginal_distribution</code> ذخیره کنید. برای انجام این کار می‌توانید از متد <code>sum()</code> استفاده کنید و در آن با کمک آرگومان <code>axis</code> محور اعمال تابع را مشخص کنید.\n",
    "<br>\n",
    "برای مثال <code>joint_df.sum(axis=1)</code> جمع را در راستای هر ردیف انجام می‌دهد و برای انجام عملیات جمع در راستای هر ستون می‌توانید از <code>axis=0</code> استفاده کنید.\n",
    "</font>\n",
    "</p>\n"
   ]
  },
  {
   "cell_type": "code",
   "execution_count": 16,
   "metadata": {},
   "outputs": [
    {
     "data": {
      "text/plain": [
       "FinalScore\n",
       "A    0.300\n",
       "B    0.596\n",
       "C    0.104\n",
       "dtype: float64"
      ]
     },
     "execution_count": 16,
     "metadata": {},
     "output_type": "execute_result"
    }
   ],
   "source": [
    "# TODO: calculate the marginal probability of final scores\n",
    "score_marginal_distribution = joint_df.sum(axis = 0)\n",
    "score_marginal_distribution"
   ]
  },
  {
   "cell_type": "markdown",
   "metadata": {},
   "source": [
    "<p dir=rtl style=\"direction: rtl;text-align: justify;line-height:200%;font-family:vazir;font-size:medium\">\n",
    "<font face=\"vazirmatn\" size=3>\n",
    "حال توزیع حاشیه‌ای علایق دانش‌آموزان <code>Status</code> را محاسبه کنید و در متغیر <code>status_marginal_distribution</code> ذخیره کنید\n",
    "</font>\n",
    "</p>"
   ]
  },
  {
   "cell_type": "code",
   "execution_count": 21,
   "metadata": {},
   "outputs": [
    {
     "data": {
      "text/plain": [
       "Status\n",
       "bookworms    0.544\n",
       "gamers       0.456\n",
       "dtype: float64"
      ]
     },
     "execution_count": 21,
     "metadata": {},
     "output_type": "execute_result"
    }
   ],
   "source": [
    "# TODO: calculate the marginal probability of students' status\n",
    "status_marginal_distribution = joint_df.sum(axis = 1)\n",
    "status_marginal_distribution\n"
   ]
  },
  {
   "cell_type": "markdown",
   "metadata": {},
   "source": [
    "<p dir=rtl style=\"direction: rtl;text-align: justify;line-height:200%;font-family:vazir;font-size:medium\">\n",
    "<font face=\"vazirmatn\" size=3>\n",
    "حال احتمال شرطی‌ این که دانش‌آموزی نمره‌ی <code>A</code> کسب کرده باشد اگر که علاقه‌اش بازی‌های ویدئویی باشد را محاسبه کنید. همچنین احتمال شرطی‌ این که دانش‌آموزی نمره‌ی <code>A</code> کسب کرده باشد اگر که علاقه‌اش کتاب باشد را نیز محاسبه کنید. \n",
    "<br>\n",
    "سپس می‌خواهیم بدانیم در افرادی که نمره‌ی <code>A</code> کسب کرده‌اند، کتاب‌دوستان چه <b>درصدی</b> از گیمرها بیشتر یا کمتر هستند، بنابراین احتمال شرطی اول(کتاب‌دوستان) را بر احتمال شرطی دوم(گیمرها) تقسیم می‌کنیم و سپس از ۱ کم می‌کنیم.\n",
    "<br>\n",
    "پاسخ را به صورت درصد تا ۲ رقم اعشار رند کرده و در متغیر <code>nerds_to_gamers</code> ذخیره کنید.\n",
    "</font>\n",
    "</p>"
   ]
  },
  {
   "cell_type": "code",
   "execution_count": 24,
   "metadata": {},
   "outputs": [
    {
     "data": {
      "text/plain": [
       "np.float64(-11.58)"
      ]
     },
     "execution_count": 24,
     "metadata": {},
     "output_type": "execute_result"
    }
   ],
   "source": [
    "# TODO: Compute the conditional probability of a student's status (bookworm or gamer) given that they received an A.  \n",
    "# Then, calculate the percentage increase in the likelihood of a bookworm getting an A compared to a gamer.\n",
    "x = joint_df.loc['bookworms', 'A'] / status_marginal_distribution['bookworms']\n",
    "y = joint_df.loc['gamers', 'A'] / status_marginal_distribution['gamers']\n",
    "\n",
    "nerds_to_gamers = round((x / y - 1) * 100, 2)\n",
    "nerds_to_gamers"
   ]
  },
  {
   "cell_type": "code",
   "execution_count": 25,
   "metadata": {},
   "outputs": [
    {
     "name": "stdout",
     "output_type": "stream",
     "text": [
      "Z = -1.275\n",
      "p-value = 0.2024\n"
     ]
    }
   ],
   "source": [
    "import numpy as np\n",
    "from statsmodels.stats.proportion import proportions_ztest\n",
    "\n",
    "# فرض: کل دانش‌آموزان 1000 نفر\n",
    "N = 1000\n",
    "n1 = int(0.544 * N)\n",
    "n2 = int(0.456 * N)\n",
    "\n",
    "x1 = int(0.154 * N)  # bookworms who got A\n",
    "x2 = int(0.146 * N)  # gamers who got A\n",
    "\n",
    "# انجام آزمون نسبت\n",
    "count = np.array([x1, x2])\n",
    "nobs = np.array([n1, n2])\n",
    "stat, pval = proportions_ztest(count, nobs)\n",
    "\n",
    "print(\"Z =\", round(stat, 3))\n",
    "print(\"p-value =\", round(pval, 4))\n"
   ]
  },
  {
   "cell_type": "markdown",
   "metadata": {},
   "source": [
    "<h2 style=\"direction: rtl;text-align: right;font-family:vazirmatn;color:#0099cc\">بخش ۲: </h2>\n",
    "\n"
   ]
  },
  {
   "cell_type": "markdown",
   "metadata": {},
   "source": [
    "<p dir=rtl style=\"direction: rtl;text-align: right;line-height:200%;font-family:vazir;font-size:medium\"> <font face=\"vazirmatn\" size=3> تصور کنید شما در حال طراحی یک ماشین اسلات (Slot Machine) هستید که سه نماد مختلف دارد: یک نماد میوه (Fruit)، یک نماد شماره (Number)، و یک نماد ستاره (Star). هر بار که بازیکن دستگیره را می‌کشد، یکی از این سه نماد به طور تصادفی ظاهر می‌شود.\n",
    " </font> </p>"
   ]
  },
  {
   "cell_type": "markdown",
   "metadata": {},
   "source": [
    "<p dir=rtl style=\"direction: rtl;text-align: right;line-height:200%;font-family:vazir;font-size:medium\"> <font face=\"vazirmatn\" size=3> احتمالات وقوع این نمادها به ترتیب زیر است: \n",
    "<ul> <li>احتمال وقوع میوه (Fruit): ۰.۴</li> \n",
    "<li>احتمال وقوع شماره (Number): ۰.۳۵</li> \n",
    "<li>احتمال وقوع ستاره (Star): ۰.۲۵</li> </ul> \n",
    " </font> </p>"
   ]
  },
  {
   "cell_type": "markdown",
   "metadata": {},
   "source": [
    "<p dir=rtl style=\"direction: rtl;text-align: right;line-height:200%;font-family:vazir;font-size:medium\"> <font face=\"vazirmatn\" size=3>\n",
    "شما باید با استفاده از فرمول توزیع چندجمله‌ای، احتمال وقوع ترکیب زیر از نمادها را محاسبه کنید: \n",
    "<ul> <li>۴۰۰ بار میوه</li> \n",
    "<li>۳۸۰ بار شماره</li>\n",
    " <li>۲۲۰ بار ستاره</li> </ul> \n",
    " </font> </p>\n",
    "<br>\n",
    "<p dir=rtl style=\"direction: rtl;text-align: right;line-height:200%;font-family:vazir;font-size:medium\"> <font face=\"vazirmatn\" size=3>\n",
    "برای محاسبه این احتمال، از فرمول توزیع چندجمله‌ای استفاده می‌کنیم که به صورت زیر است:\n",
    "</font> </p>"
   ]
  },
  {
   "cell_type": "markdown",
   "metadata": {},
   "source": [
    "$$P(k_1, k_2, k_3) = \\frac{(n!)}{(k_1!k_2!k_3!)} \\cdot p_1^{k_1} \\cdot p_2^{k_2} \\cdot p_3^{k_3}$$"
   ]
  },
  {
   "cell_type": "markdown",
   "metadata": {},
   "source": [
    "<p dir=\"rtl\" style=\"direction: rtl;text-align: right;line-height:200%;font-family:vazir;font-size:medium\">\n",
    "  <font face=\"vazirmatn\" size=3>\n",
    "  که در آن: <ul> <li><code>n</code> تعداد کل آزمایش‌ها (در اینجا 1000 بار کشیدن دستگیره)</li> <li><code>k_1, k_2, k_3</code> تعداد وقوع هر نماد (میوه، شماره، ستاره)</li> <li><code>p_1, p_2, p_3</code> احتمالات وقوع هر نماد</li> </ul> \n",
    "  </font> </p>\n",
    "\n",
    "\n",
    "   <p dir=\"rtl\" style=\"direction: rtl;text-align: right;line-height:200%;font-family:vazir;font-size:medium\">\n",
    "  <font face=\"vazirmatn\" size=3>\n",
    "  محاسبه این احتمال را انجام دهید و نتیجه را به دست آورید. نتیجه‌ی به دست آمده را تا <code>6</code> رقم اعشار رند کرده و در متغیر <code>prob</code> ذخیره کنید.\n",
    "    </font> </p>"
   ]
  },
  {
   "cell_type": "code",
   "execution_count": 27,
   "metadata": {},
   "outputs": [
    {
     "name": "stdout",
     "output_type": "stream",
     "text": [
      "3.8e-05\n"
     ]
    }
   ],
   "source": [
    "# TODO: calculate the probability of Specific outcome of 400 Fruit, 380 Number, and 220 Star when pulling the slot machine handle 1000 times\n",
    "from scipy.stats import multinomial\n",
    "\n",
    "# Using the multinomial probability mass function to calculate the probability\n",
    "n = 1000\n",
    "p = [0.4, 0.35, 0.25]\n",
    "k = [400, 380, 220]\n",
    "prob = round(multinomial.pmf(k, n, p), 6)\n",
    "\n",
    "print(prob)"
   ]
  },
  {
   "cell_type": "markdown",
   "metadata": {},
   "source": [
    "<h2 align=right style=\"line-height:200%;font-family:vazir;color:#0099cc\">\n",
    "<font face=\"vazirmatn\" color=\"#0099cc\">\n",
    "<b>سلول جواب‌ساز</b>\n",
    "</font>\n",
    "</h2>\n",
    "\n",
    "<p dir=rtl style=\"direction: rtl; text-align: justify; line-height:200%; font-family:vazir; font-size:medium\">\n",
    "<font face=\"vazirmatn\" size=3>\n",
    "    برای ساخته‌شدن فایل <code>result.zip</code> سلول زیر را اجرا کنید. توجه داشته باشید که پیش از اجرای سلول زیر تغییرات اعمال شده در نت‌بوک را ذخیره کرده باشید (<code>ctrl+s</code>) تا در صورت نیاز به پشتیبانی امکان بررسی کد شما وجود داشته باشد.\n",
    "</font>\n",
    "</p>"
   ]
  },
  {
   "cell_type": "code",
   "execution_count": 28,
   "metadata": {},
   "outputs": [
    {
     "name": "stdout",
     "output_type": "stream",
     "text": [
      "File Paths:\n",
      "['score_marginal_distribution.csv', 'status_marginal_distribution.csv', 'FinalScore.csv', 'nerds_to_gamers', 'prob', 'init.ipynb']\n"
     ]
    }
   ],
   "source": [
    "import zipfile\n",
    "import joblib\n",
    "\n",
    "score_marginal_distribution.to_csv('score_marginal_distribution.csv',index=False)\n",
    "status_marginal_distribution.to_csv('status_marginal_distribution.csv',index=False)\n",
    "df['FinalScore'].to_csv('FinalScore.csv',index=False)\n",
    "joblib.dump(nerds_to_gamers,\"nerds_to_gamers\")\n",
    "joblib.dump(prob,\"prob\")\n",
    "\n",
    "\n",
    "\n",
    "def compress(file_names):\n",
    "    print(\"File Paths:\")\n",
    "    print(file_names)\n",
    "    # Select the compression mode ZIP_DEFLATED for compression\n",
    "    # or zipfile.ZIP_STORED to just store the file\n",
    "    compression = zipfile.ZIP_DEFLATED\n",
    "    # create the zip file first parameter path/name, second mode\n",
    "    with zipfile.ZipFile(\"result.zip\", mode=\"w\") as zf:\n",
    "        for file_name in file_names:\n",
    "            # Add file to the zip file\n",
    "            # first parameter file to zip, second filename in zip\n",
    "            zf.write('./' + file_name, file_name, compress_type=compression)\n",
    "\n",
    "\n",
    "file_names = [\"score_marginal_distribution.csv\", \"status_marginal_distribution.csv\", \"FinalScore.csv\", \"nerds_to_gamers\", \"prob\", \"init.ipynb\"]\n",
    "compress(file_names)"
   ]
  },
  {
   "cell_type": "code",
   "execution_count": null,
   "metadata": {},
   "outputs": [],
   "source": []
  }
 ],
 "metadata": {
  "kernelspec": {
   "display_name": "Python 3 (ipykernel)",
   "language": "python",
   "name": "python3"
  },
  "language_info": {
   "codemirror_mode": {
    "name": "ipython",
    "version": 3
   },
   "file_extension": ".py",
   "mimetype": "text/x-python",
   "name": "python",
   "nbconvert_exporter": "python",
   "pygments_lexer": "ipython3",
   "version": "3.10.0"
  }
 },
 "nbformat": 4,
 "nbformat_minor": 4
}
