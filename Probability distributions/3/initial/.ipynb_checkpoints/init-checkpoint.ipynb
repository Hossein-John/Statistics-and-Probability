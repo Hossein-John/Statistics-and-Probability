{
 "cells": [
  {
   "cell_type": "markdown",
   "metadata": {},
   "source": [
    "<h1 align=center style=\"line-height:200%;font-family:vazir;color:#0099cc\">\n",
    "<font face=\"vazirmatn\" color=\"#0099cc\">\n",
    "توأم‌بازی\n",
    "</font>\n",
    "</h1>"
   ]
  },
  {
   "cell_type": "markdown",
   "metadata": {},
   "source": [
    "<p dir=rtl style=\"direction: rtl;text-align: justify;line-height:200%;font-family:vazir;font-size:medium\">\n",
    "<font face=\"vazirmatn\" size=3>\n",
    "در این بخش چند مسئله را با کمک پایتون حل می‌کنیم و دانش شما را بر توزیع‌های توام محک می‌زنیم. نخست کتاب‌خانه <code>pandas</code>و <code>numpy</code> را فرا می‌خوانیم تا در ادامه از آن‌ها استفاده کنیم.\n",
    "</font>\n",
    "</p>"
   ]
  },
  {
   "cell_type": "code",
   "execution_count": null,
   "metadata": {},
   "outputs": [],
   "source": [
    "import numpy as np\n",
    "import pandas as pd"
   ]
  },
  {
   "cell_type": "markdown",
   "metadata": {},
   "source": [
    "<h2 align=right style=\"line-height:200%;font-family:vazir;color:#0099cc\">\n",
    "<font face=\"vazirmatn\" color=\"#0099cc\">\n",
    "بخش ۱: کتاب یا بازی ویدئویی\n",
    "</font>\n",
    "</h2>"
   ]
  },
  {
   "cell_type": "markdown",
   "metadata": {},
   "source": [
    "<p dir=rtl style=\"direction: rtl;text-align: justify;line-height:200%;font-family:vazir;font-size:medium\">\n",
    "<font face=\"vazirmatn\" size=3>\n",
    "در طی تحقیقاتی، داده‌ای از نمرات و علایق ۵۰۰ دانش‌آموز جمع‌آوری شده و در فایل <code>scores.csv</code> قرار گرفته است. در جدول زیر می‌توانید خلاصه‌ای از تعاریف جدول را مشاهده کنید.\n",
    "\n",
    "\n",
    "</font>\n",
    "</p>"
   ]
  },
  {
   "cell_type": "markdown",
   "metadata": {},
   "source": [
    "<center>\n",
    "<div dir=rtl style=\"line-height:200%;font-family:vazir;font-size:medium\">\n",
    "<font face=\"vazirmatn\" size=3>\n",
    "    \n",
    "| ستون | توضیح |\n",
    "|:---:|:---:|\n",
    "| `Status` | اگر این ستون برابر با مقدار `gamers` باشد، به این معنی است که علاقه‌ی این دانش‌آموز بازی ویدئویی بوده است و اگر این ستون برابر با مقدار `bookworms` باشد، به این معنی است که این دانش‌آموز به کتاب علاقه دارد. |\n",
    "| `Math` | نمره‌ی درس ریاضی |\n",
    "| `Physics` | نمره‌ی درس فیزیک |\n",
    "| `Literature` | نمره‌ی درس ادبیات |\n",
    "\n",
    "\n",
    "    \n",
    "</font>\n",
    "</div>\n",
    "</center>"
   ]
  },
  {
   "cell_type": "markdown",
   "metadata": {},
   "source": [
    "<p dir=rtl style=\"direction: rtl;text-align: justify;line-height:200%;font-family:vazir;font-size:medium\">\n",
    "<font face=\"vazirmatn\" size=3>\n",
    "اطلاعات مربوط به عملکرد دانش‌آموزان که در فایل <code>scores.csv</code> در اختیار شما گرفته است را  با استفاده از ‍<code>Pandas</code> بارگذاری کنید و آن را در <code>df</code> ذخیره کنید.\n",
    "</font>\n",
    "</p>"
   ]
  },
  {
   "cell_type": "code",
   "execution_count": null,
   "metadata": {},
   "outputs": [],
   "source": [
    "# TODO: read the dataset\n",
    "df = pd.read_csv(None)\n",
    "df.head()"
   ]
  },
  {
   "cell_type": "markdown",
   "metadata": {},
   "source": [
    "<p dir=rtl style=\"direction: rtl;text-align: right;line-height:200%;font-family:vazir;font-size:medium\">\n",
    "<font face=\"vazirmatn\" size=3>\n",
    "میانگین نمرات هر شخص را محاسبه کنید و در ستونی به اسم<code>avg</code> قرار دهید.\n",
    "</font>\n",
    "</p>"
   ]
  },
  {
   "cell_type": "code",
   "execution_count": null,
   "metadata": {},
   "outputs": [],
   "source": [
    "# TODO: calculate average score for each student\n",
    "\n",
    "df[\"avg\"] = None\n",
    "df.head()"
   ]
  },
  {
   "cell_type": "markdown",
   "metadata": {},
   "source": [
    "<p dir=rtl style=\"direction: rtl;text-align: justify;line-height:200%;font-family:vazir;font-size:medium\">\n",
    "<font face=\"vazirmatn\" size=3>\n",
    "حال قصد داریم معدل دانش‌آموزان را به مقیاس حروفی تبدیل کنیم. طبق جدول زیر، تابع <code>score_changer()</code>  را به نحوی بنویسید که در ورودی معدل را دریافت کند و خروجی حرف متناظر با آن معدل را برگرداند.\n",
    "</font>\n",
    "</p>"
   ]
  },
  {
   "cell_type": "markdown",
   "metadata": {},
   "source": [
    "<center>\n",
    "<div dir=rtl style=\"line-height:200%;font-family:vazir;font-size:medium\">\n",
    "<font face=\"vazirmatn\" size=3>\n",
    "    \n",
    "| نمره       | مقیاس حرفی |\n",
    "|:-----------:|:------------:|\n",
    "| 70 و بالاتر | A          |\n",
    "| از 50 تا 69 (شامل خود 50 و 69) | B          |\n",
    "| کمتر از 50  | C          |\n",
    "\n",
    "\n",
    "\n",
    "    \n",
    "</font>\n",
    "</div>\n",
    "</center>"
   ]
  },
  {
   "cell_type": "code",
   "execution_count": null,
   "metadata": {},
   "outputs": [],
   "source": [
    "# TODO: complete the funciton to change the scores according to the table above\n",
    "def score_changer(score):\n",
    "    return None"
   ]
  },
  {
   "cell_type": "markdown",
   "metadata": {},
   "source": [
    "<p dir=rtl style=\"direction: rtl;text-align: justify;line-height:200%;font-family:vazir;font-size:medium\">\n",
    "<font face=\"vazirmatn\" size=3>\n",
    "اگر تابع را به درستی نوشتید، این سلول را اجرا کنید تا نمرات به صورت مقیاس حروفی در ستونی با نام <code>FinalScore</code>  ذخیره شوند.\n",
    "</font>\n",
    "</p>"
   ]
  },
  {
   "cell_type": "code",
   "execution_count": null,
   "metadata": {},
   "outputs": [],
   "source": [
    "# change the scores\n",
    "df['FinalScore'] = df['avg'].apply(lambda x : score_changer(x))\n",
    "df.head()"
   ]
  },
  {
   "cell_type": "markdown",
   "metadata": {},
   "source": [
    "<p dir=rtl style=\"direction: rtl;text-align: justify;line-height:200%;font-family:vazir;font-size:medium\">\n",
    "<font face=\"vazirmatn\" size=3>\n",
    "سپس کد زیر را اجرا کنید تا جدول توزیع توأم دو کمیت نمره و علایق دانش‌آموزان در متغیری با نام <code>joint_df</code> ذخیره شود.\n",
    "</font>\n",
    "</p>"
   ]
  },
  {
   "cell_type": "code",
   "execution_count": null,
   "metadata": {},
   "outputs": [],
   "source": [
    "# calculate the joint probability\n",
    "joint_df = df.groupby(['Status','FinalScore']).size().unstack()/len(df)\n",
    "joint_df"
   ]
  },
  {
   "cell_type": "markdown",
   "metadata": {},
   "source": [
    "<p dir=rtl style=\"direction: rtl;text-align: justify;line-height:200%;font-family:vazir;font-size:medium\">\n",
    "<font face=\"vazirmatn\" size=3>\n",
    "نخست توزیع حاشیه‌ای کمیت نمره‌ی نهایی <code>FinalScore</code> را محاسبه کنید و در متغیر <code>score_marginal_distribution</code> ذخیره کنید. برای انجام این کار می‌توانید از متد <code>sum()</code> استفاده کنید و در آن با کمک آرگومان <code>axis</code> محور اعمال تابع را مشخص کنید.\n",
    "<br>\n",
    "برای مثال <code>joint_df.sum(axis=1)</code> جمع را در راستای هر ردیف انجام می‌دهد و برای انجام عملیات جمع در راستای هر ستون می‌توانید از <code>axis=0</code> استفاده کنید.\n",
    "</font>\n",
    "</p>\n"
   ]
  },
  {
   "cell_type": "code",
   "execution_count": null,
   "metadata": {},
   "outputs": [],
   "source": [
    "# TODO: calculate the marginal probability of final scores\n",
    "score_marginal_distribution = None"
   ]
  },
  {
   "cell_type": "markdown",
   "metadata": {},
   "source": [
    "<p dir=rtl style=\"direction: rtl;text-align: justify;line-height:200%;font-family:vazir;font-size:medium\">\n",
    "<font face=\"vazirmatn\" size=3>\n",
    "حال توزیع حاشیه‌ای علایق دانش‌آموزان <code>Status</code> را محاسبه کنید و در متغیر <code>status_marginal_distribution</code> ذخیره کنید\n",
    "</font>\n",
    "</p>"
   ]
  },
  {
   "cell_type": "code",
   "execution_count": null,
   "metadata": {},
   "outputs": [],
   "source": [
    "# TODO: calculate the marginal probability of students' status\n",
    "status_marginal_distribution = None"
   ]
  },
  {
   "cell_type": "markdown",
   "metadata": {},
   "source": [
    "<p dir=rtl style=\"direction: rtl;text-align: justify;line-height:200%;font-family:vazir;font-size:medium\">\n",
    "<font face=\"vazirmatn\" size=3>\n",
    "حال احتمال شرطی‌ این که دانش‌آموزی نمره‌ی <code>A</code> کسب کرده باشد اگر که علاقه‌اش بازی‌های ویدئویی باشد را محاسبه کنید. همچنین احتمال شرطی‌ این که دانش‌آموزی نمره‌ی <code>A</code> کسب کرده باشد اگر که علاقه‌اش کتاب باشد را نیز محاسبه کنید. \n",
    "<br>\n",
    "سپس می‌خواهیم بدانیم در افرادی که نمره‌ی <code>A</code> کسب کرده‌اند، کتاب‌دوستان چه <b>درصدی</b> از گیمرها بیشتر یا کمتر هستند، بنابراین احتمال شرطی اول(کتاب‌دوستان) را بر احتمال شرطی دوم(گیمرها) تقسیم می‌کنیم و سپس از ۱ کم می‌کنیم.\n",
    "<br>\n",
    "پاسخ را به صورت درصد تا ۲ رقم اعشار رند کرده و در متغیر <code>nerds_to_gamers</code> ذخیره کنید.\n",
    "</font>\n",
    "</p>"
   ]
  },
  {
   "cell_type": "code",
   "execution_count": null,
   "metadata": {},
   "outputs": [],
   "source": [
    "# TODO: Compute the conditional probability of a student's status (bookworm or gamer) given that they received an A.  \n",
    "# Then, calculate the percentage increase in the likelihood of a bookworm getting an A compared to a gamer.\n",
    "\n",
    "nerds_to_gamers = None\n",
    "nerds_to_gamers"
   ]
  },
  {
   "cell_type": "markdown",
   "metadata": {},
   "source": [
    "<h2 style=\"direction: rtl;text-align: right;font-family:vazirmatn;color:#0099cc\">بخش ۲: </h2>\n",
    "\n"
   ]
  },
  {
   "cell_type": "markdown",
   "metadata": {},
   "source": [
    "<p dir=rtl style=\"direction: rtl;text-align: right;line-height:200%;font-family:vazir;font-size:medium\"> <font face=\"vazirmatn\" size=3> تصور کنید شما در حال طراحی یک ماشین اسلات (Slot Machine) هستید که سه نماد مختلف دارد: یک نماد میوه (Fruit)، یک نماد شماره (Number)، و یک نماد ستاره (Star). هر بار که بازیکن دستگیره را می‌کشد، یکی از این سه نماد به طور تصادفی ظاهر می‌شود.\n",
    " </font> </p>"
   ]
  },
  {
   "cell_type": "markdown",
   "metadata": {},
   "source": [
    "<p dir=rtl style=\"direction: rtl;text-align: right;line-height:200%;font-family:vazir;font-size:medium\"> <font face=\"vazirmatn\" size=3> احتمالات وقوع این نمادها به ترتیب زیر است: \n",
    "<ul> <li>احتمال وقوع میوه (Fruit): ۰.۴</li> \n",
    "<li>احتمال وقوع شماره (Number): ۰.۳۵</li> \n",
    "<li>احتمال وقوع ستاره (Star): ۰.۲۵</li> </ul> \n",
    " </font> </p>"
   ]
  },
  {
   "cell_type": "markdown",
   "metadata": {},
   "source": [
    "<p dir=rtl style=\"direction: rtl;text-align: right;line-height:200%;font-family:vazir;font-size:medium\"> <font face=\"vazirmatn\" size=3>\n",
    "شما باید با استفاده از فرمول توزیع چندجمله‌ای، احتمال وقوع ترکیب زیر از نمادها را محاسبه کنید: \n",
    "<ul> <li>۴۰۰ بار میوه</li> \n",
    "<li>۳۸۰ بار شماره</li>\n",
    " <li>۲۲۰ بار ستاره</li> </ul> \n",
    " </font> </p>\n",
    "<br>\n",
    "<p dir=rtl style=\"direction: rtl;text-align: right;line-height:200%;font-family:vazir;font-size:medium\"> <font face=\"vazirmatn\" size=3>\n",
    "برای محاسبه این احتمال، از فرمول توزیع چندجمله‌ای استفاده می‌کنیم که به صورت زیر است:\n",
    "</font> </p>"
   ]
  },
  {
   "cell_type": "markdown",
   "metadata": {},
   "source": [
    "$$P(k_1, k_2, k_3) = \\frac{(n!)}{(k_1!k_2!k_3!)} \\cdot p_1^{k_1} \\cdot p_2^{k_2} \\cdot p_3^{k_3}$$"
   ]
  },
  {
   "cell_type": "markdown",
   "metadata": {},
   "source": [
    "<p dir=\"rtl\" style=\"direction: rtl;text-align: right;line-height:200%;font-family:vazir;font-size:medium\">\n",
    "  <font face=\"vazirmatn\" size=3>\n",
    "  که در آن: <ul> <li><code>n</code> تعداد کل آزمایش‌ها (در اینجا 1000 بار کشیدن دستگیره)</li> <li><code>k_1, k_2, k_3</code> تعداد وقوع هر نماد (میوه، شماره، ستاره)</li> <li><code>p_1, p_2, p_3</code> احتمالات وقوع هر نماد</li> </ul> \n",
    "  </font> </p>\n",
    "\n",
    "\n",
    "   <p dir=\"rtl\" style=\"direction: rtl;text-align: right;line-height:200%;font-family:vazir;font-size:medium\">\n",
    "  <font face=\"vazirmatn\" size=3>\n",
    "  محاسبه این احتمال را انجام دهید و نتیجه را به دست آورید. نتیجه‌ی به دست آمده را تا <code>6</code> رقم اعشار رند کرده و در متغیر <code>prob</code> ذخیره کنید.\n",
    "    </font> </p>"
   ]
  },
  {
   "cell_type": "code",
   "execution_count": null,
   "metadata": {},
   "outputs": [],
   "source": [
    "# TODO: calculate the probability of Specific outcome of 400 Fruit, 380 Number, and 220 Star when pulling the slot machine handle 1000 times\n",
    "from scipy.stats import multinomial\n",
    "\n",
    "# Using the multinomial probability mass function to calculate the probability\n",
    "prob = None\n",
    "print(prob)"
   ]
  },
  {
   "cell_type": "markdown",
   "metadata": {},
   "source": [
    "<h2 align=right style=\"line-height:200%;font-family:vazir;color:#0099cc\">\n",
    "<font face=\"vazirmatn\" color=\"#0099cc\">\n",
    "<b>سلول جواب‌ساز</b>\n",
    "</font>\n",
    "</h2>\n",
    "\n",
    "<p dir=rtl style=\"direction: rtl; text-align: justify; line-height:200%; font-family:vazir; font-size:medium\">\n",
    "<font face=\"vazirmatn\" size=3>\n",
    "    برای ساخته‌شدن فایل <code>result.zip</code> سلول زیر را اجرا کنید. توجه داشته باشید که پیش از اجرای سلول زیر تغییرات اعمال شده در نت‌بوک را ذخیره کرده باشید (<code>ctrl+s</code>) تا در صورت نیاز به پشتیبانی امکان بررسی کد شما وجود داشته باشد.\n",
    "</font>\n",
    "</p>"
   ]
  },
  {
   "cell_type": "code",
   "execution_count": null,
   "metadata": {},
   "outputs": [],
   "source": [
    "import zipfile\n",
    "import joblib\n",
    "\n",
    "score_marginal_distribution.to_csv('score_marginal_distribution.csv',index=False)\n",
    "status_marginal_distribution.to_csv('status_marginal_distribution.csv',index=False)\n",
    "df['FinalScore'].to_csv('FinalScore.csv',index=False)\n",
    "joblib.dump(nerds_to_gamers,\"nerds_to_gamers\")\n",
    "joblib.dump(prob,\"prob\")\n",
    "\n",
    "\n",
    "\n",
    "def compress(file_names):\n",
    "    print(\"File Paths:\")\n",
    "    print(file_names)\n",
    "    # Select the compression mode ZIP_DEFLATED for compression\n",
    "    # or zipfile.ZIP_STORED to just store the file\n",
    "    compression = zipfile.ZIP_DEFLATED\n",
    "    # create the zip file first parameter path/name, second mode\n",
    "    with zipfile.ZipFile(\"result.zip\", mode=\"w\") as zf:\n",
    "        for file_name in file_names:\n",
    "            # Add file to the zip file\n",
    "            # first parameter file to zip, second filename in zip\n",
    "            zf.write('./' + file_name, file_name, compress_type=compression)\n",
    "\n",
    "\n",
    "file_names = [\"score_marginal_distribution.csv\", \"status_marginal_distribution.csv\", \"FinalScore.csv\", \"nerds_to_gamers\", \"prob\", \"init.ipynb\"]\n",
    "compress(file_names)"
   ]
  }
 ],
 "metadata": {
  "kernelspec": {
   "display_name": "update",
   "language": "python",
   "name": "python3"
  },
  "language_info": {
   "codemirror_mode": {
    "name": "ipython",
    "version": 3
   },
   "file_extension": ".py",
   "mimetype": "text/x-python",
   "name": "python",
   "nbconvert_exporter": "python",
   "pygments_lexer": "ipython3",
   "version": "3.13.0"
  }
 },
 "nbformat": 4,
 "nbformat_minor": 2
}
