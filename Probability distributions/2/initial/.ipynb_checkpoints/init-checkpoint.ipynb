{
 "cells": [
  {
   "cell_type": "markdown",
   "metadata": {},
   "source": [
    "<h1 align=center style=\"line-height:200%;font-family:vazir;color:#0099cc\">\n",
    "<font face=\"vazirmatn\" color=\"#0099cc\">\n",
    "پیوسته بازی\n",
    "</font>\n",
    "</h1>"
   ]
  },
  {
   "cell_type": "markdown",
   "metadata": {},
   "source": [
    "<p dir=rtl style=\"direction: rtl;text-align: justify;line-height:200%;font-family:vazir;font-size:medium\">\n",
    "<font face=\"vazirmatn\" size=3>\n",
    "در این بخش تعدادی مسئله را با کمک پایتون حل می‌کنیم و دانش شما را بر توزیع‌های پیوسته محک می‌زنیم. نخست کتاب‌خانه <code>numpy</code> را فرا می‌خوانیم تا در ادامه از آن استفاده کنیم.\n",
    "</font>\n",
    "</p>"
   ]
  },
  {
   "cell_type": "code",
   "execution_count": 1,
   "metadata": {},
   "outputs": [],
   "source": [
    "import numpy as np"
   ]
  },
  {
   "cell_type": "markdown",
   "metadata": {},
   "source": [
    "<h3 align=right style=\"line-height:200%;font-family:vazir;color:#0099cc\">\n",
    "<font face=\"vazirmatn\" color=\"#0099cc\">\n",
    "بخش ۱: کیسه‌های سیب‌زمینی\n",
    "</font>\n",
    "</h3>"
   ]
  },
  {
   "cell_type": "markdown",
   "metadata": {},
   "source": [
    "<p dir=rtl style=\"direction: rtl;text-align: justify;line-height:200%;font-family:vazir;font-size:medium\">\n",
    "<font face=\"vazirmatn\" size=3>\n",
    "اصغر متوجه شده است که وزن کیسه‌های سیب‌زمینی از توزیع نرمال با میانگین <code>25.8</code> کیلوگرم و انحراف معیار <code>0.5</code> کیلوگرم پیروی می‌کند. حال سوال‌هایی برای اصغر پیش آمده است که از شما کمک می‌خواهد که در حل آن‌ها به اون کمک کنید.\n",
    "<br>\n",
    "او می‌خواهد بداند تقریباً در <code>100</code> کیسه‌ی سیب‌زمینی وزن چند کیسه‌ی سیب‌زمینی کمتر از  <code>25</code> کیلوگرم است. پاسخ را محاسبه کنید و به عدد صحیح رند کرده و آن را در متغیر <code>under_25</code> ذخیره کنید.\n",
    "</font>\n",
    "</p>"
   ]
  },
  {
   "cell_type": "code",
   "execution_count": 2,
   "metadata": {},
   "outputs": [
    {
     "data": {
      "text/plain": [
       "5"
      ]
     },
     "execution_count": 2,
     "metadata": {},
     "output_type": "execute_result"
    }
   ],
   "source": [
    "from scipy.stats import norm\n",
    "\n",
    "under_25 = round(norm.cdf(25, 25.8, 0.5) * 100)\n",
    "under_25"
   ]
  },
  {
   "cell_type": "markdown",
   "metadata": {},
   "source": [
    "<p dir=rtl style=\"direction: rtl;text-align: justify;line-height:200%;font-family:vazir;font-size:medium\">\n",
    "<font face=\"vazirmatn\" size=3>\n",
    "همچنین او می‌خواهد بداند تقریباً در این <code>100</code> کیسه‌ی سیب‌زمینی وزن چند کیسه‌ی سیب‌زمینی بین <code>25.5</code> و <code>26.5</code> کیلوگرم است. پاسخ را محاسبه کنید و به عدد صحیح رند کرده و آن را در متغیر <code>between_two_weights</code> ذخیره کنید.\n",
    "</font>\n",
    "</p>"
   ]
  },
  {
   "cell_type": "code",
   "execution_count": 3,
   "metadata": {},
   "outputs": [
    {
     "data": {
      "text/plain": [
       "64"
      ]
     },
     "execution_count": 3,
     "metadata": {},
     "output_type": "execute_result"
    }
   ],
   "source": [
    "x = norm.cdf(26.5, 25.8, 0.5)\n",
    "y = norm.cdf(25.5, 25.8, 0.5)\n",
    "\n",
    "between_two_weights = round((x - y) * 100)\n",
    "between_two_weights"
   ]
  },
  {
   "cell_type": "markdown",
   "metadata": {},
   "source": [
    "<p dir=rtl style=\"direction: rtl;text-align: justify;line-height:200%;font-family:vazir;font-size:medium\">\n",
    "<font face=\"vazirmatn\" size=3>\n",
    "محاسبه کنید <b>۷۵ درصد</b> کیسه‌های سیب‌زمینی وزن‌شان از چه مقداری بیشتر است. پاسخ را محاسبه کنید و آن را تا <code>2</code> رقم اعشار رند کرده و در متغیر <code>weight_75_percent</code> ذخیره کنید.\n",
    "</font>\n",
    "<br>\n",
    "<br>\n",
    "<font face=\"vazir\" size=3>\n",
    "<span style=\"color: green\"><b>راهنمایی: </b></span> برای حل این بخش از <code>norm.isf()</code> میتوانید استفاده کنید. تابع <code>norm.isf(q, mean, std)</code> مقداری را برمی‌گرداند که فقط <code>q</code> درصد از مقادیر یک توزیع نرمال با میانگین و انحراف معیار مشخص بیشتر از آن باشند. این تابع معکوس تابع بقای توزیع نرمال است و معادل <code>norm.ppf(1 - q)</code> عمل می‌کند.\n",
    "برای مثال، اگر بخواهیم مقداری را پیدا کنیم که فقط ۵٪ از مقادیر یک توزیع نرمال (با میانگین ۱۰ و انحراف معیار ۲) بزرگ‌تر از آن باشند، می‌توانیم از <code>norm.isf(0.05, 10, 2)</code> استفاده کنیم.\n",
    "\n",
    "</font>\n",
    "</p>"
   ]
  },
  {
   "cell_type": "code",
   "execution_count": 4,
   "metadata": {},
   "outputs": [
    {
     "data": {
      "text/plain": [
       "np.float64(25.46)"
      ]
     },
     "execution_count": 4,
     "metadata": {},
     "output_type": "execute_result"
    }
   ],
   "source": [
    "weight_75_percent = round(norm.isf(0.75, 25.8, 0.5), 2)\n",
    "weight_75_percent"
   ]
  },
  {
   "cell_type": "markdown",
   "metadata": {},
   "source": [
    "<h3 align=right style=\"line-height:200%;font-family:vazir;color:#0099cc\">\n",
    "<font face=\"vazirmatn\" color=\"#0099cc\">\n",
    "بخش ۲: نانوایی\n",
    "</font>\n",
    "</h3>"
   ]
  },
  {
   "cell_type": "markdown",
   "metadata": {},
   "source": [
    "<p dir=rtl style=\"direction: rtl;text-align: justify;line-height:200%;font-family:vazir;font-size:medium\">\n",
    "<font face=\"vazirmatn\" size=3>\n",
    "اصغر علاقه‌ی شدیدی به نان دارد. به طوری که هر روز باید قبل از سر کار به نانوایی برود و نان گرم بگیرد. اصغر به تازگی متوجه شده است که زمان انتظار در صف نانوایی از توزیع نمایی پیروی می‌کند.\n",
    "<br>\n",
    "فرض کنیم میانگین زمان انتظار در صف نانوایی <code>5</code> دقیقه است. اصغر می‌خواهد بداند احتمال اینکه کمتر از <code>3</code> دقیقه نان بگیرد چقدر است؟\n",
    "پاسخ را محاسبه کنید و آن را تا <code>4</code> رقم اعشار رند کرده و در متغیر <code>under_3_min</code> ذخیره کنید.\n",
    "</font>\n",
    "</p>"
   ]
  },
  {
   "cell_type": "code",
   "execution_count": 5,
   "metadata": {},
   "outputs": [
    {
     "data": {
      "text/plain": [
       "np.float64(0.4512)"
      ]
     },
     "execution_count": 5,
     "metadata": {},
     "output_type": "execute_result"
    }
   ],
   "source": [
    "from scipy.stats import expon\n",
    "\n",
    "under_3_min = round(expon.cdf(3, scale=5), 4)\n",
    "under_3_min"
   ]
  },
  {
   "cell_type": "markdown",
   "metadata": {},
   "source": [
    "<p dir=rtl style=\"direction: rtl;text-align: justify;line-height:200%;font-family:vazir;font-size:medium\">\n",
    "<font face=\"vazirmatn\" size=3>\n",
    "فرض کنیم اصغر تازه از صف اول نان گرفته‌ است و ناگهان می‌بیند خانمش گفته دو مدل نان دیگر هم لازم داریم! اگر اصغر دوباره در صف بایستد، چقدر احتمال دارد که این دفعه بیشتر از  <code>10</code> دقیقه معطل شود؟\n",
    "پاسخ را محاسبه کنید و آن را تا <code>4</code> رقم اعشار رند کرده و در متغیر <code>more_than_10_min</code> ذخیره کنید.\n",
    "\n",
    "</font>\n",
    "</p>"
   ]
  },
  {
   "cell_type": "code",
   "execution_count": 8,
   "metadata": {},
   "outputs": [
    {
     "data": {
      "text/plain": [
       "np.float64(0.1353)"
      ]
     },
     "execution_count": 8,
     "metadata": {},
     "output_type": "execute_result"
    }
   ],
   "source": [
    "more_than_10_min = round(1 - expon.cdf(10, scale=5), 4)\n",
    "more_than_10_min"
   ]
  },
  {
   "cell_type": "markdown",
   "metadata": {},
   "source": [
    "<h2 align=right style=\"line-height:200%;font-family:vazir;color:#0099cc\">\n",
    "<font face=\"vazirmatn\" color=\"#0099cc\">\n",
    "<b>سلول جواب‌ساز</b>\n",
    "</font>\n",
    "</h2>\n",
    "\n",
    "<p dir=rtl style=\"direction: rtl; text-align: justify; line-height:200%; font-family:vazir; font-size:medium\">\n",
    "<font face=\"vazirmatn\" size=3>\n",
    "    برای ساخته‌شدن فایل <code>result.zip</code> سلول زیر را اجرا کنید. توجه داشته باشید که پیش از اجرای سلول زیر تغییرات اعمال شده در نت‌بوک را ذخیره کرده باشید (<code>ctrl+s</code>) تا در صورت نیاز به پشتیبانی امکان بررسی کد شما وجود داشته باشد.\n",
    "</font>\n",
    "</p>"
   ]
  },
  {
   "cell_type": "code",
   "execution_count": 9,
   "metadata": {},
   "outputs": [
    {
     "name": "stdout",
     "output_type": "stream",
     "text": [
      "File Paths:\n",
      "['under_25', 'between_two_weights', 'weight_75_percent', 'under_3_min', 'more_than_10_min', 'init.ipynb']\n"
     ]
    }
   ],
   "source": [
    "import zipfile\n",
    "import joblib\n",
    "\n",
    "joblib.dump(under_25,\"under_25\")\n",
    "joblib.dump(between_two_weights,\"between_two_weights\")\n",
    "joblib.dump(weight_75_percent,\"weight_75_percent\")\n",
    "joblib.dump(under_3_min,\"under_3_min\")\n",
    "joblib.dump(more_than_10_min,\"more_than_10_min\")\n",
    "\n",
    "\n",
    "\n",
    "def compress(file_names):\n",
    "    print(\"File Paths:\")\n",
    "    print(file_names)\n",
    "    # Select the compression mode ZIP_DEFLATED for compression\n",
    "    # or zipfile.ZIP_STORED to just store the file\n",
    "    compression = zipfile.ZIP_DEFLATED\n",
    "    # create the zip file first parameter path/name, second mode\n",
    "    with zipfile.ZipFile(\"result.zip\", mode=\"w\") as zf:\n",
    "        for file_name in file_names:\n",
    "            # Add file to the zip file\n",
    "            # first parameter file to zip, second filename in zip\n",
    "            zf.write('./' + file_name, file_name, compress_type=compression)\n",
    "\n",
    "\n",
    "file_names = [\"under_25\",\"between_two_weights\",\"weight_75_percent\",\"under_3_min\",\"more_than_10_min\",\"init.ipynb\"]\n",
    "compress(file_names)"
   ]
  },
  {
   "cell_type": "code",
   "execution_count": null,
   "metadata": {},
   "outputs": [],
   "source": []
  }
 ],
 "metadata": {
  "kernelspec": {
   "display_name": "Python 3 (ipykernel)",
   "language": "python",
   "name": "python3"
  },
  "language_info": {
   "codemirror_mode": {
    "name": "ipython",
    "version": 3
   },
   "file_extension": ".py",
   "mimetype": "text/x-python",
   "name": "python",
   "nbconvert_exporter": "python",
   "pygments_lexer": "ipython3",
   "version": "3.10.0"
  }
 },
 "nbformat": 4,
 "nbformat_minor": 4
}
