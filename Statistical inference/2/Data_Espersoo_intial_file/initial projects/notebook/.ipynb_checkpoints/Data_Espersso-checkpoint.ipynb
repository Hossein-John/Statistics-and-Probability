{
 "cells": [
  {
   "cell_type": "markdown",
   "metadata": {
    "id": "_1TtuvXLJYRj"
   },
   "source": [
    "<h1 align=center style=\"line-height:200%;font-family:vazir;color:#0099cc\">\n",
    "<font face=\"vazir\" color=\"#0099cc\">\n",
    "آزمایشگاه آماری: نمونه‌گیری و استنباط در خط تولید\n",
    "</font>\n",
    "</h1>\n",
    "\n",
    "\n",
    "<div dir=\"rtl\">\n",
    "<h2 align=right style=\"line-height:200%;font-family:vazir;color:#0099cc\">\n",
    "<font face=\"vazir\" color=\"#0099cc\">\n",
    "مقدمه و صورت مسئله\n",
    "</font>\n",
    "</h2>\n",
    "<p dir=rtl style=\"direction: rtl; text-align: justify; line-height:200%; font-family:vazir; font-size:medium\">\n",
    "<font face=\"vazir\" size=3>\n",
    "در دنیای امروز، علم آمار و احتمال نقش بسیار مهمی در تحلیل داده‌ها و تصمیم‌گیری‌های مبتنی بر داده ایفا می‌کند. از صنعت گرفته تا علوم پزشکی، اقتصاد، و حتی هوش مصنوعی، همه به نوعی به آمار وابسته هستند. در این تمرین، قصد داریم شما را با مفاهیم کلیدی آمار و احتمال آشنا کنیم و به شما یاد بدهیم که چگونه از این مفاهیم در تحلیل داده‌های واقعی استفاده کنید.\n",
    "\n",
    "\n",
    "**هدف از تمرین:**\n",
    "\n",
    "هدف اصلی این تمرین، آشنایی شما با مفاهیم آماری زیر است:\n",
    "\n",
    "1. **روش‌های نمونه‌گیری:** یاد خواهید گرفت که چگونه از جمعیت کل، نمونه‌هایی استخراج کنید و تأثیر اندازه نمونه را بر نتایج آماری بررسی کنید.\n",
    "2. **قضیه حد مرکزی (CLT):** خواهید دید که چرا میانگین نمونه‌ها به توزیع نرمال نزدیک می‌شود و این موضوع چقدر در تحلیل‌های آماری مهم است.\n",
    "3. **قانون اعداد بزرگ (LLN):** متوجه خواهید شد که با افزایش اندازه نمونه، میانگین نمونه به میانگین جمعیت نزدیک می‌شود.\n",
    "4. **بوت‌استرپ:** یاد خواهید گرفت که چگونه فاصله اطمینان را با استفاده از روش بوت‌استرپ محاسبه کنید.\n",
    "5. **برآورد نقطه‌ای و فاصله‌ای:** نحوه برآورد میانگین و فاصله اطمینان برای پارامترهای جمعیت را یاد خواهید گرفت.\n",
    "6. **بایاس نمونه و بایاس در انتخاب:** بررسی خواهید کرد که آیا نمونه‌گیری منجر به بایاس می‌شود یا خیر.\n",
    "\n",
    "\n",
    "\n",
    "**شرح داده‌ها:**\n",
    "\n",
    "داده‌هایی که در اختیار شما قرار داده شده‌اند، مربوط به **وزن قطعات تولید شده در یک خط تولید** هستند. این داده‌ها به صورت شبیه‌سازی شده تولید شده‌اند و از توزیع نرمال $ N(\\mu=50, \\sigma=5) $ پیروی می‌کنند. به عبارت دیگر:\n",
    "- میانگین وزن قطعات تولید شده $ 50 $ گرم است.\n",
    "- انحراف معیار وزن قطعات $ 5 $ گرم است.\n",
    "\n",
    "همچنین، به داده‌ها **نویز** اضافه شده است تا شرایط واقعی‌تری شبیه‌سازی شود. این نویز از توزیع نرمال $ N(0, 2) $ تولید شده است.\n",
    "\n",
    "\n",
    "\n",
    "این تمرین طراحی شده است تا شما را با مفاهیم آماری آشنا کند و به شما کمک کند که این مفاهیم را در یک سناریوی عملی به کار ببرید. داده‌هایی که در اختیار دارید، مربوط به وزن قطعات تولید شده در یک خط تولید هستند و شامل نویز هستند. با انجام این تمرین، مهارت‌های تحلیل داده و برنامه‌نویسی خود را تقویت خواهید کرد.\n",
    "\n",
    "</font>\n",
    "</p>\n",
    "</div>"
   ]
  },
  {
   "cell_type": "markdown",
   "metadata": {
    "id": "AcaItiZJKEdN"
   },
   "source": [
    "<p dir=rtl style=\"direction: rtl; text-align: justify; line-height:200%; font-family:vazir; font-size:medium\">\n",
    "<font face=\"vazir\" size=3>\n",
    "فراخوانی کتابخانه‌های مورد نیاز.\n",
    "</font>\n",
    "</p>"
   ]
  },
  {
   "cell_type": "code",
   "execution_count": 1,
   "metadata": {
    "id": "7oFTK0bsHAkB"
   },
   "outputs": [],
   "source": [
    "import numpy as np\n",
    "import pandas as pd\n",
    "import matplotlib.pyplot as plt\n",
    "import seaborn as sns"
   ]
  },
  {
   "cell_type": "markdown",
   "metadata": {
    "id": "DkNr-TViLs4m"
   },
   "source": [
    "<p dir=rtl style=\"direction: rtl; text-align: justify; line-height:200%; font-family:vazir; font-size:medium\">\n",
    "<font face=\"vazir\" size=3>\n",
    "<div dir=\"rtl\">\n",
    "در این مرحله شما می‌بایست داده‌های موجود در مسیر <code>data</code> به نام <code>manufacturing_weights.csv</code> را فراخوانی کرده و در یک متغیر به نام <code>data_df</code> ذخیره کنید.\n",
    "از این اطلاعات و مقادیر برای عملیات‌های بعدی استفاده خواهیم کرد.\n",
    "</div>\n",
    "</font>\n",
    "</p>\n"
   ]
  },
  {
   "cell_type": "code",
   "execution_count": 6,
   "metadata": {
    "colab": {
     "base_uri": "https://localhost:8080/",
     "height": 224
    },
    "id": "wwJVHsl8HB2j",
    "outputId": "e73a5f27-cbd8-4fa3-dd57-57abf0fa6310"
   },
   "outputs": [
    {
     "name": "stdout",
     "output_type": "stream",
     "text": [
      "First few rows of the dataset:\n"
     ]
    },
    {
     "data": {
      "text/html": [
       "<div>\n",
       "<style scoped>\n",
       "    .dataframe tbody tr th:only-of-type {\n",
       "        vertical-align: middle;\n",
       "    }\n",
       "\n",
       "    .dataframe tbody tr th {\n",
       "        vertical-align: top;\n",
       "    }\n",
       "\n",
       "    .dataframe thead th {\n",
       "        text-align: right;\n",
       "    }\n",
       "</style>\n",
       "<table border=\"1\" class=\"dataframe\">\n",
       "  <thead>\n",
       "    <tr style=\"text-align: right;\">\n",
       "      <th></th>\n",
       "      <th>Weight</th>\n",
       "    </tr>\n",
       "  </thead>\n",
       "  <tbody>\n",
       "    <tr>\n",
       "      <th>0</th>\n",
       "      <td>51.12</td>\n",
       "    </tr>\n",
       "    <tr>\n",
       "      <th>1</th>\n",
       "      <td>48.69</td>\n",
       "    </tr>\n",
       "    <tr>\n",
       "      <th>2</th>\n",
       "      <td>52.04</td>\n",
       "    </tr>\n",
       "    <tr>\n",
       "      <th>3</th>\n",
       "      <td>57.83</td>\n",
       "    </tr>\n",
       "    <tr>\n",
       "      <th>4</th>\n",
       "      <td>51.22</td>\n",
       "    </tr>\n",
       "  </tbody>\n",
       "</table>\n",
       "</div>"
      ],
      "text/plain": [
       "   Weight\n",
       "0   51.12\n",
       "1   48.69\n",
       "2   52.04\n",
       "3   57.83\n",
       "4   51.22"
      ]
     },
     "metadata": {},
     "output_type": "display_data"
    }
   ],
   "source": [
    "# Load the dataset\n",
    "data_df =  pd.read_csv('../data/manufacturing_weights.csv')\n",
    "\n",
    "# Display the first few rows of the dataset\n",
    "print(\"First few rows of the dataset:\")\n",
    "display(data_df.head())"
   ]
  },
  {
   "cell_type": "markdown",
   "metadata": {
    "id": "Bgs4x_FvMpEM"
   },
   "source": [
    "<div dir=\"rtl\">\n",
    "    <h2 align=right style=\"line-height:200%;font-family:vazir;color:#0099cc\">\n",
    "<font face=\"vazir\" color=\"#0099cc\">\n",
    "خلاصه آماری\n",
    "</font>\n",
    "</h2>\n",
    "</div>\n",
    "\n",
    "<div dir=\"rtl\">\n",
    "<p dir=rtl style=\"direction: rtl; text-align: justify; line-height:200%; font-family:vazir; font-size:medium\">\n",
    "<font face=\"vazir\" size=3>\n",
    "در این مرحله شما می‌بایست خلاصه اطلاعات آماری این مجموعه داده را از قبیل «میانگین»، «میانه»، و«مد» و ... با استفاده از متد <code>describe</code> را پیدا به دست آورید و در متغیر <code>summary_statistics</code> ذخیره کنید\n",
    "متغیر مورد نظر باید حاوی یک دیتافریم به مشابه جدول زیر باشد:\n",
    "</div>\n",
    "<div dir=\"center\">\n",
    "\n",
    "| | Weight|\n",
    "-----|-----|\n",
    "count | 1234|\n",
    "mean | 1234|\n",
    "mean | 1234|\n",
    "std\t| 1234|\n",
    "min\t| 1234|\n",
    "25%\t| 1234|\n",
    "50%\t| 1234|\n",
    "75%\t| 1234|\n",
    "max\t| 1234|\n",
    "\n",
    "</div>\n",
    "\n",
    "<div dir=\"rtl\">\n",
    "(این اعداد واقعی نیستند صرفا جهت مثال هستند.)\n",
    "</font>\n",
    "</p>\n"
   ]
  },
  {
   "cell_type": "code",
   "execution_count": 7,
   "metadata": {
    "colab": {
     "base_uri": "https://localhost:8080/",
     "height": 335
    },
    "id": "0i1fZ1XOM9zX",
    "outputId": "4ea6051b-92d1-40ab-eed1-8271c91660a9"
   },
   "outputs": [
    {
     "name": "stdout",
     "output_type": "stream",
     "text": [
      "\n",
      "Summary statistics of the dataset:\n"
     ]
    },
    {
     "data": {
      "text/html": [
       "<div>\n",
       "<style scoped>\n",
       "    .dataframe tbody tr th:only-of-type {\n",
       "        vertical-align: middle;\n",
       "    }\n",
       "\n",
       "    .dataframe tbody tr th {\n",
       "        vertical-align: top;\n",
       "    }\n",
       "\n",
       "    .dataframe thead th {\n",
       "        text-align: right;\n",
       "    }\n",
       "</style>\n",
       "<table border=\"1\" class=\"dataframe\">\n",
       "  <thead>\n",
       "    <tr style=\"text-align: right;\">\n",
       "      <th></th>\n",
       "      <th>Weight</th>\n",
       "    </tr>\n",
       "  </thead>\n",
       "  <tbody>\n",
       "    <tr>\n",
       "      <th>count</th>\n",
       "      <td>10000.000000</td>\n",
       "    </tr>\n",
       "    <tr>\n",
       "      <th>mean</th>\n",
       "      <td>50.011355</td>\n",
       "    </tr>\n",
       "    <tr>\n",
       "      <th>std</th>\n",
       "      <td>5.386041</td>\n",
       "    </tr>\n",
       "    <tr>\n",
       "      <th>min</th>\n",
       "      <td>28.030000</td>\n",
       "    </tr>\n",
       "    <tr>\n",
       "      <th>25%</th>\n",
       "      <td>46.380000</td>\n",
       "    </tr>\n",
       "    <tr>\n",
       "      <th>50%</th>\n",
       "      <td>50.000000</td>\n",
       "    </tr>\n",
       "    <tr>\n",
       "      <th>75%</th>\n",
       "      <td>53.610000</td>\n",
       "    </tr>\n",
       "    <tr>\n",
       "      <th>max</th>\n",
       "      <td>71.610000</td>\n",
       "    </tr>\n",
       "  </tbody>\n",
       "</table>\n",
       "</div>"
      ],
      "text/plain": [
       "             Weight\n",
       "count  10000.000000\n",
       "mean      50.011355\n",
       "std        5.386041\n",
       "min       28.030000\n",
       "25%       46.380000\n",
       "50%       50.000000\n",
       "75%       53.610000\n",
       "max       71.610000"
      ]
     },
     "metadata": {},
     "output_type": "display_data"
    }
   ],
   "source": [
    "# Summary statistics\n",
    "summary_statistics = data_df.describe()\n",
    "\n",
    "print(\"\\nSummary statistics of the dataset:\")\n",
    "display(summary_statistics)"
   ]
  },
  {
   "cell_type": "markdown",
   "metadata": {
    "id": "yTXouY7GQHHX"
   },
   "source": [
    "<div dir=\"rtl\">\n",
    "    <h2 align=right style=\"line-height:200%;font-family:vazir;color:#0099cc\">\n",
    "<font face=\"vazir\" color=\"#0099cc\">\n",
    "استخراج نمونه‌ها و محاسبه میانگین نمونه‌ها\n",
    "</font>\n",
    "</h2>\n",
    "</div>\n",
    "\n",
    "<div dir=\"rtl\">\n",
    "<p dir=rtl style=\"direction: rtl; text-align: justify; line-height:200%; font-family:vazir; font-size:medium\">\n",
    "<font face=\"vazir\" size=3>\n",
    "در این بخش، شما با روش‌های نمونه‌گیری آشنا خواهید شد و یاد خواهید گرفت که چگونه از جمعیت کل داده‌ها، نمونه‌هایی با اندازه‌های مختلف استخراج کنید. هدف اصلی این است که تأثیر اندازه نمونه بر نتایج آماری (مانند میانگین) را بررسی کنید و ببینید که آیا نمونه‌گیری منجر به بایاس می‌شود یا خیر.<br>\n",
    "    \n",
    "**مراحل کار:**<br>\n",
    "    \n",
    "1. **تعیین اندازه‌های نمونه:**\n",
    "   - در ابتدا، سه اندازه نمونه مختلف ($ n=30 $, $ n=50 $, $ n=100 $) تعیین می‌کنیم. این اندازه‌ها به ما کمک می‌کنند که تأثیر اندازه نمونه بر نتایج آماری را مقایسه کنیم.\n",
    "2. **استخراج نمونه‌ها:**\n",
    "   - با استفاده از متد `sample` در کتابخانه `pandas`، از ستون `Weight` داده‌ها نمونه‌هایی با اندازه‌های مشخص شده استخراج می‌کنیم.\n",
    "   - نمونه‌گیری به صورت تصادفی و بدون جایگذاری (`replace=False`) انجام می‌شود تا هر نمونه شامل داده‌های منحصر به فرد باشد.\n",
    "3. **محاسبه میانگین نمونه‌ها:**\n",
    "   - پس از استخراج نمونه‌ها، میانگین وزن قطعات در هر نمونه را محاسبه می‌کنیم.\n",
    "   - این میانگین‌ها به ما کمک می‌کنند که ببینیم آیا با افزایش اندازه نمونه، میانگین نمونه به میانگین جمعیت نزدیک‌تر می‌شود یا خیر.\n",
    "<br>\n",
    "<strong>نتیجه مورد انتظار:<strong><br>\n",
    "پس از اجرای این بخش، شما باید خروجی مشابه زیر را مشاهده کنید:\n",
    "</div>\n",
    "\n",
    "\n",
    "```\n",
    "Sample means for different sample sizes:\n",
    "Sample size 30: Mean = 49.87\n",
    "Sample size 50: Mean = 50.12\n",
    "Sample size 100: Mean = 50.03\n",
    "```\n",
    "\n",
    "<div dir=\"rtl\">\n",
    "(این اعداد واقعی نیستند و صرفاً جهت مثال هستند.)\n",
    "<br>\n",
    "<strong>نتیجه این مرحله:</strong><br>\n",
    "پس از اجرای این بخش، شما:<br>\n",
    "\n",
    "- نمونه‌هایی با اندازه‌های مختلف استخراج کرده‌اید.\n",
    "- میانگین وزن قطعات در هر نمونه را محاسبه کرده‌اید.\n",
    "- تأثیر اندازه نمونه بر نتایج آماری را بررسی کرده‌اید.<br>\n",
    "این اطلاعات به شما کمک می‌کند که در مراحل بعدی، مفاهیمی مانند قضیه حد مرکزی (CLT) و قانون اعداد بزرگ (LLN) را بهتر درک کنید.\n",
    "</font>\n",
    "</p>\n"
   ]
  },
  {
   "cell_type": "code",
   "execution_count": 32,
   "metadata": {
    "colab": {
     "base_uri": "https://localhost:8080/"
    },
    "id": "_wndUt4wHNMp",
    "outputId": "2a733034-3181-47ab-da5a-d58bf388b6dc"
   },
   "outputs": [
    {
     "name": "stdout",
     "output_type": "stream",
     "text": [
      "Sample means for different sample sizes:\n",
      "Sample size 30: Mean = 50.82\n",
      "Sample size 50: Mean = 50.80\n",
      "Sample size 100: Mean = 50.57\n"
     ]
    }
   ],
   "source": [
    "# Define sample sizes\n",
    "sample_sizes = [30, 50, 100]\n",
    "\n",
    "# Extract samples\n",
    "samples = {}\n",
    "for n in sample_sizes:\n",
    "    samples[n] = data_df['Weight'].sample(n, replace=False, random_state=42)\n",
    "\n",
    "# Saving the Sampling Means with \"sample_30_mean\", \"sample_50_mean\", \"sample_100_mean\" keys\n",
    "sample_means_sampling = {}\n",
    "\n",
    "# Display sample means\n",
    "print(\"Sample means for different sample sizes:\")\n",
    "\n",
    "for n, sample in samples.items():\n",
    "    sample_means_sampling[f\"sample_{n}_mean\"] = np.mean(sample)\n",
    "    print(f\"Sample size {n}: Mean = {np.mean(sample):.2f}\")"
   ]
  },
  {
   "cell_type": "code",
   "execution_count": 33,
   "metadata": {},
   "outputs": [
    {
     "data": {
      "text/plain": [
       "{'sample_30_mean': np.float64(50.82366666666667),\n",
       " 'sample_50_mean': np.float64(50.801),\n",
       " 'sample_100_mean': np.float64(50.57339999999999)}"
      ]
     },
     "execution_count": 33,
     "metadata": {},
     "output_type": "execute_result"
    }
   ],
   "source": [
    "sample_means_sampling"
   ]
  },
  {
   "cell_type": "markdown",
   "metadata": {
    "id": "OalyRq9cYuTx"
   },
   "source": [
    "<div dir=\"rtl\">\n",
    "    <h2 align=right style=\"line-height:200%;font-family:vazir;color:#0099cc\">\n",
    "<font face=\"vazir\" color=\"#0099cc\">\n",
    "بررسی قضیه حد مرکزی (CLT) با استفاده از توزیع میانگین نمونه‌ها\n",
    "</font>\n",
    "</h2>\n",
    "</div>\n",
    "\n",
    "<div dir=\"rtl\">\n",
    "<p dir=rtl style=\"direction: rtl; text-align: justify; line-height:200%; font-family:vazir; font-size:medium\">\n",
    "<font face=\"vazir\" size=3>\n",
    "در این بخش، شما با یکی از مهم‌ترین مفاهیم آماری، <strong>قضیه حد مرکزی (Central Limit Theorem - CLT)</strong>، آشنا خواهید شد. هدف اصلی این است که ببینید چگونه توزیع میانگین نمونه‌ها به یک توزیع نرمال نزدیک می‌شود، حتی اگر توزیع جمعیت اولیه نرمال نباشد. این مفهوم در تحلیل‌های آماری و استنباط‌های مبتنی بر نمونه بسیار مهم است.<br>\n",
    "<strong>مراحل کار:</strong>\n",
    "\n",
    "1. **تولید نمونه‌ها:**\n",
    "   - ابتدا باید تعداد $ 1000 $ نمونه از داده‌ها استخراج کنید. هر نمونه شامل $ 30 $ داده است.\n",
    "   - برای استخراج نمونه‌ها، از ستون <code>Weight</code> داده‌ها استفاده کنید و نمونه‌گیری را به صورت تصادفی و بدون جایگذاری (<code>replace=False</code>) انجام دهید.\n",
    "   - برای این کار، می‌توانید از متد <code>sample</code> در کتابخانه <code>pandas</code> استفاده کنید.\n",
    "\n",
    "2. **محاسبه میانگین نمونه‌ها:**\n",
    "   - برای هر نمونه، میانگین وزن قطعات را محاسبه کنید.\n",
    "   - این میانگین‌ها را در یک لیست ذخیره کنید. این لیست نشان‌دهنده توزیع میانگین نمونه‌ها است.\n",
    "\n",
    "3. **رسم توزیع میانگین نمونه‌ها:**\n",
    "   - پس از محاسبه میانگین نمونه‌ها، توزیع آن‌ها را با استفاده از یک هیستوگرام رسم کنید.\n",
    "   - برای نمایش دقیق‌تر، منحنی چگالی احتمال (KDE) را نیز روی هیستوگرام اضافه کنید.\n",
    "   - برای رسم نمودار، می‌توانید از کتابخانه‌های <code>matplotlib</code> و <code>seaborn</code> استفاده کنید.\n",
    "\n",
    "4. **بررسی نتایج:**\n",
    "   - نمودار رسم شده را بررسی کنید و ببینید که آیا توزیع میانگین نمونه‌ها به یک توزیع نرمال نزدیک می‌شود یا خیر.\n",
    "   - این نتیجه مستقیماً ناشی از قضیه حد مرکزی است.\n",
    "\n",
    "<details class=\"green\">\n",
    "<summary>\n",
    "راهنمایی برای پیاده‌سازی\n",
    "</summary>\n",
    "\n",
    "\n",
    "1. **تعریف متغیرها:**\n",
    "   - ابتدا دو متغیر تعریف کنید:\n",
    "     - `num_samples`: تعداد نمونه‌ها که برابر با $ 1000 $ است.\n",
    "     - `sample_size`: اندازه هر نمونه که برابر با $ 30 $ است.\n",
    "\n",
    "2. **استخراج نمونه‌ها و محاسبه میانگین:**\n",
    "   - یک حلقه `for` بنویسید که $ 1000 $ بار تکرار شود.\n",
    "   - در هر تکرار، یک نمونه از داده‌ها استخراج کنید و میانگین آن را محاسبه کنید.\n",
    "   - میانگین‌های محاسبه شده را در یک لیست ذخیره کنید.\n",
    "\n",
    "3. **رسم نمودار:**\n",
    "   - از تابع <code>sns.histplot<code> برای رسم هیستوگرام استفاده کنید.\n",
    "   - پارامتر <code>kde=True</code> را تنظیم کنید تا منحنی چگالی احتمال نیز نمایش داده شود.\n",
    "   - عنوان نمودار را به صورت \"توزیع میانگین نمونه‌ها (قضیه حد مرکزی)\" تنظیم کنید.\n",
    "   - محور افقی را به عنوان \"میانگین نمونه\" و محور عمودی را به عنوان \"فرکانس\" برچسب‌گذاری کنید.\n",
    "\n",
    "</details>\n",
    "\n",
    "**نتیجه مورد انتظار:**\n",
    "\n",
    "پس از اجرای کد، شما باید یک نمودار مشابه زیر را مشاهده کنید:\n",
    "\n",
    "![تصویر نمودار](picture//CLT%20plot%20example.png?text=Distribution+of+Sample+Means)\n",
    "\n",
    "(این تصویر صرفاً جهت مثال است و نمودار واقعی ممکن است متفاوت باشد.)\n",
    "\n",
    "- نمودار نشان می‌دهد که توزیع میانگین نمونه‌ها به یک توزیع نرمال نزدیک می‌شود.\n",
    "- این نتیجه مستقیماً ناشی از قضیه حد مرکزی است.\n",
    "\n",
    "\n",
    "</font>\n",
    "</p>\n",
    "\n",
    "\n"
   ]
  },
  {
   "cell_type": "code",
   "execution_count": 51,
   "metadata": {
    "colab": {
     "base_uri": "https://localhost:8080/",
     "height": 564
    },
    "id": "G74aisuuHeo0",
    "outputId": "74c79e71-c266-44e0-b1f5-83f6cde89f5e"
   },
   "outputs": [
    {
     "data": {
      "image/png": "[encoded data removed]",
      "text/plain": [
       "<Figure size 800x600 with 1 Axes>"
      ]
     },
     "metadata": {},
     "output_type": "display_data"
    }
   ],
   "source": [
    "# Number of samples to generate\n",
    "num_samples = 1000\n",
    "sample_size = 30\n",
    "\n",
    "# Generate sample means and save them into sample_means\n",
    "sample_means = []\n",
    "for _ in range(num_samples):\n",
    "    sample = data_df['Weight'].sample(sample_size, replace=False)\n",
    "    sample_means.append(sample.mean())\n",
    "\n",
    "# Plot the distribution of sample means\n",
    "plt.figure(figsize=(8, 6))\n",
    "sns.histplot(sample_means, kde=True, bins=30, color='blue')\n",
    "plt.title(\"Distribution of Sample Means (Central Limit Theorem)\")\n",
    "plt.xlabel(\"Sample Mean\")\n",
    "plt.ylabel(\"Frequency\")\n",
    "plt.show()"
   ]
  },
  {
   "cell_type": "markdown",
   "metadata": {
    "id": "nOVON1lKa3FY"
   },
   "source": [
    "<div dir=\"rtl\">\n",
    "    <h2 align=right style=\"line-height:200%;font-family:vazir;color:#0099cc\">\n",
    "<font face=\"vazir\" color=\"#0099cc\">\n",
    "محاسبه فاصله اطمینان با استفاده از روش بوت‌استرپ\n",
    "</font>\n",
    "</h2>\n",
    "</div>\n",
    "\n",
    "<div dir=\"rtl\">\n",
    "<p dir=rtl style=\"direction: rtl; text-align: justify; line-height:200%; font-family:vazir; font-size:medium\">\n",
    "<font face=\"vazir\" size=3>\n",
    "\n",
    "\n",
    "در این بخش، شما با یکی از روش‌های قدرتمند در آمار، <strong>بوت‌استرپ (Bootstrap)</strong>، آشنا خواهید شد. هدف اصلی این است که یاد بگیرید چگونه می‌توانید فاصله اطمینان برای پارامترهای جمعیت (مانند میانگین) را با استفاده از نمونه‌های تصادفی محاسبه کنید. این روش به ویژه زمانی کاربردی است که توزیع داده‌ها ناشناخته یا غیرنرمال باشد.\n",
    "\n",
    "\n",
    "**مراحل کار:**\n",
    "\n",
    "1. **تعریف پارامترهای بوت‌استرپ:**\n",
    "   - ابتدا تعداد نمونه‌های بوت‌استرپ ($ 1000 $) و اندازه هر نمونه ($ 30 $) را تعیین کنید.\n",
    "   - در روش بوت‌استرپ، نمونه‌گیری به صورت تصادفی و با جایگذاری (`replace=True`) انجام می‌شود. این بدان معناست که یک داده می‌تواند چندین بار در یک نمونه ظاهر شود.\n",
    "\n",
    "2. **اجرای بوت‌استرپ:**\n",
    "   - $ 1000 $ نمونه از داده‌ها استخراج کنید. هر نمونه شامل $ 30 $ داده است.\n",
    "   - برای هر نمونه، میانگین وزن قطعات را محاسبه کنید و آن را در یک لیست ذخیره کنید. این لیست نشان‌دهنده توزیع میانگین نمونه‌ها در روش بوت‌استرپ است.\n",
    "\n",
    "3. **محاسبه فاصله اطمینان:**\n",
    "   - پس از محاسبه میانگین نمونه‌ها، فاصله اطمینان $ 95\\% $ را با استفاده از چندک‌های $ 2.5\\% $ و $ 97.5\\% $ محاسبه کنید.\n",
    "   - این فاصله اطمینان نشان‌دهنده بازه‌ای است که با احتمال $ 95\\% $، میانگین واقعی جمعیت در آن قرار دارد.\n",
    "\n",
    "4. **نمایش نتایج:**\n",
    "   - فاصله اطمینان محاسبه شده را چاپ کنید و آن را تفسیر کنید.\n",
    "\n",
    "<details class=\"green\">\n",
    "<summary>\n",
    "راهنمایی برای پیاده‌سازی\n",
    "</summary>\n",
    "\n",
    "1. **تعریف متغیرها:**\n",
    "   - ابتدا دو متغیر تعریف کنید:\n",
    "     - <code>bootstrap_samples</code>: تعداد نمونه‌های بوت‌استرپ که برابر با $ 1000 $ است.\n",
    "     - <code>sample_size</code>: اندازه هر نمونه که برابر با $ 30 $ است.\n",
    "\n",
    "2. **اجرای بوت‌استرپ:**\n",
    "   - یک حلقه <code>for</code> بنویسید که $ 1000 $ بار تکرار شود.\n",
    "   - در هر تکرار، یک نمونه از داده‌ها استخراج کنید. برای این کار، از تابع <code>np.random.choice</code> استفاده کنید و پارامتر <code>replace=True</code> را تنظیم کنید.\n",
    "   - میانگین هر نمونه را محاسبه کنید و آن را در یک لیست ذخیره کنید.\n",
    "\n",
    "3. **محاسبه فاصله اطمینان:**\n",
    "   - از تابع <code>np.percentile</code> برای محاسبه چندک‌های $ 2.5\\% $ و $ 97.5\\% $ استفاده کنید.\n",
    "   - این مقادیر نشان‌دهنده حدود فاصله اطمینان $ 95\\% $ هستند.\n",
    "\n",
    "4. **نمایش نتایج:**\n",
    "   - فاصله اطمینان را با استفاده از دستور <code>print</code> چاپ کنید.\n",
    "\n",
    "</details>\n",
    "\n",
    "\n",
    "**نتیجه مورد انتظار:**\n",
    "\n",
    "پس از اجرای کد، شما باید یک خروجی مشابه زیر را مشاهده کنید:\n",
    "\n",
    "</div>\n",
    "\n",
    "```\n",
    "95% Confidence Interval for the mean weight: [48.12, 51.34]\n",
    "```\n",
    "\n",
    "<div dir=\"rtl\">\n",
    "\n",
    "\n",
    "(این اعداد صرفاً جهت مثال هستند و مقادیر واقعی ممکن است متفاوت باشند.)\n",
    "\n",
    "- این فاصله اطمینان نشان می‌دهد که با احتمال $ 95\\% $، میانگین واقعی وزن قطعات در این بازه قرار دارد.\n",
    "\n",
    "\n",
    "</font>\n",
    "</p>\n",
    "\n"
   ]
  },
  {
   "cell_type": "code",
   "execution_count": 56,
   "metadata": {
    "colab": {
     "base_uri": "https://localhost:8080/"
    },
    "id": "TDh5xNoXHoCB",
    "outputId": "78f8cd98-adfd-46d1-ab8f-5c26c942ea48"
   },
   "outputs": [
    {
     "name": "stdout",
     "output_type": "stream",
     "text": [
      "95% Confidence Interval for the mean weight: [48.15, 51.76]\n"
     ]
    }
   ],
   "source": [
    "# Bootstrap parameters\n",
    "bootstrap_samples = 1000\n",
    "sample_size = 30\n",
    "\n",
    "# Perform bootstrap\n",
    "bootstrap_means = []\n",
    "for _ in range(bootstrap_samples):\n",
    "    sample = data_df['Weight'].sample(sample_size, replace=True)\n",
    "    bootstrap_means.append(sample.mean())\n",
    "\n",
    "# Calculate confidence interval\n",
    "a = np.percentile(bootstrap_means, 2.5)\n",
    "b = np.percentile(bootstrap_means, 97.5)\n",
    "bootstrap_CI  =  (a,b)\n",
    "\n",
    "# Display results\n",
    "print(f\"95% Confidence Interval for the mean weight: [{a:.2f}, {b:.2f}]\")"
   ]
  },
  {
   "cell_type": "markdown",
   "metadata": {
    "id": "o1YmO88TfYKP"
   },
   "source": [
    "<div dir=\"rtl\">\n",
    "    <h2 align=right style=\"line-height:200%;font-family:vazir;color:#0099cc\">\n",
    "<font face=\"vazir\" color=\"#0099cc\">\n",
    "بررسی قانون اعداد بزرگ (LLN) با استفاده از همگرایی میانگین نمونه‌ها\n",
    "</font>\n",
    "</h2>\n",
    "</div>\n",
    "\n",
    "<div dir=\"rtl\">\n",
    "<p dir=rtl style=\"direction: rtl; text-align: justify; line-height:200%; font-family:vazir; font-size:medium\">\n",
    "<font face=\"vazir\" size=3>\n",
    "\n",
    "\n",
    "\n",
    "در این بخش، شما با یکی از بنیادی‌ترین مفاهیم آماری، <strong>قانون اعداد بزرگ (Law of Large Numbers - LLN)</strong>، آشنا خواهید شد. هدف اصلی این است که ببینید چگونه با افزایش اندازه نمونه، میانگین نمونه به میانگین واقعی جمعیت نزدیک‌تر می‌شود. این قانون پایه‌ای در تحلیل‌های آماری است و به ما کمک می‌کند که دقت نتایج را با افزایش حجم داده‌ها ارزیابی کنیم.\n",
    "\n",
    "**مراحل کار:**\n",
    "\n",
    "1. **تعیین اندازه‌های نمونه:**\n",
    "   - ابتدا چند اندازه نمونه مختلف تعیین کنید. برای این مثال، اندازه‌های نمونه شامل $ 10, 50, 100, 500, 1000 $ هستند.\n",
    "   - این اندازه‌ها به ما کمک می‌کنند که تأثیر افزایش حجم نمونه بر میانگین نمونه را بررسی کنیم.\n",
    "\n",
    "2. **استخراج نمونه‌ها و محاسبه میانگین:**\n",
    "   - برای هر اندازه نمونه، یک نمونه از داده‌ها استخراج کنید و میانگین وزن قطعات را محاسبه کنید.\n",
    "   - این میانگین‌ها را در یک لیست ذخیره کنید. این لیست نشان‌دهنده میانگین نمونه‌ها برای اندازه‌های مختلف است.\n",
    "\n",
    "3. **رسم نمودار:**\n",
    "   - پس از محاسبه میانگین نمونه‌ها، یک نمودار خطی رسم کنید که نشان دهد میانگین نمونه‌ها چگونه با افزایش اندازه نمونه به میانگین واقعی جمعیت نزدیک می‌شوند.\n",
    "   - برای مقایسه، میانگین واقعی جمعیت را به صورت یک خط افقی قرمز (<code>axhline</code>) روی نمودار نمایش دهید.\n",
    "\n",
    "4. **بررسی نتایج:**\n",
    "   - نمودار رسم شده را بررسی کنید و ببینید که آیا میانگین نمونه‌ها با افزایش اندازه نمونه به میانگین واقعی جمعیت نزدیک می‌شود یا خیر.\n",
    "   - این نتیجه مستقیماً ناشی از قانون اعداد بزرگ است.\n",
    "\n",
    "<details class=\"green\">\n",
    "<summary>\n",
    "راهنمایی برای پیاده‌سازی\n",
    "</summary>\n",
    "\n",
    "1. **تعریف اندازه‌های نمونه:**\n",
    "   - یک لیست شامل اندازه‌های نمونه ($ 10, 50, 100, 500, 1000 $) تعریف کنید.\n",
    "\n",
    "2. **استخراج نمونه‌ها و محاسبه میانگین:**\n",
    "   - یک حلقه <code>for</code> بنویسید که برای هر اندازه نمونه، یک نمونه از داده‌ها استخراج کند.\n",
    "   - برای استخراج نمونه‌ها، از ستون <code>Weight</code> داده‌ها استفاده کنید و نمونه‌گیری را به صورت تصادفی و بدون جایگذاری (<code>replace=False</code>) انجام دهید.\n",
    "   - میانگین هر نمونه را محاسبه کنید و آن را در یک لیست ذخیره کنید.\n",
    "\n",
    "3. **رسم نمودار:**\n",
    "   - از تابع <code>plt.plot</code> برای رسم میانگین نمونه‌ها استفاده کنید.\n",
    "   - برای نمایش میانگین واقعی جمعیت، از تابع <code>plt.axhline</code> استفاده کنید و یک خط افقی قرمز رسم کنید.\n",
    "   - عنوان نمودار را به صورت «قانون اعداد بزرگ» تنظیم کنید.\n",
    "   - محور افقی را به عنوان «اندازه نمونه» و محور عمودی را به عنوان «میانگین نمونه» برچسب‌گذاری کنید.\n",
    "   - از تابع <code>plt.legend</code> برای اضافه کردن راهنما به نمودار استفاده کنید.\n",
    "\n",
    "4. **نمایش نتایج:**\n",
    "   - نمودار را با استفاده از دستور <code>plt.show()</code> نمایش دهید.\n",
    "\n",
    "</details>\n",
    "\n",
    "**نتیجه مورد انتظار:**\n",
    "\n",
    "پس از اجرای کد، شما باید یک نمودار مشابه زیر را مشاهده کنید:\n",
    "\n",
    "![تصویر نمودار](picture//Law%20of%20Large%20number%20plot%20example%20practice.png?text=Law+of+Large+Numbers)\n",
    "\n",
    "(این تصویر صرفاً جهت مثال است و نمودار واقعی ممکن است متفاوت باشد.)\n",
    "\n",
    "- نمودار نشان می‌دهد که با افزایش اندازه نمونه، میانگین نمونه‌ها به میانگین واقعی جمعیت (خط قرمز) نزدیک‌تر می‌شود.\n",
    "- این نتیجه مستقیماً ناشی از قانون اعداد بزرگ است.\n",
    "</font>\n",
    "</p>"
   ]
  },
  {
   "cell_type": "code",
   "execution_count": 58,
   "metadata": {
    "colab": {
     "base_uri": "https://localhost:8080/",
     "height": 564
    },
    "id": "5-k7CenkHvFN",
    "outputId": "6afdfdf3-1591-4b47-98d7-5349e905f90c"
   },
   "outputs": [
    {
     "data": {
      "image/png": "[encoded data removed]",
      "text/plain": [
       "<Figure size 800x600 with 1 Axes>"
      ]
     },
     "metadata": {},
     "output_type": "display_data"
    }
   ],
   "source": [
    "# Law of Large Numbers\n",
    "sample_sizes = [10, 50, 100, 500, 1000]\n",
    "sample_means = []\n",
    "\n",
    "# Random Sampling and add mean of them to sample_means list\n",
    "for n in sample_sizes:\n",
    "    sample = data_df['Weight'].sample(n, replace = False)\n",
    "    sample_means.append(sample.mean())\n",
    "\n",
    "\n",
    "\n",
    "# Plot the convergence of sample means to population mean\n",
    "plt.figure(figsize=(8, 6))\n",
    "plt.plot(sample_sizes, sample_means, marker='o', label=\"Sample Mean\")\n",
    "plt.axhline(y=data_df['Weight'].mean(), color='red', linestyle='--', label=\"Population Mean\")\n",
    "plt.title(\"Law of Large Numbers\")\n",
    "plt.xlabel(\"Sample Size\")\n",
    "plt.ylabel(\"Sample Mean\")\n",
    "plt.legend()\n",
    "plt.show()"
   ]
  },
  {
   "cell_type": "markdown",
   "metadata": {
    "id": "wcOfOZ5Eg3bR"
   },
   "source": [
    "<div dir=\"rtl\">\n",
    "    <h2 align=right style=\"line-height:200%;font-family:vazir;color:#0099cc\">\n",
    "<font face=\"vazir\" color=\"#0099cc\">\n",
    "محاسبه برآورد نقطه‌ای و فاصله اطمینان با استفاده از توزیع t-Student\n",
    "</font>\n",
    "</h2>\n",
    "</div>\n",
    "\n",
    "<div dir=\"rtl\">\n",
    "<p dir=rtl style=\"direction: rtl; text-align: justify; line-height:200%; font-family:vazir; font-size:medium\">\n",
    "<font face=\"vazir\" size=3>\n",
    "در این بخش، شما با دو مفهوم کلیدی در آمار آشنا خواهید شد: <strong>برآورد نقطه‌ای</strong> و <strong>برآورد فاصله‌ای</strong>. هدف اصلی این است که یاد بگیرید چگونه می‌توانید میانگین جمعیت را با استفاده از نمونه‌ها تخمین بزنید و یک بازه اطمینان برای آن محاسبه کنید. این مفاهیم در تحلیل‌های آماری و تصمیم‌گیری‌های مبتنی بر داده بسیار مهم هستند.<br>\n",
    "<strong>مراحل کار:</strong>\n",
    "\n",
    "1. **برآورد نقطه‌ای (Point Estimate):**\n",
    "   - برآورد نقطه‌ای به معنای استفاده از یک مقدار واحد (مانند میانگین نمونه) برای تخمین پارامتر جمعیت است.\n",
    "   - در اینجا، میانگین نمونه را به عنوان برآورد نقطه‌ای برای میانگین جمعیت محاسبه می‌کنیم.\n",
    "\n",
    "2. **محاسبه خطای استاندارد (Standard Error):**\n",
    "   - خطای استاندارد نشان‌دهنده عدم قطعیت در تخمین میانگین است.\n",
    "   - برای محاسبه خطای استاندارد، از انحراف معیار نمونه ($ s $) و اندازه نمونه ($ n $) استفاده می‌کنیم.\n",
    "\n",
    "3. **محاسبه حاشیه خطا (Margin of Error):**\n",
    "   - حاشیه خطا نشان‌دهنده محدوده‌ای است که میانگین واقعی جمعیت با احتمال مشخصی در آن قرار دارد.\n",
    "   - برای محاسبه حاشیه خطا، از توزیع t-Student استفاده می‌کنیم. این توزیع به ویژه زمانی کاربردی است که اندازه نمونه کوچک باشد و واریانس جمعیت ناشناخته باشد.\n",
    "\n",
    "4. **محاسبه فاصله اطمینان (Confidence Interval):**\n",
    "   - فاصله اطمینان با استفاده از میانگین نمونه و حاشیه خطا محاسبه می‌شود.\n",
    "   - این بازه نشان‌دهنده محدوده‌ای است که با احتمال مشخصی (مانند $ 95\\% $)، میانگین واقعی جمعیت در آن قرار دارد.\n",
    "\n",
    "5. **نمایش نتایج:**\n",
    "   - برآورد نقطه‌ای و فاصله اطمینان را چاپ کنید و آن‌ها را تفسیر کنید.\n",
    "\n",
    "<details class=\"green\">\n",
    "<summary>\n",
    "راهنمایی برای پیاده‌سازی\n",
    "</summary>\n",
    "\n",
    "1. **برآورد نقطه‌ای:**\n",
    "   - میانگین نمونه را با استفاده از تابع <code>np.mean</code> محاسبه کنید.\n",
    "   - این مقدار به عنوان برآورد نقطه‌ای برای میانگین جمعیت در نظر گرفته می‌شود.\n",
    "\n",
    "2. **محاسبه خطای استاندارد:**\n",
    "   - انحراف معیار نمونه را با استفاده از تابع <code>np.std</code> محاسبه کنید. پارامتر <code>ddof=1<code> را تنظیم کنید تا انحراف معیار نمونه (نه جمعیت) محاسبه شود.\n",
    "   - خطای استاندارد را با تقسیم انحراف معیار نمونه بر ریشه دوم اندازه نمونه محاسبه کنید.\n",
    "\n",
    "3. **محاسبه حاشیه خطا:**\n",
    "   - از تابع <code>t.ppf</code> در کتابخانه <code>scipy.stats</code> برای محاسبه مقدار بحرانی توزیع t-Student استفاده کنید.\n",
    "   - درجه آزادی (<code>df</code>) برابر با $ n-1 $ است، که $ n $ اندازه نمونه است.\n",
    "   - حاشیه خطا را با ضرب مقدار بحرانی در خطای استاندارد محاسبه کنید.\n",
    "\n",
    "4. **محاسبه فاصله اطمینان:**\n",
    "   - فاصله اطمینان را با استفاده از فرمول زیر محاسبه کنید:\n",
    "     $$\n",
    "     \\text{Confidence Interval} = (\\text{Sample Mean} - \\text{Margin of Error}, \\text{Sample Mean} + \\text{Margin of Error})\n",
    "     $$\n",
    "\n",
    "5. **نمایش نتایج:**\n",
    "   - برآورد نقطه‌ای و فاصله اطمینان را با استفاده از دستور <code>print</code> چاپ کنید.\n",
    "   - متن چاپ شده باید مشابه زیر باشد:\n",
    "     ```\n",
    "     Point Estimate (Sample Mean): 49.87\n",
    "     95% Confidence Interval: (48.12, 51.34)\n",
    "     ```\n",
    "</details>\n",
    "\n",
    "<strong>نتیجه مورد انتظار:</strong><br>\n",
    "پس از اجرای کد، شما باید یک خروجی مشابه زیر را مشاهده کنید:\n",
    "</div>\n",
    "\n",
    "```\n",
    "Point Estimate (Sample Mean): 49.87\n",
    "95% Confidence Interval: (48.12, 51.34)\n",
    "```\n",
    "\n",
    "<div dir=\"rtl\">\n",
    "\n",
    "(این اعداد صرفاً جهت مثال هستند و مقادیر واقعی ممکن است متفاوت باشند.)\n",
    "\n",
    "- برآورد نقطه‌ای نشان‌دهنده تخمین میانگین جمعیت است.\n",
    "- فاصله اطمینان نشان می‌دهد که با احتمال $ 95\\% $، میانگین واقعی جمعیت در این بازه قرار دارد.\n",
    "\n",
    "</div>\n",
    "</font>\n",
    "</p>"
   ]
  },
  {
   "cell_type": "code",
   "execution_count": 60,
   "metadata": {
    "colab": {
     "base_uri": "https://localhost:8080/"
    },
    "id": "LJ3ip7jKH1Xn",
    "outputId": "10397612-af50-4ae8-8db8-c98df92e2ae2"
   },
   "outputs": [
    {
     "name": "stdout",
     "output_type": "stream",
     "text": [
      "Point Estimate (Sample Mean): 50.82\n",
      "95% Confidence Interval: (np.float64(48.876839667306115), np.float64(52.77049366602722))\n"
     ]
    }
   ],
   "source": [
    "from scipy.stats import t\n",
    "\n",
    "# Point estimate (sample mean)\n",
    "sample_mean = np.mean(samples[30])\n",
    "\n",
    "# Standard error\n",
    "std_error = np.std(samples[30], ddof=1) / np.sqrt(30)\n",
    "\n",
    "# Margin of error\n",
    "margin_of_error = t.ppf(0.975, df=29) * std_error\n",
    "\n",
    "# Confidence interval\n",
    "confidence_interval = (sample_mean - margin_of_error, sample_mean + margin_of_error)\n",
    "\n",
    "# Display results\n",
    "print(f\"Point Estimate (Sample Mean): {sample_mean:.2f}\")\n",
    "print(f\"95% Confidence Interval: {confidence_interval}\")"
   ]
  },
  {
   "cell_type": "markdown",
   "metadata": {
    "id": "hr9QbqFbiVAF"
   },
   "source": [
    "<div dir=\"rtl\">\n",
    "    <h2 align=right style=\"line-height:200%;font-family:vazir;color:#0099cc\">\n",
    "<font face=\"vazir\" color=\"#0099cc\">\n",
    "بررسی بایاس نمونه‌گیری و مقایسه میانگین نمونه‌ها با میانگین جمعیت\n",
    "</font>\n",
    "</h2>\n",
    "</div>\n",
    "\n",
    "<div dir=\"rtl\">\n",
    "<p dir=rtl style=\"direction: rtl; text-align: justify; line-height:200%; font-family:vazir; font-size:medium\">\n",
    "<font face=\"vazir\" size=3>\n",
    "\n",
    "\n",
    "در این بخش، شما با مفهوم **بایاس نمونه‌گیری (Sampling Bias)** آشنا خواهید شد. هدف اصلی این است که یاد بگیرید چگونه می‌توانید بررسی کنید که آیا نمونه‌گیری منجر به بایاس (خطای سیستماتیک) در تخمین پارامترهای جمعیت می‌شود یا خیر. این مفهوم در تحلیل داده‌ها بسیار مهم است، زیرا بایاس می‌تواند منجر به نتایج غلط و تصمیم‌گیری‌های نادرست شود.\n",
    "\n",
    "\n",
    "\n",
    "**مراحل کار:**\n",
    "\n",
    "1. **محاسبه میانگین جمعیت:**\n",
    "   - ابتدا میانگین وزن قطعات در کل جمعیت را محاسبه کنید. این مقدار به عنوان مرجع برای مقایسه استفاده می‌شود.\n",
    "\n",
    "2. **محاسبه میانگین نمونه‌ها:**\n",
    "   - برای هر نمونه استخراج شده در مراحل قبل، میانگین وزن قطعات را محاسبه کنید.\n",
    "   - این میانگین‌ها نشان‌دهنده تخمین‌های مختلف برای میانگین جمعیت هستند.\n",
    "\n",
    "3. **محاسبه بایاس:**\n",
    "   - برای هر نمونه، اختلاف بین میانگین نمونه و میانگین جمعیت را محاسبه کنید. این اختلاف نشان‌دهنده میزان بایاس است.\n",
    "   - برای سادگی، از قدر مطلق اختلاف استفاده کنید تا میزان انحراف بدون در نظر گرفتن جهت مشخص شود.\n",
    "\n",
    "4. **نمایش نتایج:**\n",
    "   - بایاس محاسبه شده برای هر نمونه را چاپ کنید و آن را تفسیر کنید.\n",
    "\n",
    "<details class=\"green\">\n",
    "<summary>\n",
    "راهنمایی برای پیاده‌سازی\n",
    "</summary>\n",
    "\n",
    "1. **محاسبه میانگین جمعیت:**\n",
    "   - از ستون `Weight` داده‌ها استفاده کنید و میانگین جمعیت را با استفاده از تابع `mean` محاسبه کنید.\n",
    "   - این مقدار را در متغیر `population_mean` ذخیره کنید.\n",
    "\n",
    "2. **محاسبه میانگین نمونه‌ها:**\n",
    "   - از لیست یا دیکشنری نمونه‌های استخراج شده در مراحل قبل استفاده کنید.\n",
    "   - برای هر نمونه، میانگین وزن قطعات را با استفاده از تابع `np.mean` محاسبه کنید.\n",
    "   - این میانگین‌ها را در یک لیست ذخیره کنید.\n",
    "\n",
    "3. **محاسبه بایاس:**\n",
    "   - برای هر نمونه، اختلاف بین میانگین نمونه و میانگین جمعیت را محاسبه کنید.\n",
    "   - برای محاسبه قدر مطلق اختلاف، از تابع `abs` استفاده کنید.\n",
    "   - نتایج را در یک دیکشنری ذخیره کنید که کلیدها اندازه نمونه‌ها و مقادیر آن‌ها میزان بایاس هستند.\n",
    "\n",
    "\n",
    "</details>\n",
    "\n",
    "**نتیجه مورد انتظار:**\n",
    "\n",
    "پس از اجرای کد، شما باید یک خروجی مشابه زیر را مشاهده کنید:\n",
    "\n",
    "</font>\n",
    "</p>\n",
    "\n",
    "<div dir=\"ltr\">\n",
    "\n",
    "```\n",
    "Bias in sample means compared to population mean:\n",
    "Sample size 30: Bias = 0.12\n",
    "Sample size 50: Bias = 0.08\n",
    "Sample size 100: Bias = 0.03\n",
    "```\n",
    "\n",
    "</div>\n",
    "\n",
    "<div dir=\"rtl\">\n",
    "<p dir=rtl style=\"direction: rtl; text-align: justify; line-height:200%; font-family:vazir; font-size:medium\">\n",
    "<font face=\"vazir\" size=3>\n",
    "\n",
    "(این اعداد صرفاً جهت مثال هستند و مقادیر واقعی ممکن است متفاوت باشند.)\n",
    "\n",
    "- این نتایج نشان می‌دهند که با افزایش اندازه نمونه، میزان بایاس کاهش می‌یابد.\n",
    "- اگر بایاس برای تمام نمونه‌ها نزدیک به صفر باشد، می‌توان نتیجه گرفت که نمونه‌گیری بدون بایاس انجام شده است.\n",
    "\n",
    "</font>\n",
    "</p>"
   ]
  },
  {
   "cell_type": "code",
   "execution_count": 73,
   "metadata": {
    "colab": {
     "base_uri": "https://localhost:8080/"
    },
    "id": "RZ2RjkZDH6iB",
    "outputId": "1e5530c3-3f59-40d9-a1b4-60952ec5e583"
   },
   "outputs": [
    {
     "name": "stdout",
     "output_type": "stream",
     "text": [
      "Bias in sample means compared to population mean:\n",
      "Sample size 30: Bias = 0.81\n",
      "Sample size 50: Bias = 0.79\n",
      "Sample size 100: Bias = 0.56\n"
     ]
    }
   ],
   "source": [
    "# Calculate means of all data\n",
    "population_mean = data_df['Weight'].mean()\n",
    "\n",
    "# Use the keys available in the samples dictionary [30, 50, 100] for calculating the samples in samples dictionary\n",
    "bias_results = dict()\n",
    "for i in samples:\n",
    "    \n",
    "    mean = samples[i].mean()\n",
    "    bias = abs( population_mean - mean )\n",
    "    bias_results[i] = bias\n",
    "    \n",
    "# Display results\n",
    "print(\"Bias in sample means compared to population mean:\")\n",
    "for n, bias in bias_results.items():\n",
    "    print(f\"Sample size {n}: Bias = {bias:.2f}\")"
   ]
  },
  {
   "cell_type": "markdown",
   "metadata": {
    "id": "CIgOpKou4H58"
   },
   "source": [
    "<div dir=\"rtl\">  \n",
    "    <p dir=rtl style=\"direction: rtl; text-align: justify; line-height:200%; font-family:vazir; font-size:medium\">\n",
    "        <font face=\"vazir\" size=3>\n",
    "          در این مرحله تمام اطلاعات مفید و تقریبا پایداری که از پردازش‌های فوق کشف کردیم را در قالب یک دیتافریم ذخیره می‌کنیم\n",
    "        </font>\n",
    "    </p>\n",
    "</div>"
   ]
  },
  {
   "cell_type": "code",
   "execution_count": 74,
   "metadata": {
    "colab": {
     "base_uri": "https://localhost:8080/",
     "height": 238
    },
    "id": "PQWYxAYiIAQg",
    "outputId": "584ae477-d6f7-4b32-fd8f-6652ba6ee00e"
   },
   "outputs": [
    {
     "data": {
      "text/html": [
       "<div>\n",
       "<style scoped>\n",
       "    .dataframe tbody tr th:only-of-type {\n",
       "        vertical-align: middle;\n",
       "    }\n",
       "\n",
       "    .dataframe tbody tr th {\n",
       "        vertical-align: top;\n",
       "    }\n",
       "\n",
       "    .dataframe thead th {\n",
       "        text-align: right;\n",
       "    }\n",
       "</style>\n",
       "<table border=\"1\" class=\"dataframe\">\n",
       "  <thead>\n",
       "    <tr style=\"text-align: right;\">\n",
       "      <th></th>\n",
       "      <th>metric</th>\n",
       "      <th>value</th>\n",
       "    </tr>\n",
       "  </thead>\n",
       "  <tbody>\n",
       "    <tr>\n",
       "      <th>0</th>\n",
       "      <td>sample_mean_30</td>\n",
       "      <td>50.823667</td>\n",
       "    </tr>\n",
       "    <tr>\n",
       "      <th>1</th>\n",
       "      <td>sample_mean_50</td>\n",
       "      <td>50.801000</td>\n",
       "    </tr>\n",
       "    <tr>\n",
       "      <th>2</th>\n",
       "      <td>sample_mean_100</td>\n",
       "      <td>50.573400</td>\n",
       "    </tr>\n",
       "    <tr>\n",
       "      <th>3</th>\n",
       "      <td>bootstrap_CI_lower</td>\n",
       "      <td>48.154525</td>\n",
       "    </tr>\n",
       "    <tr>\n",
       "      <th>4</th>\n",
       "      <td>bootstrap_CI_upper</td>\n",
       "      <td>51.757317</td>\n",
       "    </tr>\n",
       "    <tr>\n",
       "      <th>5</th>\n",
       "      <td>population_mean</td>\n",
       "      <td>50.011355</td>\n",
       "    </tr>\n",
       "  </tbody>\n",
       "</table>\n",
       "</div>"
      ],
      "text/plain": [
       "               metric      value\n",
       "0      sample_mean_30  50.823667\n",
       "1      sample_mean_50  50.801000\n",
       "2     sample_mean_100  50.573400\n",
       "3  bootstrap_CI_lower  48.154525\n",
       "4  bootstrap_CI_upper  51.757317\n",
       "5     population_mean  50.011355"
      ]
     },
     "execution_count": 74,
     "metadata": {},
     "output_type": "execute_result"
    }
   ],
   "source": [
    "submission = {\n",
    "    \"metric\": [\n",
    "        \"sample_mean_30\",\n",
    "        \"sample_mean_50\",\n",
    "        \"sample_mean_100\",\n",
    "        \"bootstrap_CI_lower\",\n",
    "        \"bootstrap_CI_upper\",\n",
    "        \"population_mean\",\n",
    "    ],\n",
    "    \"value\": [\n",
    "        sample_means_sampling[\"sample_30_mean\"],\n",
    "        sample_means_sampling[\"sample_50_mean\"],\n",
    "        sample_means_sampling[\"sample_100_mean\"],\n",
    "        bootstrap_CI[0],\n",
    "        bootstrap_CI[1],\n",
    "        summary_statistics.loc['mean']['Weight'],\n",
    "    ]\n",
    "}\n",
    "\n",
    "submission_df = pd.DataFrame(submission)\n",
    "\n",
    "submission_df"
   ]
  },
  {
   "cell_type": "markdown",
   "metadata": {
    "id": "bWSM9FZU4bky"
   },
   "source": [
    "<div dir=\"rtl\">\n",
    "<h2 align=right style=\"line-height:200%;font-family:vazir;color:#0099cc\">\n",
    "<font face=\"vazir\" color=\"#0099cc\">\n",
    "<b>سلول جواب‌ساز</b>\n",
    "</font>\n",
    "</h2>\n",
    "</div>\n",
    "<p dir=rtl style=\"direction: rtl; text-align: justify; line-height:200%; font-family:vazir; font-size:medium\">\n",
    "<font face=\"vazir\" size=3>\n",
    "    برای ساخته‌شدن فایل <code>result.zip</code> سلول زیر را اجرا کنید. توجه داشته باشید که پیش از اجرای سلول زیر تغییرات اعمال شده در نت‌بوک را ذخیره کرده باشید (<code>ctrl+s</code>) تا در صورت نیاز به پشتیبانی امکان بررسی کد شما وجود داشته باشد.\n",
    "</font>\n",
    "</p>"
   ]
  },
  {
   "cell_type": "code",
   "execution_count": 75,
   "metadata": {
    "id": "nl5MQ8i6190S"
   },
   "outputs": [
    {
     "name": "stdout",
     "output_type": "stream",
     "text": [
      "File Paths:\n",
      "['submission.csv', 'Data_Espersso.ipynb']\n"
     ]
    }
   ],
   "source": [
    "import zipfile\n",
    "import joblib\n",
    "\n",
    "def compress(file_names):\n",
    "    print(\"File Paths:\")\n",
    "    print(file_names)\n",
    "    compression = zipfile.ZIP_DEFLATED\n",
    "    with zipfile.ZipFile(\"result.zip\", mode=\"w\") as zf:\n",
    "        for file_name in file_names:\n",
    "            zf.write('./' + file_name, file_name, compress_type=compression)\n",
    "\n",
    "submission_df.to_csv('submission.csv', index=False)\n",
    "\n",
    "file_names = [ 'submission.csv', 'Data_Espersso.ipynb']\n",
    "compress(file_names)"
   ]
  },
  {
   "cell_type": "markdown",
   "metadata": {},
   "source": [
    "<div dir=\"rtl\">  \n",
    "    <p dir=rtl style=\"direction: rtl; text-align: justify; line-height:200%; font-family:vazir; font-size:medium\">\n",
    "        <font face=\"vazir\" size=3>\n",
    "          حال که توانستیم مراحل به ترتیب اجرا کنیم و به مسئله پاسخ دهیم می‌توانیم پارامترها را تغییر دهیم و نتیجه حاصله از این تغییرات را مشاهده کنیم.\n",
    "        </font>\n",
    "    </p>\n",
    "</div>"
   ]
  }
 ],
 "metadata": {
  "colab": {
   "provenance": []
  },
  "kernelspec": {
   "display_name": "Python 3 (ipykernel)",
   "language": "python",
   "name": "python3"
  },
  "language_info": {
   "codemirror_mode": {
    "name": "ipython",
    "version": 3
   },
   "file_extension": ".py",
   "mimetype": "text/x-python",
   "name": "python",
   "nbconvert_exporter": "python",
   "pygments_lexer": "ipython3",
   "version": "3.10.0"
  }
 },
 "nbformat": 4,
 "nbformat_minor": 4
}
