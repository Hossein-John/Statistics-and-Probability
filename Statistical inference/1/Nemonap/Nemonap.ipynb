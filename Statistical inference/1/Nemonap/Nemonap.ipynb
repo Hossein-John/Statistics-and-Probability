{
 "cells": [
  {
   "cell_type": "markdown",
   "id": "d0528054-06f4-4cd9-b6d8-610853e9efa0",
   "metadata": {},
   "source": [
    "<h1 align=center style=\"line-height:200%;font-family:vazir;color:#0099cc\">\n",
    "<font face=\"vazir\" color=\"#0099cc\">\n",
    "آزمایشگاه آماری: نمونه‌گیری و محاسبه بایاس\n",
    "</font>\n",
    "</h1>\n",
    "\n",
    "\n",
    "<div dir=\"rtl\">\n",
    "    <p dir=rtl style=\"direction: rtl; text-align: justify; line-height:200%; font-family:vazir; font-size:medium\">\n",
    "        <font face=\"vazir\" size=3>\n",
    "            در دنیای امروز، علم آمار و احتمال نقش بسیار مهمی در تحلیل داده‌ها و تصمیم‌گیری‌های مبتنی بر داده ایفا می‌کند. از صنعت گرفته تا علوم پزشکی، اقتصاد، و حتی هوش مصنوعی، همه به نوعی به آمار وابسته هستند. در این تمرین، قصد داریم شما را با مفاهیم کلیدی <strong>نمونه‌گیری از جمعیت</strong> و <strong>محاسبه بایاس</strong> آشنا کنیم و به شما یاد بدهیم که چگونه از این مفاهیم در تحلیل داده‌های واقعی استفاده کنید.\n",
    "            <h4 align=right style=\"line-height:200%;font-family:vazir;color:#0099cc\">\n",
    "                <font face=\"vazir\" color=\"#0099cc\">\n",
    "                    هدف از تمرین:\n",
    "                </font>\n",
    "            </h4>\n",
    "            هدف اصلی این تمرین، آشنایی شما با مفاهیم آماری زیر است:<br>            \n",
    "            1. <strong>روش‌های نمونه‌گیری:</strong> یاد خواهید گرفت که چگونه از جمعیت کل، نمونه‌هایی استخراج کنید و تأثیر اندازه نمونه را بر نتایج آماری بررسی کنید.<br>\n",
    "            2. <strong>محاسبه بایاس:</strong> خواهید دید که چگونه اختلاف بین میانگین نمونه‌ها و میانگین جمعیت را محاسبه کنید و مفهوم بایاس را درک کنید.<br>\n",
    "            3. <strong>توزیع نمونه‌ها:</strong> بررسی خواهید کرد که چگونه توزیع نمونه‌ها به توزیع جمعیت اصلی نزدیک می‌شود.<br>\n",
    "            4. <strong>تأثیر اندازه نمونه:</strong> متوجه خواهید شد که چگونه افزایش اندازه نمونه بر دقت برآورد میانگین جمعیت تأثیر می‌گذارد.<br>            \n",
    "        </font>\n",
    "    </p>\n",
    "</div>\n"
   ]
  },
  {
   "cell_type": "code",
   "execution_count": 1,
   "id": "6e62266d-4faa-4c6f-afbb-2b7955b50992",
   "metadata": {},
   "outputs": [],
   "source": [
    "import numpy as np"
   ]
  },
  {
   "cell_type": "markdown",
   "id": "eca1455e-10d4-4b3d-bded-73addf7906f8",
   "metadata": {},
   "source": [
    "<div dir=\"rtl\">\n",
    "    <h2 align=right style=\"line-height:200%;font-family:vazir;color:#0099cc\">\n",
    "        <font face=\"vazir\" color=\"#0099cc\">\n",
    "            طراحی تابع generate_population\n",
    "        </font>\n",
    "    </h2>\n",
    "    <p dir=rtl style=\"direction: rtl; text-align: justify; line-height:200%; font-family:vazir; font-size:medium\">\n",
    "        <font face=\"vazir\" size=3>\n",
    "            این تابع برای ایجاد جمعیت‌های آماری بر اساس توزیع‌های مختلف طراحی شده است. با استفاده از این تابع می‌توانید داده‌های شبیه‌سازی شده برای سناریوهای مختلف آماری تولید کنید.\n",
    "            <h4 align=right style=\"line-height:200%;font-family:vazir;color:#0099cc\">\n",
    "                <font face=\"vazir\" color=\"#0099cc\">\n",
    "                    پارامترهای ورودی:\n",
    "                </font>\n",
    "            </h4>\n",
    "            - <strong>distribution (str):</strong> نوع توزیع آماری (پشتیبانی از مقادیر 'normal' و 'uniform')<br>\n",
    "            - <strong>params (dict):</strong> پارامترهای توزیع به صورت دیکشنری<br>\n",
    "            &nbsp;&nbsp;&nbsp;• برای توزیع نرمال: {'mean': μ, 'std': σ}<br>\n",
    "            &nbsp;&nbsp;&nbsp;• برای توزیع یکنواخت: {'low': حد پایین, 'high': حد بالا}<br>\n",
    "            - <strong>population_size (int):</strong> تعداد داده‌های مورد نیاز در جمعیت<br>\n",
    "            <h4 align=right style=\"line-height:200%;font-family:vazir;color:#0099cc\">\n",
    "                <font face=\"vazir\" color=\"#0099cc\">\n",
    "                    مثال کاربردی (مرحله ۱ تمرین):\n",
    "                </font>\n",
    "            </h4>\n",
    "        </font>\n",
    "    </p>\n",
    "</div>\n",
    "<div dir=\"ltr\">\n",
    "<pre>\n",
    "    <code>\n",
    "        # تولید داده‌های پایه<br>\n",
    "        base_population = generate_population(<br>\n",
    "            distribution=\"normal\",<br>\n",
    "            params={\"mean\": 50, \"std\": 5},<br>\n",
    "            population_size=1000<br>\n",
    "            )<br>\n",
    "            <br>\n",
    "    </code>\n",
    "</pre>\n",
    "    \n",
    "\n",
    "</div>"
   ]
  },
  {
   "cell_type": "code",
   "execution_count": 2,
   "id": "fa75a3c1-405c-4850-b476-a5fb06e5e672",
   "metadata": {},
   "outputs": [],
   "source": [
    "def generate_population(distribution, params, population_size):\n",
    "    if distribution == \"normal\":\n",
    "        return np.random.normal(params[\"mean\"], params[\"std\"], population_size)\n",
    "    elif distribution == \"uniform\":\n",
    "        return np.random.uniform(params['low'], params['high'], population_size)\n",
    "    else:\n",
    "        raise ValueError(\"Unsupported distribution type. use 'normal' or 'uniform'\")\n",
    "    "
   ]
  },
  {
   "cell_type": "markdown",
   "id": "33e5f574-4d1b-4999-aa04-620f8093cd81",
   "metadata": {},
   "source": [
    "<div dir=\"rtl\">\n",
    "    <h2 align=right style=\"line-height:200%;font-family:vazir;color:#0099cc\">\n",
    "        <font face=\"vazir\" color=\"#0099cc\">\n",
    "            طراحی تابع simple_random_sampling\n",
    "        </font>\n",
    "    </h2>\n",
    "    <p dir=rtl style=\"direction: rtl; text-align: justify; line-height:200%; font-family:vazir; font-size:medium\">\n",
    "        <font face=\"vazir\" size=3>\n",
    "            این تابع برای انجام نمونه‌گیری تصادفی ساده از یک جمعیت آماری طراحی شده است. با استفاده از این تابع می‌توانید چندین نمونه مستقل با اندازه مشخص از داده‌های اصلی استخراج کنید.\n",
    "            <h4 align=right style=\"line-height:200%;font-family:vazir;color:#0099cc\">\n",
    "                <font face=\"vazir\" color=\"#0099cc\">\n",
    "                    پارامترهای ورودی:\n",
    "                </font>\n",
    "            </h4>\n",
    "            - <strong>population (np.ndarray):</strong> آرایه NumPy حاوی داده‌های جمعیت اصلی<br>\n",
    "            - <strong>sample_size (int):</strong> تعداد اعضای هر نمونه<br>\n",
    "            - <strong>num_samples (int):</strong> تعداد نمونه‌های مورد نیاز<br>\n",
    "            <h4 align=right style=\"line-height:200%;font-family:vazir;color:#0099cc\">\n",
    "                <font face=\"vazir\" color=\"#0099cc\">\n",
    "                    ویژگی‌های طراحی:\n",
    "                </font>\n",
    "            </h4>\n",
    "            1. <strong>اعتبارسنجی ورودی:</strong> بررسی عدم تجاوز اندازه نمونه از اندازه جمعیت<br>\n",
    "            2. <strong>نمونه‌گیری بدون جایگذاری:</strong> استفاده از پارامتر <code>replace=False</code> در <code>np.random.choice</code><br>\n",
    "            3. <strong>سازماندهی داده‌ها:</strong> بازگرداندن نمونه‌ها به صورت آرایه دو بعدی (هر سطر = یک نمونه مستقل)<br>\n",
    "            <h4 align=right style=\"line-height:200%;font-family:vazir;color:#0099cc\">\n",
    "                <font face=\"vazir\" color=\"#0099cc\">\n",
    "                    مثال کاربردی:\n",
    "                </font>\n",
    "            </h4>\n",
    "        </font>\n",
    "    </p>\n",
    "</div>\n",
    "\n",
    "<div dir=\"ltr\">\n",
    "<pre>\n",
    "    <code>\n",
    "        # ایجاد جمعیت اولیه\n",
    "        population = generate_population(\n",
    "            distribution=\"normal\",\n",
    "            params={\"mean\": 50, \"std\": 5},\n",
    "            population_size=1000\n",
    "        )\n",
    "        # انجام نمونه‌گیری تصادفی\n",
    "        samples = simple_random_sampling(\n",
    "            population=population,\n",
    "            sample_size=100,\n",
    "            num_samples=50\n",
    "        )\n",
    "        print(f\"شکل خروجی: {samples.shape}\")  # خروجی: (50, 100)\n",
    "    </code>\n",
    "</pre>\n",
    "</div>"
   ]
  },
  {
   "cell_type": "code",
   "execution_count": 3,
   "id": "55c05bfd-beb3-49c1-90cc-f5547b8c4030",
   "metadata": {},
   "outputs": [],
   "source": [
    "def simple_random_sampling(population, sample_size, num_samples):\n",
    "    \n",
    "    if sample_size > len(population):\n",
    "        raise ValueError(\"sample size is bigger than population!\")\n",
    "        \n",
    "    else:\n",
    "        a = []\n",
    "        for i in range(num_samples):    \n",
    "            x = np.random.choice(population, sample_size, replace = False)\n",
    "            a.append(x)\n",
    "            \n",
    "    return np.array(a)\n",
    "    "
   ]
  },
  {
   "cell_type": "markdown",
   "id": "1e45fdb5-3153-410d-9be7-48c67d8fa4de",
   "metadata": {},
   "source": [
    "<div dir=\"rtl\">\n",
    "    <h2 align=right style=\"line-height:200%;font-family:vazir;color:#0099cc\">\n",
    "        <font face=\"vazir\" color=\"#0099cc\">\n",
    "            طراحی تابع calculate_bias\n",
    "        </font>\n",
    "    </h2>\n",
    "    <p dir=rtl style=\"direction: rtl; text-align: justify; line-height:200%; font-family:vazir; font-size:medium\">\n",
    "        <font face=\"vazir\" size=3>\n",
    "            این تابع برای محاسبه بایاس (سوگیری) بین میانگین نمونه‌های استخراج شده و میانگین واقعی جمعیت طراحی شده است. با استفاده از این تابع می‌توانید میزان انحراف سیستماتیک روش نمونه‌گیری خود را ارزیابی کنید.\n",
    "            <h4 align=right style=\"line-height:200%;font-family:vazir;color:#0099cc\">\n",
    "                <font face=\"vazir\" color=\"#0099cc\">\n",
    "                    پارامترهای ورودی:\n",
    "                </font>\n",
    "            </h4>\n",
    "            - <strong>population (np.ndarray):</strong> آرایه NumPy حاوی داده‌های جمعیت اصلی<br>\n",
    "            - <strong>samples (np.ndarray):</strong> آرایه دوبعدی NumPy حاوی نمونه‌های استخراج شده (هر سطر = یک نمونه)<br>            \n",
    "            <h4 align=right style=\"line-height:200%;font-family:vazir;color:#0099cc\">\n",
    "                <font face=\"vazir\" color=\"#0099cc\">\n",
    "                    ویژگی‌های طراحی:\n",
    "                </font>\n",
    "            </h4>\n",
    "            1. <strong>اعتبارسنجی اولیه:</strong> بررسی عدم خالی بودن آرایه نمونه‌ها<br>\n",
    "            2. <strong>محاسبات برداری:</strong> استفاده از عملیات برداری NumPy برای محاسبه سریع میانگین‌ها<br>\n",
    "            3. <strong>مدیریت ابعاد:</strong> محاسبه خودکار میانگین نمونه‌ها در امتداد محور مناسب (axis=1)<br>\n",
    "            <h4 align=right style=\"line-height:200%;font-family:vazir;color:#0099cc\">\n",
    "                <font face=\"vazir\" color=\"#0099cc\">\n",
    "                    مثال کاربردی:\n",
    "                </font>\n",
    "            </h4>\n",
    "        </font>\n",
    "    </p>\n",
    "</div>\n",
    "\n",
    "<div dir=\"ltr\">\n",
    "<pre>\n",
    "    <code>\n",
    "        # تولید جمعیت و نمونه‌ها\n",
    "        population = generate_population(\"normal\", {\"mean\": 50, \"std\": 5}, 1000)\n",
    "        samples = simple_random_sampling(population, 100, 50)\n",
    "        # محاسبه بایاس\n",
    "        bias = calculate_bias(population, samples)\n",
    "        print(f\"مقدار بایاس: {bias:.4f} گرم\")\n",
    "    </code>\n",
    "</pre>\n",
    "</div>\n",
    "\n",
    "<div dir=\"rtl\">\n",
    "    <p dir=rtl style=\"direction: rtl; text-align: justify; line-height:200%; font-family:vazir; font-size:medium\">\n",
    "        <font face=\"vazir\" size=3>\n",
    "            <h4 align=right style=\"line-height:200%;font-family:vazir;color:#0099cc\">\n",
    "                <font face=\"vazir\" color=\"#0099cc\">\n",
    "                    خروجی تابع:\n",
    "                </font>\n",
    "            </h4>\n",
    "            - مقدار عددی بایاس به صورت float<br>\n",
    "            - مقدار مثبت نشان‌دهنده بیش‌برآوردی و مقدار منفی نشان‌دهنده کم‌برآوردی میانگین نمونه‌هاست<br>\n",
    "        </font>\n",
    "    </p>\n",
    "</div>"
   ]
  },
  {
   "cell_type": "code",
   "execution_count": 4,
   "id": "8ce5a679-a190-41f0-b637-2987cb43a6a5",
   "metadata": {},
   "outputs": [],
   "source": [
    "def calculate_bias(population, samples):\n",
    "    if len(samples) == 0:\n",
    "        raise ValueError(\"samples are empty\")\n",
    "        \n",
    "    else:\n",
    "        samples_mean = samples.mean(axis = 1)\n",
    "        population_mean = population.mean()\n",
    "        bias = samples_mean.mean() - population_mean\n",
    "\n",
    "    return bias"
   ]
  },
  {
   "cell_type": "markdown",
   "id": "4adff259-c310-48ac-afa6-7e1c018ec13a",
   "metadata": {},
   "source": [
    "<div dir=\"rtl\">\n",
    "    <p dir=rtl style=\"direction: rtl; text-align: justify; line-height:200%; font-family:vazir; font-size:medium\">\n",
    "        <font face=\"vazir\" size=3>\n",
    "            در این بخش امتحان توابعی که پیاده‌سازی کردید خواهیم پرداخت\n",
    "        </font>\n",
    "    </p>\n",
    "</div>"
   ]
  },
  {
   "cell_type": "code",
   "execution_count": 5,
   "id": "401142e3-718e-49eb-b21c-5b3ab1e2688a",
   "metadata": {},
   "outputs": [
    {
     "name": "stdout",
     "output_type": "stream",
     "text": [
      "populatin mean: -0.026467503545465523\n",
      "Bias: -0.042080353764864506\n"
     ]
    }
   ],
   "source": [
    "population = generate_population(\"normal\", {\"mean\": 0, \"std\": 1}, 1000)\n",
    "samples = simple_random_sampling(population, 30, 100)\n",
    "bias = calculate_bias(population, samples)\n",
    "population_mean = population.mean()\n",
    "\n",
    "print(f\"populatin mean: {population_mean}\")\n",
    "print(f\"Bias: {bias}\")"
   ]
  },
  {
   "cell_type": "code",
   "execution_count": 6,
   "id": "d8b727a6-818a-4dac-9214-8badfb002bd9",
   "metadata": {},
   "outputs": [
    {
     "name": "stdout",
     "output_type": "stream",
     "text": [
      "Bias percent: 25.87%\n"
     ]
    }
   ],
   "source": [
    "sample_means = samples.mean(axis=1)\n",
    "std_of_sample_means = sample_means.std()\n",
    "bias_percent = abs(bias / std_of_sample_means) * 100\n",
    "print(f\"Bias percent: {bias_percent:.2f}%\")\n"
   ]
  },
  {
   "cell_type": "markdown",
   "id": "e0df4ee0-1610-4e49-aa2a-52596af45804",
   "metadata": {},
   "source": [
    "<div dir=\"rtl\">\n",
    "    <h3 align=right style=\"line-height:200%;font-family:vazir;color:#0099cc\">\n",
    "        <font face=\"vazir\" color=\"#0099cc\">\n",
    "            تهیه فایل حاوی توابع\n",
    "        </font>\n",
    "    </h3>\n",
    "    <p dir=rtl style=\"direction: rtl; text-align: justify; line-height:200%; font-family:vazir; font-size:medium\">\n",
    "        <font face=\"vazir\" size=3>\n",
    "            در این بخش، ما به صورت خودکار تمام توابع پیاده‌سازی‌شده را در یک فایل پایتون جداگانه به نام <code>solution_functions.py</code> ذخیره کرده‌ایم. این کار با استفاده از ماژول <code>inspect</code> انجام شده است، به طوری که کد منبع هر تابع استخراج و به فایل مربوطه اضافه شده است.\n",
    "            <br>\n",
    "            هدف از این مرحله، سازماندهی بهتر کد و امکان استفاده مجدد از توابع در پروژه‌های دیگر است. فایل تهیه‌شده حاوی تمام توابع مورد نیاز (مانند <code>generate_population</code>, <code>simple_random_sampling</code> و <code>calculate_bias</code>) است و آماده استفاده می‌باشد.\n",
    "            <br>\n",
    "            بنابراین، شما می‌توانید از این فایل در برنامه‌های بعدی خود استفاده کنید (بدون نیاز مجدد به پیاده‌سازی توابع).\n",
    "        </font>\n",
    "    </p>\n",
    "</div>"
   ]
  },
  {
   "cell_type": "code",
   "execution_count": 7,
   "id": "ef44090a-e2f5-4dd7-ac9c-9efc932f4882",
   "metadata": {},
   "outputs": [],
   "source": [
    "import inspect\n",
    "\n",
    "# Save the functions to a .py file\n",
    "with open(\"solution_functions.py\", \"w\", encoding=\"utf-8\") as f:\n",
    "    f.write(\"import numpy as np\\n\")\n",
    "    f.write(inspect.getsource(generate_population))\n",
    "    f.write(\"\\n\")  # Add newline for readability\n",
    "    f.write(inspect.getsource(simple_random_sampling))\n",
    "    f.write(\"\\n\")  # Add newline for readability\n",
    "    f.write(inspect.getsource(calculate_bias))\n"
   ]
  },
  {
   "cell_type": "markdown",
   "id": "15a00d93-6a3d-45d7-a892-a4c34ebfdfde",
   "metadata": {},
   "source": [
    "<div dir=\"rtl\">\n",
    "<h2 align=right style=\"line-height:200%;font-family:vazir;color:#0099cc\">\n",
    "<font face=\"vazir\" color=\"#0099cc\">\n",
    "<b>سلول جواب‌ساز</b>\n",
    "</font>\n",
    "</h2>\n",
    "</div>\n",
    "<p dir=rtl style=\"direction: rtl; text-align: justify; line-height:200%; font-family:vazir; font-size:medium\">\n",
    "<font face=\"vazir\" size=3>\n",
    "    برای ساخته‌شدن فایل <code>result.zip</code> سلول زیر را اجرا کنید. توجه داشته باشید که پیش از اجرای سلول زیر تغییرات اعمال شده در نت‌بوک را ذخیره کرده باشید (<code>ctrl+s</code>) تا در صورت نیاز به پشتیبانی امکان بررسی کد شما وجود داشته باشد.\n",
    "</font>\n",
    "</p>"
   ]
  },
  {
   "cell_type": "code",
   "execution_count": 10,
   "id": "555d0fe4-a788-4226-8e56-9410115c05c9",
   "metadata": {},
   "outputs": [
    {
     "name": "stdout",
     "output_type": "stream",
     "text": [
      "File Paths:\n",
      "['solution_functions.py']\n"
     ]
    }
   ],
   "source": [
    "import zipfile\n",
    "import joblib\n",
    "\n",
    "def compress(file_names):\n",
    "    print(\"File Paths:\")\n",
    "    print(file_names)\n",
    "    compression = zipfile.ZIP_DEFLATED\n",
    "    with zipfile.ZipFile(\"result.zip\", mode=\"w\") as zf:\n",
    "        for file_name in file_names:\n",
    "            zf.write('./' + file_name, file_name, compress_type=compression)\n",
    "\n",
    "file_names = ['solution_functions.py']  # فایل .ipynb حذف شد\n",
    "compress(file_names)\n"
   ]
  },
  {
   "cell_type": "code",
   "execution_count": null,
   "id": "7e81e912-b4e2-40e1-ba80-a25da49efb43",
   "metadata": {},
   "outputs": [],
   "source": []
  }
 ],
 "metadata": {
  "kernelspec": {
   "display_name": "Python 3 (ipykernel)",
   "language": "python",
   "name": "python3"
  },
  "language_info": {
   "codemirror_mode": {
    "name": "ipython",
    "version": 3
   },
   "file_extension": ".py",
   "mimetype": "text/x-python",
   "name": "python",
   "nbconvert_exporter": "python",
   "pygments_lexer": "ipython3",
   "version": "3.10.0"
  }
 },
 "nbformat": 4,
 "nbformat_minor": 5
}
