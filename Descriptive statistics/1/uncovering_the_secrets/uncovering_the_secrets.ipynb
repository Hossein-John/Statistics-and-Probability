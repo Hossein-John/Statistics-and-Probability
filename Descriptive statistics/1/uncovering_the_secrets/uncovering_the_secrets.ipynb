{
 "cells": [
  {
   "cell_type": "markdown",
   "metadata": {},
   "source": [
    "<h1 align=center style=\"line-height:200%;font-family:vazir;color:#0099cc\">\n",
    "<font face=\"vazir\" color=\"#0099cc\">\n",
    "    مأموریت اول: کشف اسرار شهر داده‌ها\n",
    "</font>\n",
    "</h1>"
   ]
  },
  {
   "cell_type": "markdown",
   "metadata": {},
   "source": [
    "<p dir=rtl style=\"direction: rtl;text-align: right;line-height:200%;font-family:vazir;font-size:medium\">\n",
    "<font face=\"vazir\" size=3>\n",
    "شهر داده‌ها پر از اطلاعات و اسرار پنهان است. شما مأموریت دارید که رازهای این شهر را کشف کنید. برای این کار، باید روی داده‌های جمع‌آوری‌شده از ساکنان شهر کار کنید و الگوهای پنهان را بیابید.\n",
    "</font>\n",
    "</p>"
   ]
  },
  {
   "cell_type": "markdown",
   "metadata": {},
   "source": [
    "   \n",
    "<h2 align=right style=\"line-height:200%;font-family:vazir;color:#0099cc\">\n",
    "<font face=\"vazir\" color=\"#0099cc\">\n",
    "کتابخانه‌ها\n",
    "</font>\n",
    "</h2>\n",
    "\n",
    "<p dir=rtl style=\"direction: rtl;text-align: right;line-height:200%;font-family:vazir;font-size:medium\">\n",
    "<font face=\"vazir\" size=3>\n",
    "       ابتدا کتابخانه‌های مورد نیاز خود را فرا بخوانید.\n",
    "</font>\n",
    "</p>"
   ]
  },
  {
   "cell_type": "code",
   "execution_count": 1,
   "metadata": {},
   "outputs": [],
   "source": [
    "# import libraries\n",
    "import numpy as np\n",
    "import pandas as pd"
   ]
  },
  {
   "cell_type": "markdown",
   "metadata": {},
   "source": [
    "<h2 align=right style=\"line-height:200%;font-family:vazir;color:#0099cc\">\n",
    "<font face=\"vazir\" color=\"#0099cc\"> مرحله اول: مجموعه داده\n",
    "    </font>\n",
    "</h2>"
   ]
  },
  {
   "cell_type": "markdown",
   "metadata": {},
   "source": [
    "<p dir=rtl style=\"direction: rtl;text-align: justify;line-height:200%;font-family:vazir;font-size:medium\">\n",
    "<font face=\"vazir\" size=3>\n",
    "در فایل <code>students_performance.csv</code> اطلاعات مربوط به عملکرد دانش‌آموزان در اختیار شما گرفته است.  با استفاده از ‍<code>Pandas</code> آن را بارگذاری کنید و سپس نگاهی به آن بیندازید.\n",
    "</font>\n",
    "</p>"
   ]
  },
  {
   "cell_type": "code",
   "execution_count": 2,
   "metadata": {},
   "outputs": [
    {
     "data": {
      "text/html": [
       "<div>\n",
       "<style scoped>\n",
       "    .dataframe tbody tr th:only-of-type {\n",
       "        vertical-align: middle;\n",
       "    }\n",
       "\n",
       "    .dataframe tbody tr th {\n",
       "        vertical-align: top;\n",
       "    }\n",
       "\n",
       "    .dataframe thead th {\n",
       "        text-align: right;\n",
       "    }\n",
       "</style>\n",
       "<table border=\"1\" class=\"dataframe\">\n",
       "  <thead>\n",
       "    <tr style=\"text-align: right;\">\n",
       "      <th></th>\n",
       "      <th>student name</th>\n",
       "      <th>reading score</th>\n",
       "      <th>math score</th>\n",
       "      <th>writing score</th>\n",
       "    </tr>\n",
       "  </thead>\n",
       "  <tbody>\n",
       "    <tr>\n",
       "      <th>0</th>\n",
       "      <td>Melanie</td>\n",
       "      <td>58</td>\n",
       "      <td>49</td>\n",
       "      <td>25</td>\n",
       "    </tr>\n",
       "    <tr>\n",
       "      <th>1</th>\n",
       "      <td>Gabriella</td>\n",
       "      <td>45</td>\n",
       "      <td>72</td>\n",
       "      <td>88</td>\n",
       "    </tr>\n",
       "    <tr>\n",
       "      <th>2</th>\n",
       "      <td>Ashley</td>\n",
       "      <td>46</td>\n",
       "      <td>27</td>\n",
       "      <td>22</td>\n",
       "    </tr>\n",
       "    <tr>\n",
       "      <th>3</th>\n",
       "      <td>James</td>\n",
       "      <td>84</td>\n",
       "      <td>2</td>\n",
       "      <td>77</td>\n",
       "    </tr>\n",
       "    <tr>\n",
       "      <th>4</th>\n",
       "      <td>William</td>\n",
       "      <td>69</td>\n",
       "      <td>35</td>\n",
       "      <td>26</td>\n",
       "    </tr>\n",
       "  </tbody>\n",
       "</table>\n",
       "</div>"
      ],
      "text/plain": [
       "  student name  reading score  math score  writing score\n",
       "0      Melanie             58          49             25\n",
       "1    Gabriella             45          72             88\n",
       "2       Ashley             46          27             22\n",
       "3        James             84           2             77\n",
       "4      William             69          35             26"
      ]
     },
     "execution_count": 2,
     "metadata": {},
     "output_type": "execute_result"
    }
   ],
   "source": [
    "# TODO: read the dataset\n",
    "df = pd.read_csv(\"students_performance.csv\")\n",
    "df.head()"
   ]
  },
  {
   "cell_type": "markdown",
   "metadata": {},
   "source": [
    "<h2 align=right style=\"line-height:200%;font-family:vazir;color:#0099cc\">\n",
    "<font face=\"vazir\" color=\"#0099cc\"> مرحله دوم: تحلیل شاخص‌های مرکزی\n",
    "    </font>\n",
    "</h2>"
   ]
  },
  {
   "cell_type": "markdown",
   "metadata": {},
   "source": [
    "<p dir=rtl style=\"direction: rtl;text-align: right;line-height:200%;font-family:vazir;font-size:medium\">\n",
    "<font face=\"vazir\" size=3>\n",
    "       📌 چالش: شهردار شهر داده‌ها می‌خواهد بداند میانگین، میانه و مد نمرات دانش‌آموزان در درس‌های مختلف چقدر است. شما باید این شاخص‌های مرکزی را محاسبه کنید.\n",
    "</font>\n",
    "</p>\n",
    "\n",
    "<p dir=rtl style=\"direction: rtl;text-align: right;line-height:200%;font-family:vazir;font-size:medium\">\n",
    "<font face=\"vazir\" size=3>\n",
    "      🔎 دستورالعمل: میانگین (mean)، میانه (median) و مد (mode) نمرات درس‌های ریاضی، خواندن و نوشتن را محاسبه کنید. نتایج را داخل سه دیکشنری ذخیره کنید.\n",
    "      کلید دیکشنری‌ها باید مطابق با نام درس‌ها که در داخل لیست <code>subjects</code> هستند، باشد.\n",
    "</font>\n",
    "</p>\n",
    "\n",
    "<p dir=rtl style=\"direction: rtl;text-align: right;line-height:200%;font-family:vazir;font-size:medium\">\n",
    "<font face=\"vazir\" size=3>\n",
    "     نکات بسیار مهم: پس از محاسبه مقادیر، آن‌ها را تا دو رقم اعشار گرد کنید. در صورتی که بیش از یک مد وجود داشت، فقط اولین مقدار را در نظر بگیرید.\n",
    "</font>\n",
    "</p>\n",
    "\n",
    "<p dir=rtl style=\"direction: rtl;text-align: right;line-height:200%;font-family:vazir;font-size:medium\">\n",
    "<font face=\"vazir\" size=3>\n",
    "    برای مثال: (اعداد کاملا فرضی هستند)\n",
    "</font>\n",
    "</p>"
   ]
  },
  {
   "cell_type": "markdown",
   "metadata": {},
   "source": [
    "<p dir=rtl style=\"direction: ltr;text-align: left;line-height:200%;font-family:vazir;font-size:medium\">\n",
    "<font face=\"vazir\" size=3>\n",
    "     <code> {\"math score\": 70.35, \"reading score\": 86.02, \"writing score\": 53.90} </code>\n",
    "</font>\n",
    "</p>"
   ]
  },
  {
   "cell_type": "code",
   "execution_count": 3,
   "metadata": {},
   "outputs": [],
   "source": [
    "# TODO: calculate mean, median, and mode for each subject\n",
    "\n",
    "subjects = [\"math score\", \"reading score\", \"writing score\"]\n",
    "\n",
    "mean_math = round(df[\"math score\"].mean(), 2)\n",
    "mean_reading = round(df[\"reading score\"].mean(), 2)\n",
    "mean_writing = round(df[\"writing score\"].mean(), 2)\n",
    "\n",
    "median_math = round(df[\"math score\"].median(), 2)\n",
    "median_reading = round(df[\"reading score\"].median(), 2)\n",
    "median_writing = round(df[\"writing score\"].median(), 2)\n",
    "\n",
    "mode_math = round(df[\"math score\"].mode()[0], 2)\n",
    "mode_reading = round(df[\"reading score\"].mode()[0], 2)\n",
    "mode_writing = round(df[\"writing score\"].mode()[0], 2)\n",
    "\n",
    "mean_val = {\"math score\" : mean_math, \"reading score\" : mean_reading, \"writing score\" : mean_writing}\n",
    "median_val = {\"math score\" : median_math, \"reading score\" : median_reading, \"writing score\" : median_writing}\n",
    "mode_val = {\"math score\" : mode_math, \"reading score\" : mode_reading, \"writing score\" : mode_writing}\n"
   ]
  },
  {
   "cell_type": "markdown",
   "metadata": {},
   "source": [
    "<h2 align=right style=\"line-height:200%;font-family:vazir;color:#0099cc\">\n",
    "<font face=\"vazir\" color=\"#0099cc\"> مرحله سوم: بررسی پراکندگی داده‌ها\n",
    "    </font>\n",
    "</h2>"
   ]
  },
  {
   "cell_type": "markdown",
   "metadata": {},
   "source": [
    "<p dir=rtl style=\"direction: rtl;text-align: right;line-height:200%;font-family:vazir;font-size:medium\">\n",
    "<font face=\"vazir\" size=3>\n",
    "       📌 چالش: استاد آمار دانشگاه شهر داده‌ها نگران است که برخی دانش‌آموزان نمرات خیلی پایین یا خیلی بالا دارند. شما باید با بررسی شاخص‌های پراکندگی، میزان تغییرات نمرات را بسنجید.\n",
    "</font>\n",
    "</p>\n",
    "\n",
    "<p dir=rtl style=\"direction: rtl;text-align: right;line-height:200%;font-family:vazir;font-size:medium\">\n",
    "<font face=\"vazir\" size=3>\n",
    "      🔎 دستورالعمل: واریانس (variance) و انحراف معیار (standard deviation) را برای هر سه درس محاسبه کنید.  مقدار برد (Range) را هم مشخص کنید. نتایج را داخل سه دیکشنری ذخیره کنید.\n",
    "      کلید دیکشنری‌ها باید مطابق با نام درس‌ها که در داخل لیست <code>subjects</code> هستند، باشد.\n",
    "</font>\n",
    "</p>\n",
    "\n",
    "<p dir=rtl style=\"direction: rtl;text-align: right;line-height:200%;font-family:vazir;font-size:medium\">\n",
    "<font face=\"vazir\" size=3>\n",
    "     نکته بسیار مهم: پس از محاسبه مقادیر، آن‌ها را تا دو رقم اعشار گرد کنید.\n",
    "</font>\n",
    "</p>\n"
   ]
  },
  {
   "cell_type": "code",
   "execution_count": 4,
   "metadata": {},
   "outputs": [],
   "source": [
    "# TODO: calculate variance and standard deviation for each subject\n",
    "\n",
    "variance_val = {subjects : round(df[subjects].var(ddof = 0),2) for subjects in subjects}\n",
    "std_val = {subjects : round(df[subjects].std(ddof = 0),2) for subjects in subjects}\n",
    "range_val = {subjects : round(df[subjects].max() - df[subjects].min(), 2) for subjects in subjects}"
   ]
  },
  {
   "cell_type": "markdown",
   "metadata": {},
   "source": [
    "<p dir=rtl style=\"direction: rtl;text-align: right;line-height:200%;font-family:vazir;font-size:medium\">\n",
    "<font face=\"vazir\" size=3>\n",
    "     راهنمایی: مقدار برد هر درس، از تفاضل بیشترین نمره با کمترین نمره آن حاصل می‌شود.\n",
    "</font>\n",
    "</p>"
   ]
  },
  {
   "cell_type": "markdown",
   "metadata": {},
   "source": [
    "<h2 align=right style=\"line-height:200%;font-family:vazir;color:#0099cc\">\n",
    "<font face=\"vazir\" color=\"#0099cc\"> مرحله چهارم: تحلیل چندک‌ها و آستانه‌های عملکرد\n",
    "    </font>\n",
    "</h2>"
   ]
  },
  {
   "cell_type": "markdown",
   "metadata": {},
   "source": [
    "<p dir=rtl style=\"direction: rtl;text-align: right;line-height:200%;font-family:vazir;font-size:medium\">\n",
    "<font face=\"vazir\" size=3>\n",
    "     📌 چالش: مدیر مدرسه شهر داده‌ها می‌خواهد بداند چند درصد از دانش‌آموزان عملکرد ضعیف، متوسط یا عالی دارند. شما باید با محاسبه چندک‌ها (quartiles)، مرز این دسته‌بندی‌ها را پیدا کنید.\n",
    "</font>\n",
    "</p>\n",
    "\n",
    "<p dir=rtl style=\"direction: rtl;text-align: right;line-height:200%;font-family:vazir;font-size:medium\">\n",
    "<font face=\"vazir\" size=3>\n",
    "     🔎 دستورالعمل: برای اینکار ابتدا میانگین نمرات هر شخص را محاسبه کنید و در ستونی به اسم<code>total score</code> قرار دهید، سپس چندک اول (Q1)، چندک سوم (Q3) و <i>IQR</i> را محاسبه کنید.\n",
    "تحلیل کنید که چند درصد از دانش‌آموزان عملکردی کمتر از <i>Q1</i>، بین <i>Q1</i> و <i>Q3</i>، و بالاتر از <i>Q3</i> دارند.\n",
    "</font>\n",
    "</p>"
   ]
  },
  {
   "cell_type": "code",
   "execution_count": 5,
   "metadata": {},
   "outputs": [
    {
     "data": {
      "text/html": [
       "<div>\n",
       "<style scoped>\n",
       "    .dataframe tbody tr th:only-of-type {\n",
       "        vertical-align: middle;\n",
       "    }\n",
       "\n",
       "    .dataframe tbody tr th {\n",
       "        vertical-align: top;\n",
       "    }\n",
       "\n",
       "    .dataframe thead th {\n",
       "        text-align: right;\n",
       "    }\n",
       "</style>\n",
       "<table border=\"1\" class=\"dataframe\">\n",
       "  <thead>\n",
       "    <tr style=\"text-align: right;\">\n",
       "      <th></th>\n",
       "      <th>student name</th>\n",
       "      <th>reading score</th>\n",
       "      <th>math score</th>\n",
       "      <th>writing score</th>\n",
       "      <th>total score</th>\n",
       "    </tr>\n",
       "  </thead>\n",
       "  <tbody>\n",
       "    <tr>\n",
       "      <th>0</th>\n",
       "      <td>Melanie</td>\n",
       "      <td>58</td>\n",
       "      <td>49</td>\n",
       "      <td>25</td>\n",
       "      <td>44.000000</td>\n",
       "    </tr>\n",
       "    <tr>\n",
       "      <th>1</th>\n",
       "      <td>Gabriella</td>\n",
       "      <td>45</td>\n",
       "      <td>72</td>\n",
       "      <td>88</td>\n",
       "      <td>68.333333</td>\n",
       "    </tr>\n",
       "    <tr>\n",
       "      <th>2</th>\n",
       "      <td>Ashley</td>\n",
       "      <td>46</td>\n",
       "      <td>27</td>\n",
       "      <td>22</td>\n",
       "      <td>31.666667</td>\n",
       "    </tr>\n",
       "    <tr>\n",
       "      <th>3</th>\n",
       "      <td>James</td>\n",
       "      <td>84</td>\n",
       "      <td>2</td>\n",
       "      <td>77</td>\n",
       "      <td>54.333333</td>\n",
       "    </tr>\n",
       "    <tr>\n",
       "      <th>4</th>\n",
       "      <td>William</td>\n",
       "      <td>69</td>\n",
       "      <td>35</td>\n",
       "      <td>26</td>\n",
       "      <td>43.333333</td>\n",
       "    </tr>\n",
       "  </tbody>\n",
       "</table>\n",
       "</div>"
      ],
      "text/plain": [
       "  student name  reading score  math score  writing score  total score\n",
       "0      Melanie             58          49             25    44.000000\n",
       "1    Gabriella             45          72             88    68.333333\n",
       "2       Ashley             46          27             22    31.666667\n",
       "3        James             84           2             77    54.333333\n",
       "4      William             69          35             26    43.333333"
      ]
     },
     "execution_count": 5,
     "metadata": {},
     "output_type": "execute_result"
    }
   ],
   "source": [
    "# TODO: calculate total score for each student\n",
    "df[\"total score\"] = df.drop(columns =  \"student name\").mean(axis = 1)\n",
    "    \n",
    "df.head()"
   ]
  },
  {
   "cell_type": "code",
   "execution_count": 6,
   "metadata": {},
   "outputs": [
    {
     "name": "stdout",
     "output_type": "stream",
     "text": [
      "39.0\n",
      "58.25\n",
      "19.25\n"
     ]
    }
   ],
   "source": [
    "# TODO: calculate Q1, Q3, and IQR for total score \n",
    "\n",
    "Q1 = df['total score'].quantile(0.25)\n",
    "Q3 = df['total score'].quantile(0.75)\n",
    "IQR = Q3 - Q1\n",
    "print(Q1)\n",
    "print(Q3)\n",
    "print(IQR)"
   ]
  },
  {
   "cell_type": "markdown",
   "metadata": {},
   "source": [
    "<p dir=rtl style=\"direction: rtl;text-align: right;line-height:200%;font-family:vazir;font-size:medium\">\n",
    "<font face=\"vazir\" size=3>\n",
    "     نکته: پس از محاسبه درصدها، آن‌ها را تا دو رقم اعشار گرد کنید.\n",
    "</font>\n",
    "</p>"
   ]
  },
  {
   "cell_type": "code",
   "execution_count": 7,
   "metadata": {},
   "outputs": [
    {
     "name": "stdout",
     "output_type": "stream",
     "text": [
      "24.4\n",
      "50.4\n",
      "25.2\n"
     ]
    }
   ],
   "source": [
    "total_students = len(df)\n",
    "\n",
    "less_than_Q1 = round((df[\"total score\"] < Q1).sum() / total_students * 100, 2)\n",
    "between_Q1_Q3 = round(((df[\"total score\"] >= Q1) & (df[\"total score\"] <= Q3)).sum() / total_students * 100, 2)\n",
    "more_than_Q3 = round((df[\"total score\"] > Q3).sum() / total_students * 100, 2)\n",
    "\n",
    "print(less_than_Q1)\n",
    "print(between_Q1_Q3)\n",
    "print(more_than_Q3)"
   ]
  },
  {
   "cell_type": "markdown",
   "metadata": {},
   "source": [
    "<h2 align=right style=\"line-height:200%;font-family:vazir;color:#0099cc\">\n",
    "<font face=\"vazir\" color=\"#0099cc\">\n",
    "<b>سلول جواب‌ساز</b>\n",
    "</font>\n",
    "</h2>\n",
    "\n",
    "\n",
    "<p dir=rtl style=\"direction: rtl; text-align: justify; line-height:200%; font-family:vazir; font-size:medium\">\n",
    "<font face=\"vazir\" size=3>\n",
    "    برای ساخته‌شدن فایل <code>result.zip</code> سلول زیر را اجرا کنید. توجه داشته باشید که پیش از اجرای سلول زیر تغییرات اعمال‌شده در نت‌بوک را ذخیره کرده باشید (<code>ctrl+s</code>) تا در صورت نیاز به پشتیبانی امکان بررسی کد شما وجود داشته باشد.\n",
    "</font>\n",
    "</p>"
   ]
  },
  {
   "cell_type": "code",
   "execution_count": 8,
   "metadata": {},
   "outputs": [
    {
     "name": "stdout",
     "output_type": "stream",
     "text": [
      "File Paths:\n",
      "['mean_val.json', 'median_val.json', 'mode_val.json', 'variance_val.json', 'std_val.json', 'range_val.json', 'less_than_Q1', 'between_Q1_Q3', 'more_than_Q3', 'total score.csv', 'Q1', 'Q3', 'IQR', 'uncovering_the_secrets.ipynb']\n"
     ]
    }
   ],
   "source": [
    "import zipfile\n",
    "import joblib\n",
    "import json\n",
    "\n",
    "def convert_numpy_types(data):\n",
    "    if isinstance(data, dict):\n",
    "        return {k: convert_numpy_types(v) for k, v in data.items()}\n",
    "    elif isinstance(data, list):\n",
    "        return [convert_numpy_types(v) for v in data]\n",
    "    elif isinstance(data, np.generic):\n",
    "        return data.item()\n",
    "    else:\n",
    "        return data\n",
    "\n",
    "descriptive_stats = ['mean_val', 'median_val', 'mode_val', 'variance_val', 'std_val', 'range_val']\n",
    "for stat in descriptive_stats:\n",
    "    with open(stat + '.json', 'w') as f:\n",
    "        json.dump(convert_numpy_types(eval(stat)), f, ensure_ascii=False, indent=4)\n",
    "\n",
    "df['total score'].to_csv('total score.csv', index=False)\n",
    "\n",
    "joblib.dump(Q1, \"Q1\")\n",
    "joblib.dump(Q3, \"Q3\")\n",
    "joblib.dump(IQR, \"IQR\")\n",
    "joblib.dump(less_than_Q1, \"less_than_Q1\")\n",
    "joblib.dump(between_Q1_Q3, \"between_Q1_Q3\")\n",
    "joblib.dump(more_than_Q3, \"more_than_Q3\")\n",
    "\n",
    "notebook_path = 'uncovering_the_secrets.ipynb'\n",
    "\n",
    "def compress(file_names):\n",
    "    print(\"File Paths:\")\n",
    "    print(file_names)\n",
    "    # Select the compression mode ZIP_DEFLATED for compression\n",
    "    # or zipfile.ZIP_STORED to just store the file\n",
    "    compression = zipfile.ZIP_DEFLATED\n",
    "    # create the zip file first parameter path/name, second mode\n",
    "    with zipfile.ZipFile(\"result.zip\", mode=\"w\") as zf:\n",
    "        for file_name in file_names:\n",
    "            # Add file to the zip file\n",
    "            # first parameter file to zip, second filename in zip\n",
    "            zf.write('./' + file_name, file_name, compress_type=compression)\n",
    "\n",
    "file_names = ['mean_val.json', 'median_val.json', 'mode_val.json',\n",
    "             'variance_val.json', 'std_val.json', 'range_val.json', \n",
    "             'less_than_Q1', 'between_Q1_Q3', 'more_than_Q3',\n",
    "             'total score.csv', 'Q1', 'Q3', 'IQR', notebook_path]\n",
    "compress(file_names)"
   ]
  }
 ],
 "metadata": {
  "kernelspec": {
   "display_name": "Python 3 (ipykernel)",
   "language": "python",
   "name": "python3"
  },
  "language_info": {
   "codemirror_mode": {
    "name": "ipython",
    "version": 3
   },
   "file_extension": ".py",
   "mimetype": "text/x-python",
   "name": "python",
   "nbconvert_exporter": "python",
   "pygments_lexer": "ipython3",
   "version": "3.10.0"
  }
 },
 "nbformat": 4,
 "nbformat_minor": 4
}
